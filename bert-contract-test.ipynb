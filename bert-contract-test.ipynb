{
  "nbformat": 4,
  "nbformat_minor": 0,
  "metadata": {
    "colab": {
      "name": "AE-rec-baseline のコピー",
      "provenance": [],
      "collapsed_sections": []
    },
    "kernelspec": {
      "display_name": "Python 3",
      "name": "python3"
    },
    "accelerator": "GPU"
  },
  "cells": [
    {
      "cell_type": "code",
      "metadata": {
        "id": "Dr5BhKlDpyei",
        "colab": {
          "base_uri": "https://localhost:8080/"
        },
        "outputId": "bcf1e2aa-e7b0-4fd4-a36b-b65f38d9c31a"
      },
      "source": [
        "!pip install --upgrade gspread"
      ],
      "execution_count": 66,
      "outputs": [
        {
          "output_type": "stream",
          "text": [
            "Requirement already up-to-date: gspread in /usr/local/lib/python3.7/dist-packages (3.7.0)\n",
            "Requirement already satisfied, skipping upgrade: google-auth>=1.12.0 in /usr/local/lib/python3.7/dist-packages (from gspread) (1.31.0)\n",
            "Requirement already satisfied, skipping upgrade: google-auth-oauthlib>=0.4.1 in /usr/local/lib/python3.7/dist-packages (from gspread) (0.4.4)\n",
            "Requirement already satisfied, skipping upgrade: pyasn1-modules>=0.2.1 in /usr/local/lib/python3.7/dist-packages (from google-auth>=1.12.0->gspread) (0.2.8)\n",
            "Requirement already satisfied, skipping upgrade: setuptools>=40.3.0 in /usr/local/lib/python3.7/dist-packages (from google-auth>=1.12.0->gspread) (57.0.0)\n",
            "Requirement already satisfied, skipping upgrade: cachetools<5.0,>=2.0.0 in /usr/local/lib/python3.7/dist-packages (from google-auth>=1.12.0->gspread) (4.2.2)\n",
            "Requirement already satisfied, skipping upgrade: six>=1.9.0 in /usr/local/lib/python3.7/dist-packages (from google-auth>=1.12.0->gspread) (1.15.0)\n",
            "Requirement already satisfied, skipping upgrade: rsa<5,>=3.1.4; python_version >= \"3.6\" in /usr/local/lib/python3.7/dist-packages (from google-auth>=1.12.0->gspread) (4.7.2)\n",
            "Requirement already satisfied, skipping upgrade: requests-oauthlib>=0.7.0 in /usr/local/lib/python3.7/dist-packages (from google-auth-oauthlib>=0.4.1->gspread) (1.3.0)\n",
            "Requirement already satisfied, skipping upgrade: pyasn1<0.5.0,>=0.4.6 in /usr/local/lib/python3.7/dist-packages (from pyasn1-modules>=0.2.1->google-auth>=1.12.0->gspread) (0.4.8)\n",
            "Requirement already satisfied, skipping upgrade: requests>=2.0.0 in /usr/local/lib/python3.7/dist-packages (from requests-oauthlib>=0.7.0->google-auth-oauthlib>=0.4.1->gspread) (2.23.0)\n",
            "Requirement already satisfied, skipping upgrade: oauthlib>=3.0.0 in /usr/local/lib/python3.7/dist-packages (from requests-oauthlib>=0.7.0->google-auth-oauthlib>=0.4.1->gspread) (3.1.1)\n",
            "Requirement already satisfied, skipping upgrade: urllib3!=1.25.0,!=1.25.1,<1.26,>=1.21.1 in /usr/local/lib/python3.7/dist-packages (from requests>=2.0.0->requests-oauthlib>=0.7.0->google-auth-oauthlib>=0.4.1->gspread) (1.24.3)\n",
            "Requirement already satisfied, skipping upgrade: chardet<4,>=3.0.2 in /usr/local/lib/python3.7/dist-packages (from requests>=2.0.0->requests-oauthlib>=0.7.0->google-auth-oauthlib>=0.4.1->gspread) (3.0.4)\n",
            "Requirement already satisfied, skipping upgrade: certifi>=2017.4.17 in /usr/local/lib/python3.7/dist-packages (from requests>=2.0.0->requests-oauthlib>=0.7.0->google-auth-oauthlib>=0.4.1->gspread) (2021.5.30)\n",
            "Requirement already satisfied, skipping upgrade: idna<3,>=2.5 in /usr/local/lib/python3.7/dist-packages (from requests>=2.0.0->requests-oauthlib>=0.7.0->google-auth-oauthlib>=0.4.1->gspread) (2.10)\n"
          ],
          "name": "stdout"
        }
      ]
    },
    {
      "cell_type": "code",
      "metadata": {
        "id": "LD6ZxAPWp2dv"
      },
      "source": [
        "from google.colab import auth\n",
        "auth.authenticate_user()\n",
        "\n",
        "import gspread\n",
        "from oauth2client.client import GoogleCredentials\n",
        "\n",
        "gc = gspread.authorize(GoogleCredentials.get_application_default())\n"
      ],
      "execution_count": 67,
      "outputs": []
    },
    {
      "cell_type": "code",
      "metadata": {
        "id": "ORi_GIbup8wV",
        "colab": {
          "base_uri": "https://localhost:8080/",
          "height": 564
        },
        "outputId": "7a4e8884-2b41-40b2-aa41-54ab7559372f"
      },
      "source": [
        "# open the file in your browser in advance\n",
        "worksheet = gc.open('labeling_190331').sheet1\n",
        "\n",
        "# get_all_values gives a list of rows.\n",
        "rows = worksheet.get_all_values()\n",
        "print(rows[1])\n",
        "\n",
        "# Convert to a DataFrame and render.\n",
        "import pandas as pd\n",
        "df = pd.DataFrame.from_records(rows[1:], columns=rows[0])\n",
        "df.head(5)"
      ],
      "execution_count": 68,
      "outputs": [
        {
          "output_type": "stream",
          "text": [
            "['1', '0', '売買基本契約書', 'タイトル', '1', '', '', '', '', '', '', '', '', '', '', '', '', '2', '1', '', '', '', '', '', '', '', '', '', '', '', '', '', '', '', '', '']\n"
          ],
          "name": "stdout"
        },
        {
          "output_type": "execute_result",
          "data": {
            "text/html": [
              "<div>\n",
              "<style scoped>\n",
              "    .dataframe tbody tr th:only-of-type {\n",
              "        vertical-align: middle;\n",
              "    }\n",
              "\n",
              "    .dataframe tbody tr th {\n",
              "        vertical-align: top;\n",
              "    }\n",
              "\n",
              "    .dataframe thead th {\n",
              "        text-align: right;\n",
              "    }\n",
              "</style>\n",
              "<table border=\"1\" class=\"dataframe\">\n",
              "  <thead>\n",
              "    <tr style=\"text-align: right;\">\n",
              "      <th></th>\n",
              "      <th>file_no</th>\n",
              "      <th>line_no</th>\n",
              "      <th>text</th>\n",
              "      <th>label</th>\n",
              "      <th>タイトル</th>\n",
              "      <th>前文</th>\n",
              "      <th>章</th>\n",
              "      <th>条</th>\n",
              "      <th>項</th>\n",
              "      <th>号</th>\n",
              "      <th>リスト</th>\n",
              "      <th>その他(条項内)</th>\n",
              "      <th>末文</th>\n",
              "      <th>締結日</th>\n",
              "      <th>サイン</th>\n",
              "      <th>ページ番号</th>\n",
              "      <th>その他(条項外)</th>\n",
              "      <th>check用</th>\n",
              "      <th>label_title</th>\n",
              "      <th>label_bracketed</th>\n",
              "      <th>label_notice_start</th>\n",
              "      <th>label_notice_end</th>\n",
              "      <th>label_index_line</th>\n",
              "      <th>label_empty</th>\n",
              "      <th>label_chapter_index_line</th>\n",
              "      <th>label_article_index_line</th>\n",
              "      <th>label_conclusion</th>\n",
              "      <th>label_preamble</th>\n",
              "      <th>label_date</th>\n",
              "      <th>label_only_date</th>\n",
              "      <th>label_name</th>\n",
              "      <th>label_party</th>\n",
              "      <th>label_signature</th>\n",
              "      <th>label_address</th>\n",
              "      <th>label_ignored</th>\n",
              "      <th>label_others</th>\n",
              "    </tr>\n",
              "  </thead>\n",
              "  <tbody>\n",
              "    <tr>\n",
              "      <th>0</th>\n",
              "      <td>1</td>\n",
              "      <td>0</td>\n",
              "      <td>売買基本契約書</td>\n",
              "      <td>タイトル</td>\n",
              "      <td>1</td>\n",
              "      <td></td>\n",
              "      <td></td>\n",
              "      <td></td>\n",
              "      <td></td>\n",
              "      <td></td>\n",
              "      <td></td>\n",
              "      <td></td>\n",
              "      <td></td>\n",
              "      <td></td>\n",
              "      <td></td>\n",
              "      <td></td>\n",
              "      <td></td>\n",
              "      <td>2</td>\n",
              "      <td>1</td>\n",
              "      <td></td>\n",
              "      <td></td>\n",
              "      <td></td>\n",
              "      <td></td>\n",
              "      <td></td>\n",
              "      <td></td>\n",
              "      <td></td>\n",
              "      <td></td>\n",
              "      <td></td>\n",
              "      <td></td>\n",
              "      <td></td>\n",
              "      <td></td>\n",
              "      <td></td>\n",
              "      <td></td>\n",
              "      <td></td>\n",
              "      <td></td>\n",
              "      <td></td>\n",
              "    </tr>\n",
              "    <tr>\n",
              "      <th>1</th>\n",
              "      <td>1</td>\n",
              "      <td>1</td>\n",
              "      <td></td>\n",
              "      <td></td>\n",
              "      <td></td>\n",
              "      <td></td>\n",
              "      <td></td>\n",
              "      <td></td>\n",
              "      <td></td>\n",
              "      <td></td>\n",
              "      <td></td>\n",
              "      <td></td>\n",
              "      <td></td>\n",
              "      <td></td>\n",
              "      <td></td>\n",
              "      <td></td>\n",
              "      <td></td>\n",
              "      <td>0</td>\n",
              "      <td></td>\n",
              "      <td></td>\n",
              "      <td></td>\n",
              "      <td></td>\n",
              "      <td></td>\n",
              "      <td>1</td>\n",
              "      <td></td>\n",
              "      <td></td>\n",
              "      <td></td>\n",
              "      <td></td>\n",
              "      <td></td>\n",
              "      <td></td>\n",
              "      <td></td>\n",
              "      <td></td>\n",
              "      <td></td>\n",
              "      <td></td>\n",
              "      <td></td>\n",
              "      <td></td>\n",
              "    </tr>\n",
              "    <tr>\n",
              "      <th>2</th>\n",
              "      <td>1</td>\n",
              "      <td>2</td>\n",
              "      <td></td>\n",
              "      <td></td>\n",
              "      <td></td>\n",
              "      <td></td>\n",
              "      <td></td>\n",
              "      <td></td>\n",
              "      <td></td>\n",
              "      <td></td>\n",
              "      <td></td>\n",
              "      <td></td>\n",
              "      <td></td>\n",
              "      <td></td>\n",
              "      <td></td>\n",
              "      <td></td>\n",
              "      <td></td>\n",
              "      <td>0</td>\n",
              "      <td></td>\n",
              "      <td></td>\n",
              "      <td></td>\n",
              "      <td></td>\n",
              "      <td></td>\n",
              "      <td>1</td>\n",
              "      <td></td>\n",
              "      <td></td>\n",
              "      <td></td>\n",
              "      <td></td>\n",
              "      <td></td>\n",
              "      <td></td>\n",
              "      <td></td>\n",
              "      <td></td>\n",
              "      <td></td>\n",
              "      <td></td>\n",
              "      <td></td>\n",
              "      <td></td>\n",
              "    </tr>\n",
              "    <tr>\n",
              "      <th>3</th>\n",
              "      <td>1</td>\n",
              "      <td>3</td>\n",
              "      <td>買主今泉貴嗣（以下「買主」という。）と売主堅山耀太郎（以下「売主」という。）とは、●●●●（...</td>\n",
              "      <td>前文</td>\n",
              "      <td></td>\n",
              "      <td>1</td>\n",
              "      <td></td>\n",
              "      <td></td>\n",
              "      <td></td>\n",
              "      <td></td>\n",
              "      <td></td>\n",
              "      <td></td>\n",
              "      <td></td>\n",
              "      <td></td>\n",
              "      <td></td>\n",
              "      <td></td>\n",
              "      <td></td>\n",
              "      <td>2</td>\n",
              "      <td></td>\n",
              "      <td></td>\n",
              "      <td></td>\n",
              "      <td></td>\n",
              "      <td></td>\n",
              "      <td></td>\n",
              "      <td></td>\n",
              "      <td></td>\n",
              "      <td></td>\n",
              "      <td>1</td>\n",
              "      <td></td>\n",
              "      <td></td>\n",
              "      <td></td>\n",
              "      <td></td>\n",
              "      <td></td>\n",
              "      <td></td>\n",
              "      <td></td>\n",
              "      <td></td>\n",
              "    </tr>\n",
              "    <tr>\n",
              "      <th>4</th>\n",
              "      <td>1</td>\n",
              "      <td>4</td>\n",
              "      <td></td>\n",
              "      <td></td>\n",
              "      <td></td>\n",
              "      <td></td>\n",
              "      <td></td>\n",
              "      <td></td>\n",
              "      <td></td>\n",
              "      <td></td>\n",
              "      <td></td>\n",
              "      <td></td>\n",
              "      <td></td>\n",
              "      <td></td>\n",
              "      <td></td>\n",
              "      <td></td>\n",
              "      <td></td>\n",
              "      <td>0</td>\n",
              "      <td></td>\n",
              "      <td></td>\n",
              "      <td></td>\n",
              "      <td></td>\n",
              "      <td></td>\n",
              "      <td>1</td>\n",
              "      <td></td>\n",
              "      <td></td>\n",
              "      <td></td>\n",
              "      <td></td>\n",
              "      <td></td>\n",
              "      <td></td>\n",
              "      <td></td>\n",
              "      <td></td>\n",
              "      <td></td>\n",
              "      <td></td>\n",
              "      <td></td>\n",
              "      <td></td>\n",
              "    </tr>\n",
              "  </tbody>\n",
              "</table>\n",
              "</div>"
            ],
            "text/plain": [
              "  file_no line_no  ... label_ignored label_others\n",
              "0       1       0  ...                           \n",
              "1       1       1  ...                           \n",
              "2       1       2  ...                           \n",
              "3       1       3  ...                           \n",
              "4       1       4  ...                           \n",
              "\n",
              "[5 rows x 36 columns]"
            ]
          },
          "metadata": {
            "tags": []
          },
          "execution_count": 68
        }
      ]
    },
    {
      "cell_type": "code",
      "metadata": {
        "id": "opp7ouk3qLON",
        "colab": {
          "base_uri": "https://localhost:8080/"
        },
        "outputId": "3296e604-4ccf-4749-eba3-7cc54b38d14e"
      },
      "source": [
        "import numpy as np\n",
        "np.unique(df[['file_no']].values.flatten()).shape"
      ],
      "execution_count": 69,
      "outputs": [
        {
          "output_type": "execute_result",
          "data": {
            "text/plain": [
              "(278,)"
            ]
          },
          "metadata": {
            "tags": []
          },
          "execution_count": 69
        }
      ]
    },
    {
      "cell_type": "code",
      "metadata": {
        "id": "xoi5LEUBoVR2",
        "colab": {
          "base_uri": "https://localhost:8080/"
        },
        "outputId": "c47e2c92-fed6-4e30-a5d7-77d06bd09851"
      },
      "source": [
        "!pip install transformers==3.0.2"
      ],
      "execution_count": 70,
      "outputs": [
        {
          "output_type": "stream",
          "text": [
            "Requirement already satisfied: transformers==3.0.2 in /usr/local/lib/python3.7/dist-packages (3.0.2)\n",
            "Requirement already satisfied: sentencepiece!=0.1.92 in /usr/local/lib/python3.7/dist-packages (from transformers==3.0.2) (0.1.96)\n",
            "Requirement already satisfied: packaging in /usr/local/lib/python3.7/dist-packages (from transformers==3.0.2) (20.9)\n",
            "Requirement already satisfied: filelock in /usr/local/lib/python3.7/dist-packages (from transformers==3.0.2) (3.0.12)\n",
            "Requirement already satisfied: numpy in /usr/local/lib/python3.7/dist-packages (from transformers==3.0.2) (1.19.5)\n",
            "Requirement already satisfied: sacremoses in /usr/local/lib/python3.7/dist-packages (from transformers==3.0.2) (0.0.45)\n",
            "Requirement already satisfied: tokenizers==0.8.1.rc1 in /usr/local/lib/python3.7/dist-packages (from transformers==3.0.2) (0.8.1rc1)\n",
            "Requirement already satisfied: regex!=2019.12.17 in /usr/local/lib/python3.7/dist-packages (from transformers==3.0.2) (2019.12.20)\n",
            "Requirement already satisfied: tqdm>=4.27 in /usr/local/lib/python3.7/dist-packages (from transformers==3.0.2) (4.41.1)\n",
            "Requirement already satisfied: requests in /usr/local/lib/python3.7/dist-packages (from transformers==3.0.2) (2.23.0)\n",
            "Requirement already satisfied: pyparsing>=2.0.2 in /usr/local/lib/python3.7/dist-packages (from packaging->transformers==3.0.2) (2.4.7)\n",
            "Requirement already satisfied: six in /usr/local/lib/python3.7/dist-packages (from sacremoses->transformers==3.0.2) (1.15.0)\n",
            "Requirement already satisfied: joblib in /usr/local/lib/python3.7/dist-packages (from sacremoses->transformers==3.0.2) (1.0.1)\n",
            "Requirement already satisfied: click in /usr/local/lib/python3.7/dist-packages (from sacremoses->transformers==3.0.2) (7.1.2)\n",
            "Requirement already satisfied: certifi>=2017.4.17 in /usr/local/lib/python3.7/dist-packages (from requests->transformers==3.0.2) (2021.5.30)\n",
            "Requirement already satisfied: urllib3!=1.25.0,!=1.25.1,<1.26,>=1.21.1 in /usr/local/lib/python3.7/dist-packages (from requests->transformers==3.0.2) (1.24.3)\n",
            "Requirement already satisfied: chardet<4,>=3.0.2 in /usr/local/lib/python3.7/dist-packages (from requests->transformers==3.0.2) (3.0.4)\n",
            "Requirement already satisfied: idna<3,>=2.5 in /usr/local/lib/python3.7/dist-packages (from requests->transformers==3.0.2) (2.10)\n"
          ],
          "name": "stdout"
        }
      ]
    },
    {
      "cell_type": "code",
      "metadata": {
        "id": "WZJIkULIYsIe"
      },
      "source": [
        ""
      ],
      "execution_count": 70,
      "outputs": []
    },
    {
      "cell_type": "code",
      "metadata": {
        "id": "bK4JKepSodyi",
        "colab": {
          "base_uri": "https://localhost:8080/"
        },
        "outputId": "1994e030-14a1-4674-b927-31a9cc6edbfd"
      },
      "source": [
        "!apt install aptitude\n",
        "!aptitude install mecab libmecab-dev mecab-ipadic-utf8 gcc g++ git make curl xz-utils file -y\n",
        "!pip install mecab-python3==0.7"
      ],
      "execution_count": 71,
      "outputs": [
        {
          "output_type": "stream",
          "text": [
            "Reading package lists... Done\n",
            "Building dependency tree       \n",
            "Reading state information... Done\n",
            "aptitude is already the newest version (0.8.10-6ubuntu1).\n",
            "0 upgraded, 0 newly installed, 0 to remove and 39 not upgraded.\n",
            "mecab is already installed at the requested version (0.996-5)\n",
            "libmecab-dev is already installed at the requested version (0.996-5)\n",
            "mecab-ipadic-utf8 is already installed at the requested version (2.7.0-20070801+main-1)\n",
            "gcc is already installed at the requested version (4:7.4.0-1ubuntu2.3)\n",
            "g++ is already installed at the requested version (4:7.4.0-1ubuntu2.3)\n",
            "git is already installed at the requested version (1:2.17.1-1ubuntu0.8)\n",
            "make is already installed at the requested version (4.1-9.1ubuntu1)\n",
            "curl is already installed at the requested version (7.58.0-2ubuntu3.13)\n",
            "xz-utils is already installed at the requested version (5.2.2-1.3)\n",
            "file is already installed at the requested version (1:5.32-2ubuntu0.4)\n",
            "mecab is already installed at the requested version (0.996-5)\n",
            "libmecab-dev is already installed at the requested version (0.996-5)\n",
            "mecab-ipadic-utf8 is already installed at the requested version (2.7.0-20070801+main-1)\n",
            "gcc is already installed at the requested version (4:7.4.0-1ubuntu2.3)\n",
            "g++ is already installed at the requested version (4:7.4.0-1ubuntu2.3)\n",
            "git is already installed at the requested version (1:2.17.1-1ubuntu0.8)\n",
            "make is already installed at the requested version (4.1-9.1ubuntu1)\n",
            "curl is already installed at the requested version (7.58.0-2ubuntu3.13)\n",
            "xz-utils is already installed at the requested version (5.2.2-1.3)\n",
            "file is already installed at the requested version (1:5.32-2ubuntu0.4)\n",
            "No packages will be installed, upgraded, or removed.\n",
            "0 packages upgraded, 0 newly installed, 0 to remove and 39 not upgraded.\n",
            "Need to get 0 B of archives. After unpacking 0 B will be used.\n",
            "                            \n",
            "Requirement already satisfied: mecab-python3==0.7 in /usr/local/lib/python3.7/dist-packages (0.7)\n"
          ],
          "name": "stdout"
        }
      ]
    },
    {
      "cell_type": "code",
      "metadata": {
        "id": "YLlioBICEl46",
        "colab": {
          "base_uri": "https://localhost:8080/",
          "height": 669
        },
        "outputId": "850e8fe2-60b3-439b-cc1a-e86c8497ecf1"
      },
      "source": [
        "df = pd.DataFrame.from_records(rows[1:], columns=rows[0])\n",
        "\n",
        "lists = df[['条', '項', '号']].replace('', '0').astype(int).values.tolist()\n",
        "df['target'] = lists\n",
        "new_df = df[['text', 'target']].copy()\n",
        "new_df.head(20)"
      ],
      "execution_count": 72,
      "outputs": [
        {
          "output_type": "execute_result",
          "data": {
            "text/html": [
              "<div>\n",
              "<style scoped>\n",
              "    .dataframe tbody tr th:only-of-type {\n",
              "        vertical-align: middle;\n",
              "    }\n",
              "\n",
              "    .dataframe tbody tr th {\n",
              "        vertical-align: top;\n",
              "    }\n",
              "\n",
              "    .dataframe thead th {\n",
              "        text-align: right;\n",
              "    }\n",
              "</style>\n",
              "<table border=\"1\" class=\"dataframe\">\n",
              "  <thead>\n",
              "    <tr style=\"text-align: right;\">\n",
              "      <th></th>\n",
              "      <th>text</th>\n",
              "      <th>target</th>\n",
              "    </tr>\n",
              "  </thead>\n",
              "  <tbody>\n",
              "    <tr>\n",
              "      <th>0</th>\n",
              "      <td>売買基本契約書</td>\n",
              "      <td>[0, 0, 0]</td>\n",
              "    </tr>\n",
              "    <tr>\n",
              "      <th>1</th>\n",
              "      <td></td>\n",
              "      <td>[0, 0, 0]</td>\n",
              "    </tr>\n",
              "    <tr>\n",
              "      <th>2</th>\n",
              "      <td></td>\n",
              "      <td>[0, 0, 0]</td>\n",
              "    </tr>\n",
              "    <tr>\n",
              "      <th>3</th>\n",
              "      <td>買主今泉貴嗣（以下「買主」という。）と売主堅山耀太郎（以下「売主」という。）とは、●●●●（...</td>\n",
              "      <td>[0, 0, 0]</td>\n",
              "    </tr>\n",
              "    <tr>\n",
              "      <th>4</th>\n",
              "      <td></td>\n",
              "      <td>[0, 0, 0]</td>\n",
              "    </tr>\n",
              "    <tr>\n",
              "      <th>5</th>\n",
              "      <td>第１条（基本契約性）</td>\n",
              "      <td>[1, 0, 0]</td>\n",
              "    </tr>\n",
              "    <tr>\n",
              "      <th>6</th>\n",
              "      <td>１ 本契約は、売主と買主との間に締結される本件製品の個別売買に共通に適用される。</td>\n",
              "      <td>[0, 1, 0]</td>\n",
              "    </tr>\n",
              "    <tr>\n",
              "      <th>7</th>\n",
              "      <td>２ 本契約と異なる契約条件の合意は、両者の書面による合意によらない限り、その効力を有しないも...</td>\n",
              "      <td>[0, 1, 0]</td>\n",
              "    </tr>\n",
              "    <tr>\n",
              "      <th>8</th>\n",
              "      <td></td>\n",
              "      <td>[0, 0, 0]</td>\n",
              "    </tr>\n",
              "    <tr>\n",
              "      <th>9</th>\n",
              "      <td>第２条（個別売買契約の締結）</td>\n",
              "      <td>[1, 0, 0]</td>\n",
              "    </tr>\n",
              "    <tr>\n",
              "      <th>10</th>\n",
              "      <td>１ 本契約に基づき売主から買主に対して売渡される本件製品の名称、仕様、規格、数量、発注年月日...</td>\n",
              "      <td>[0, 1, 0]</td>\n",
              "    </tr>\n",
              "    <tr>\n",
              "      <th>11</th>\n",
              "      <td>２ 個別契約は買主より前項の取引内容を記載した買主所定の注文書を売主に交付し、売主がこれを承...</td>\n",
              "      <td>[0, 1, 0]</td>\n",
              "    </tr>\n",
              "    <tr>\n",
              "      <th>12</th>\n",
              "      <td></td>\n",
              "      <td>[0, 0, 0]</td>\n",
              "    </tr>\n",
              "    <tr>\n",
              "      <th>13</th>\n",
              "      <td>第３条（納入）</td>\n",
              "      <td>[1, 0, 0]</td>\n",
              "    </tr>\n",
              "    <tr>\n",
              "      <th>14</th>\n",
              "      <td>１ 売主は、個別契約に従い買主の指定する納品書を付し、本件製品を納入する。なお、売主の都合に...</td>\n",
              "      <td>[0, 1, 0]</td>\n",
              "    </tr>\n",
              "    <tr>\n",
              "      <th>15</th>\n",
              "      <td>２ 売主は、納入期日までに本件製品の全部または一部を納入できない事由が発生したとき、またはそ...</td>\n",
              "      <td>[0, 1, 0]</td>\n",
              "    </tr>\n",
              "    <tr>\n",
              "      <th>16</th>\n",
              "      <td>３ 売主が納期前に本件製品を納入しようとするときは、予め買主の承諾を得なければならない。</td>\n",
              "      <td>[0, 1, 0]</td>\n",
              "    </tr>\n",
              "    <tr>\n",
              "      <th>17</th>\n",
              "      <td>４ 売主の責に帰すべき事由により、納期に本件製品が納入されない場合、買主はこれにより被った損...</td>\n",
              "      <td>[0, 1, 0]</td>\n",
              "    </tr>\n",
              "    <tr>\n",
              "      <th>18</th>\n",
              "      <td></td>\n",
              "      <td>[0, 0, 0]</td>\n",
              "    </tr>\n",
              "    <tr>\n",
              "      <th>19</th>\n",
              "      <td>第４条（検査）</td>\n",
              "      <td>[1, 0, 0]</td>\n",
              "    </tr>\n",
              "  </tbody>\n",
              "</table>\n",
              "</div>"
            ],
            "text/plain": [
              "                                                 text     target\n",
              "0                                             売買基本契約書  [0, 0, 0]\n",
              "1                                                      [0, 0, 0]\n",
              "2                                                      [0, 0, 0]\n",
              "3   買主今泉貴嗣（以下「買主」という。）と売主堅山耀太郎（以下「売主」という。）とは、●●●●（...  [0, 0, 0]\n",
              "4                                                      [0, 0, 0]\n",
              "5                                          第１条（基本契約性）  [1, 0, 0]\n",
              "6            １ 本契約は、売主と買主との間に締結される本件製品の個別売買に共通に適用される。  [0, 1, 0]\n",
              "7   ２ 本契約と異なる契約条件の合意は、両者の書面による合意によらない限り、その効力を有しないも...  [0, 1, 0]\n",
              "8                                                      [0, 0, 0]\n",
              "9                                      第２条（個別売買契約の締結）  [1, 0, 0]\n",
              "10  １ 本契約に基づき売主から買主に対して売渡される本件製品の名称、仕様、規格、数量、発注年月日...  [0, 1, 0]\n",
              "11  ２ 個別契約は買主より前項の取引内容を記載した買主所定の注文書を売主に交付し、売主がこれを承...  [0, 1, 0]\n",
              "12                                                     [0, 0, 0]\n",
              "13                                            第３条（納入）  [1, 0, 0]\n",
              "14  １ 売主は、個別契約に従い買主の指定する納品書を付し、本件製品を納入する。なお、売主の都合に...  [0, 1, 0]\n",
              "15  ２ 売主は、納入期日までに本件製品の全部または一部を納入できない事由が発生したとき、またはそ...  [0, 1, 0]\n",
              "16       ３ 売主が納期前に本件製品を納入しようとするときは、予め買主の承諾を得なければならない。  [0, 1, 0]\n",
              "17  ４ 売主の責に帰すべき事由により、納期に本件製品が納入されない場合、買主はこれにより被った損...  [0, 1, 0]\n",
              "18                                                     [0, 0, 0]\n",
              "19                                            第４条（検査）  [1, 0, 0]"
            ]
          },
          "metadata": {
            "tags": []
          },
          "execution_count": 72
        }
      ]
    },
    {
      "cell_type": "code",
      "metadata": {
        "id": "zna3-Vw9ZZ26",
        "colab": {
          "base_uri": "https://localhost:8080/"
        },
        "outputId": "6653e313-b376-4bac-af91-b1b145ccea2d"
      },
      "source": [
        "np.log10(200)"
      ],
      "execution_count": 73,
      "outputs": [
        {
          "output_type": "execute_result",
          "data": {
            "text/plain": [
              "2.3010299956639813"
            ]
          },
          "metadata": {
            "tags": []
          },
          "execution_count": 73
        }
      ]
    },
    {
      "cell_type": "code",
      "metadata": {
        "id": "OeB6WA67ZTDW",
        "colab": {
          "base_uri": "https://localhost:8080/",
          "height": 282
        },
        "outputId": "7b794c79-d7eb-4e0c-bccb-6a5c04c4fd90"
      },
      "source": [
        "import matplotlib.pyplot as plt\n",
        "import numpy as np\n",
        "\n",
        "def array_for(x):\n",
        "    return np.array([len(xi) for xi in x if len(xi) > 0])  # np.log10\n",
        "\n",
        "x = array_for(new_df.text.values)\n",
        "\n",
        "# x: array of 1-d scalars\n",
        "print(f'{np.mean(x):.03}, {np.std(x):.03}, {np.median(x)}')\n",
        "plt.hist(x, bins=100)\n",
        "plt.axvline(x.mean(), color='r')\n",
        "plt.axvline(np.median(x), color='y')\n",
        "plt.show()"
      ],
      "execution_count": 74,
      "outputs": [
        {
          "output_type": "stream",
          "text": [
            "38.5, 38.8, 27.0\n"
          ],
          "name": "stdout"
        },
        {
          "output_type": "display_data",
          "data": {
            "image/png": "[encoded data removed]",
            "text/plain": [
              "<Figure size 432x288 with 1 Axes>"
            ]
          },
          "metadata": {
            "tags": [],
            "needs_background": "light"
          }
        }
      ]
    },
    {
      "cell_type": "code",
      "metadata": {
        "id": "MlbLiADU8raU",
        "colab": {
          "base_uri": "https://localhost:8080/"
        },
        "outputId": "3b96c88e-f91a-4603-a6d5-58cc5e4410ec"
      },
      "source": [
        "import numpy as np\n",
        "import pandas as pd\n",
        "from sklearn import metrics\n",
        "import transformers\n",
        "import torch\n",
        "from torch.utils.data import Dataset, DataLoader, RandomSampler, SequentialSampler\n",
        "from transformers import BertTokenizer, BertModel, BertConfig\n",
        "\n",
        "\n",
        "# Sections of config\n",
        "\n",
        "modelname = 'cl-tohoku/bert-base-japanese-char'\n",
        "\n",
        "# Defining some key variables that will be used later on in the training\n",
        "N_CLASS = 3\n",
        "MAX_LEN = 150\n",
        "TRAIN_BATCH_SIZE = 16\n",
        "VALID_BATCH_SIZE = 4\n",
        "EPOCHS = 1\n",
        "LEARNING_RATE = 1e-05\n",
        "tokenizer = BertTokenizer.from_pretrained(modelname)\n",
        "\n",
        "class CustomDataset(Dataset):\n",
        "\n",
        "    def __init__(\n",
        "        self,\n",
        "        dataframe,\n",
        "        tokenizer,\n",
        "        max_len,\n",
        "        text_colname='text',\n",
        "        target_colname='target',\n",
        "    ):\n",
        "        self.tokenizer = tokenizer\n",
        "        self.data = dataframe\n",
        "        self.text = dataframe[text_colname]\n",
        "        self.targets = dataframe[target_colname]\n",
        "        self.max_len = max_len\n",
        "\n",
        "    def __len__(self):\n",
        "        return len(self.text)\n",
        "\n",
        "    def __getitem__(self, index):\n",
        "        text = str(self.text[index])\n",
        "        text = \" \".join(text.split())\n",
        "\n",
        "        # tokenized_text = self.tokenizer.tokenize(text)\n",
        "        # indexed_tokens = self.tokenizer.convert_tokens_to_ids(tokenized_text)\n",
        "        # tokens_tensor = torch.tensor([indexed_tokens])\n",
        "\n",
        "        inputs = self.tokenizer.encode_plus(\n",
        "            text,\n",
        "            None,\n",
        "            add_special_tokens=True,\n",
        "            max_length=self.max_len,\n",
        "            pad_to_max_length=True,\n",
        "            return_token_type_ids=True,\n",
        "            truncation=True\n",
        "        )\n",
        "        ids = inputs['input_ids']\n",
        "        mask = inputs['attention_mask']\n",
        "        token_type_ids = inputs[\"token_type_ids\"]\n",
        "\n",
        "\n",
        "        return {\n",
        "            'ids': torch.tensor(ids, dtype=torch.long),\n",
        "            'mask': torch.tensor(mask, dtype=torch.long),\n",
        "            'token_type_ids': torch.tensor(token_type_ids, dtype=torch.long),\n",
        "            'targets': torch.tensor(self.targets[index], dtype=torch.float)\n",
        "        }\n",
        "\n",
        "\n",
        "\n",
        "# Creating the dataset and dataloader for the neural network\n",
        "\n",
        "train_size = 0.8\n",
        "train_dataset=new_df.sample(frac=train_size,random_state=200)\n",
        "test_dataset=new_df.drop(train_dataset.index).reset_index(drop=True)\n",
        "train_dataset = train_dataset.reset_index(drop=True)\n",
        "\n",
        "print(\"FULL Dataset: {}\".format(new_df.shape))\n",
        "print(\"TRAIN Dataset: {}\".format(train_dataset.shape))\n",
        "print(\"TEST Dataset: {}\".format(test_dataset.shape))\n",
        "\n",
        "training_set = CustomDataset(train_dataset, tokenizer, MAX_LEN)\n",
        "testing_set = CustomDataset(test_dataset, tokenizer, MAX_LEN)\n",
        "\n",
        "# DataLoader\n",
        "train_params = {'batch_size': TRAIN_BATCH_SIZE,\n",
        "                'shuffle': True,\n",
        "                'num_workers': 0\n",
        "                }\n",
        "\n",
        "test_params = {'batch_size': VALID_BATCH_SIZE,\n",
        "                'shuffle': True,\n",
        "                'num_workers': 0\n",
        "                }\n",
        "\n",
        "training_loader = DataLoader(training_set, **train_params)\n",
        "testing_loader = DataLoader(testing_set, **test_params)\n",
        "\n"
      ],
      "execution_count": 75,
      "outputs": [
        {
          "output_type": "stream",
          "text": [
            "FULL Dataset: (25473, 2)\n",
            "TRAIN Dataset: (20378, 2)\n",
            "TEST Dataset: (5095, 2)\n"
          ],
          "name": "stdout"
        }
      ]
    },
    {
      "cell_type": "code",
      "metadata": {
        "id": "u-7SMlqbTRp3"
      },
      "source": [
        "train_dataset.to_csv(\"train_dataset.tsv\", sep=\"\\t\")\n",
        "new_df.to_csv(\"full_dataset.tsv\", sep=\"\\t\")\n",
        "test_dataset.to_csv(\"test_dataset.tsv\", sep=\"\\t\")"
      ],
      "execution_count": 76,
      "outputs": []
    },
    {
      "cell_type": "code",
      "metadata": {
        "colab": {
          "base_uri": "https://localhost:8080/"
        },
        "id": "kf8X1icTUb3w",
        "outputId": "af99ab66-5da4-4ac4-a0e4-998259e7d203"
      },
      "source": [
        "!ls"
      ],
      "execution_count": 77,
      "outputs": [
        {
          "output_type": "stream",
          "text": [
            "adc.json  full_dataset.tsv  test_dataset.tsv\n",
            "drive\t  sample_data\t    train_dataset.tsv\n"
          ],
          "name": "stdout"
        }
      ]
    },
    {
      "cell_type": "code",
      "metadata": {
        "colab": {
          "base_uri": "https://localhost:8080/"
        },
        "id": "gygMrFYfUpd3",
        "outputId": "e9ce42db-c46a-42e4-ee6f-6ce586552f59"
      },
      "source": [
        "from google.colab import drive\n",
        "drive.mount('/content/drive')"
      ],
      "execution_count": 78,
      "outputs": [
        {
          "output_type": "stream",
          "text": [
            "Drive already mounted at /content/drive; to attempt to forcibly remount, call drive.mount(\"/content/drive\", force_remount=True).\n"
          ],
          "name": "stdout"
        }
      ]
    },
    {
      "cell_type": "code",
      "metadata": {
        "id": "UdZ0B3osU2SC"
      },
      "source": [
        "!cp train_dataset.tsv /content/drive/My\\ Drive/"
      ],
      "execution_count": 79,
      "outputs": []
    },
    {
      "cell_type": "code",
      "metadata": {
        "id": "gsgNOlFmU9bH"
      },
      "source": [
        "!cp test_dataset.tsv /content/drive/My\\ Drive/"
      ],
      "execution_count": 80,
      "outputs": []
    },
    {
      "cell_type": "code",
      "metadata": {
        "id": "l5UtCLbbVM_y"
      },
      "source": [
        "!cp full_dataset.tsv /content/drive/My\\ Drive/"
      ],
      "execution_count": 81,
      "outputs": []
    },
    {
      "cell_type": "code",
      "metadata": {
        "id": "BO-SRnz9VQYJ"
      },
      "source": [
        ""
      ],
      "execution_count": 81,
      "outputs": []
    },
    {
      "cell_type": "code",
      "metadata": {
        "colab": {
          "base_uri": "https://localhost:8080/"
        },
        "id": "kxQa5PqcTTQi",
        "outputId": "a5becc7d-6492-43f1-aa9c-0892ea30a3d2"
      },
      "source": [
        "ls"
      ],
      "execution_count": 82,
      "outputs": [
        {
          "output_type": "stream",
          "text": [
            "adc.json  full_dataset.tsv  test_dataset.tsv\n",
            "\u001b[0m\u001b[01;34mdrive\u001b[0m/    \u001b[01;34msample_data\u001b[0m/      train_dataset.tsv\n"
          ],
          "name": "stdout"
        }
      ]
    },
    {
      "cell_type": "code",
      "metadata": {
        "id": "vP1DmipodZVb",
        "colab": {
          "base_uri": "https://localhost:8080/"
        },
        "outputId": "dd72d9d7-a85f-41a1-a3bd-fa3a4ae6ae78"
      },
      "source": [
        "# Creating the customized model, by adding a drop out and a dense layer on top of distil bert to get the final output for the model. \n",
        "\n",
        "class BERTClass(torch.nn.Module):\n",
        "    def __init__(self, model_name):\n",
        "        super(BERTClass, self).__init__()\n",
        "        self.l1 = transformers.BertModel.from_pretrained(model_name)\n",
        "        self.l2 = torch.nn.Dropout(0.3)\n",
        "        self.l3 = torch.nn.Linear(768, N_CLASS)\n",
        "    \n",
        "    def forward(self, ids, mask, token_type_ids):\n",
        "        _, output_1= self.l1(ids, attention_mask = mask, token_type_ids = token_type_ids)\n",
        "        output_2 = self.l2(output_1)\n",
        "        output = self.l3(output_2)\n",
        "        return output\n",
        "\n",
        "from torch import cuda\n",
        "device = 'cuda' if cuda.is_available() else 'cpu'\n",
        "print(f'{device} is used')\n",
        "model = BERTClass(modelname)\n",
        "model.to(device)\n",
        "\n",
        "optimizer = torch.optim.Adam(params = model.parameters(), lr=LEARNING_RATE)\n",
        "\n",
        "def loss_fn(outputs, targets):\n",
        "    return torch.nn.BCEWithLogitsLoss()(outputs, targets)\n",
        "\n",
        "def train(epoch):\n",
        "    model.train()\n",
        "    for i, data in enumerate(training_loader, 0):\n",
        "        ids = data['ids'].to(device, dtype = torch.long)\n",
        "        mask = data['mask'].to(device, dtype = torch.long)\n",
        "        token_type_ids = data['token_type_ids'].to(device, dtype = torch.long)\n",
        "        targets = data['targets'].to(device, dtype = torch.float)\n",
        "\n",
        "        outputs = model(ids, mask, token_type_ids)\n",
        "\n",
        "        optimizer.zero_grad()\n",
        "        loss = loss_fn(outputs, targets)\n",
        "        if i % 100 == 0:\n",
        "            print(f'Epoch: {epoch}, Loss:  {loss.item()}')\n",
        "\n",
        "        optimizer.zero_grad()\n",
        "        loss.backward()\n",
        "        optimizer.step()\n",
        "        if i > 1000:\n",
        "            break\n",
        "\n",
        "for epoch in range(EPOCHS):\n",
        "    train(epoch)"
      ],
      "execution_count": 83,
      "outputs": [
        {
          "output_type": "stream",
          "text": [
            "cuda is used\n",
            "Epoch: 0, Loss:  0.7692997455596924\n",
            "Epoch: 0, Loss:  0.26249200105667114\n",
            "Epoch: 0, Loss:  0.1669023036956787\n",
            "Epoch: 0, Loss:  0.10579144954681396\n",
            "Epoch: 0, Loss:  0.0680907666683197\n",
            "Epoch: 0, Loss:  0.10830317437648773\n",
            "Epoch: 0, Loss:  0.12123662233352661\n",
            "Epoch: 0, Loss:  0.050610702484846115\n",
            "Epoch: 0, Loss:  0.1580764353275299\n",
            "Epoch: 0, Loss:  0.026354797184467316\n",
            "Epoch: 0, Loss:  0.04863592982292175\n"
          ],
          "name": "stdout"
        }
      ]
    },
    {
      "cell_type": "code",
      "metadata": {
        "id": "DcNpRuBcEC5y",
        "colab": {
          "base_uri": "https://localhost:8080/"
        },
        "outputId": "dc96657a-8e43-4dd1-a1a9-f95f0953af5a"
      },
      "source": [
        "def validation(epoch):\n",
        "    model.eval()\n",
        "    fin_targets=[]\n",
        "    fin_outputs=[]\n",
        "    with torch.no_grad():\n",
        "        for _, data in enumerate(testing_loader, 0):\n",
        "            ids = data['ids'].to(device, dtype = torch.long)\n",
        "            mask = data['mask'].to(device, dtype = torch.long)\n",
        "            token_type_ids = data['token_type_ids'].to(device, dtype = torch.long)\n",
        "            targets = data['targets'].to(device, dtype = torch.float)\n",
        "            outputs = model(ids, mask, token_type_ids)\n",
        "            fin_targets.extend(targets.cpu().detach().numpy().tolist())\n",
        "            fin_outputs.extend(torch.sigmoid(outputs).cpu().detach().numpy().tolist())\n",
        "    return fin_outputs, fin_targets\n",
        "\n",
        "for epoch in range(EPOCHS):\n",
        "    outputs, targets = validation(epoch)\n",
        "    outputs = np.array(outputs) >= 0.5\n",
        "    accuracy = metrics.accuracy_score(targets, outputs)\n",
        "    f1_score_micro = metrics.f1_score(targets, outputs, average='micro')\n",
        "    f1_score_macro = metrics.f1_score(targets, outputs, average='macro')\n",
        "    precision_score_micro = metrics.precision_score(targets, outputs, average='micro')\n",
        "    recall_score_micro = metrics.recall_score(targets, outputs, average='micro')\n",
        "    print(f\"Accuracy Score = {accuracy}\")   # Accuracyだけ見るのは意味ないと指摘\n",
        "    print(f\"P Score (Micro) = {precision_score_micro}\")\n",
        "    print(f\"R Score (Micro) = {recall_score_micro}\")\n",
        "    print(f\"F1 Score (Micro) = {f1_score_micro}\")\n",
        "    print(f\"F1 Score (Macro) = {f1_score_macro}\")"
      ],
      "execution_count": 84,
      "outputs": [
        {
          "output_type": "stream",
          "text": [
            "Accuracy Score = 0.9485770363101079\n",
            "P Score (Micro) = 0.9170344218887908\n",
            "R Score (Micro) = 0.9260249554367201\n",
            "F1 Score (Micro) = 0.9215077605321508\n",
            "F1 Score (Macro) = 0.9029292486342744\n"
          ],
          "name": "stdout"
        }
      ]
    },
    {
      "cell_type": "markdown",
      "metadata": {
        "id": "yM9sGbvEhNAQ"
      },
      "source": [
        "## BaseLine\n",
        "Accuracy Score = 0.9556427870461236    \n",
        "P Score (Micro) = 0.9314641744548287    \n",
        "R Score (Micro) = 0.9327094474153298    \n",
        "F1 Score (Micro) = 0.9320863950122467    \n",
        "F1 Score (Macro) = 0.9177879192183686    "
      ]
    },
    {
      "cell_type": "code",
      "metadata": {
        "id": "X4pIAoFB6SVJ"
      },
      "source": [
        "outputs = [list(map(int, b)) for b in outputs.tolist()]"
      ],
      "execution_count": 85,
      "outputs": []
    },
    {
      "cell_type": "code",
      "metadata": {
        "id": "HqW7JxtvJlGJ",
        "colab": {
          "base_uri": "https://localhost:8080/"
        },
        "outputId": "3f101fc2-1824-49cf-82ee-9ba35c80b26a"
      },
      "source": [
        "len(outputs), len(targets), len(targets[0])"
      ],
      "execution_count": 86,
      "outputs": [
        {
          "output_type": "execute_result",
          "data": {
            "text/plain": [
              "(5095, 5095, 3)"
            ]
          },
          "metadata": {
            "tags": []
          },
          "execution_count": 86
        }
      ]
    },
    {
      "cell_type": "code",
      "metadata": {
        "colab": {
          "base_uri": "https://localhost:8080/"
        },
        "id": "5BoBV0yYcKSM",
        "outputId": "cfb7a7ef-5c40-4caa-8515-a9322bb587db"
      },
      "source": [
        "print(targets[0])"
      ],
      "execution_count": 87,
      "outputs": [
        {
          "output_type": "stream",
          "text": [
            "[1.0, 0.0, 0.0]\n"
          ],
          "name": "stdout"
        }
      ]
    },
    {
      "cell_type": "code",
      "metadata": {
        "colab": {
          "base_uri": "https://localhost:8080/"
        },
        "id": "-ZZD8IGNcOMX",
        "outputId": "3497b752-c453-4186-f0e4-cfe475b62ca3"
      },
      "source": [
        "print(test_dataset.iloc[0])"
      ],
      "execution_count": 88,
      "outputs": [
        {
          "output_type": "stream",
          "text": [
            "text      買主今泉貴嗣（以下「買主」という。）と売主堅山耀太郎（以下「売主」という。）とは、●●●●（...\n",
            "target                                            [0, 0, 0]\n",
            "Name: 0, dtype: object\n"
          ],
          "name": "stdout"
        }
      ]
    },
    {
      "cell_type": "code",
      "metadata": {
        "id": "8XzEERJ-cSde"
      },
      "source": [
        ""
      ],
      "execution_count": 88,
      "outputs": []
    },
    {
      "cell_type": "code",
      "metadata": {
        "id": "v2MMeIIQukea",
        "colab": {
          "base_uri": "https://localhost:8080/"
        },
        "outputId": "d86dcb73-0284-4c7d-bd4a-ca824cb0daf1"
      },
      "source": [
        "tp_j, fp_j, fn_j, tp_k, fp_k, fn_k, tp_g, fp_g, fn_g = 0,0,0,0,0,0,0,0,0\n",
        "for (jp, kp, gp), (jg, kg, gg) in zip(outputs, targets):\n",
        "  if jg==1:\n",
        "    if jp==1:\n",
        "      tp_j+=1\n",
        "    else:\n",
        "      fn_j+=1\n",
        "  if jp==1:\n",
        "    if jg!=1:\n",
        "      fp_j+=1\n",
        "\n",
        "  if kg==1:\n",
        "    if kp==1:\n",
        "      tp_k+=1\n",
        "    else:\n",
        "      fn_k+=1\n",
        "  if kp==1:\n",
        "    if kg!=1:\n",
        "      fp_k+=1\n",
        "\n",
        "  if gg==1:\n",
        "    if gp==1:\n",
        "      tp_g+=1\n",
        "    else:\n",
        "      fn_g+=1\n",
        "  if gp==1:\n",
        "    if gg!=1:\n",
        "      fp_g+=1\n",
        "p_j, r_j = tp_j / (tp_j+fp_j), tp_j / (tp_j+fn_j)\n",
        "f1_j = 2 / (1/p_j + 1/r_j)\n",
        "p_k, r_k = tp_k / (tp_k+fp_k), tp_k / (tp_k+fn_k)\n",
        "f1_k = 2 / (1/p_k + 1/r_k)\n",
        "p_g, r_g = tp_g / (tp_g+fp_g), tp_g / (tp_g+fn_g)\n",
        "f1_g = 2 / (1/p_g + 1/r_g)\n",
        "print(tp_j, fp_j, fn_j, p_j, r_j, f1_j)\n",
        "print(tp_k, fp_k, fn_k, p_k, r_k, f1_k)\n",
        "print(tp_g, fp_g, fn_g, p_g, r_g, f1_g)"
      ],
      "execution_count": 89,
      "outputs": [
        {
          "output_type": "stream",
          "text": [
            "668 38 30 0.9461756373937678 0.9570200573065902 0.9515669515669517\n",
            "1129 135 33 0.8931962025316456 0.9716006884681584 0.9307502061005771\n",
            "281 15 103 0.9493243243243243 0.7317708333333334 0.8264705882352941\n"
          ],
          "name": "stdout"
        }
      ]
    },
    {
      "cell_type": "code",
      "metadata": {
        "id": "QHWRu-zE91NH"
      },
      "source": [
        ""
      ],
      "execution_count": 89,
      "outputs": []
    },
    {
      "cell_type": "code",
      "metadata": {
        "id": "CvVnWRYL91Pi"
      },
      "source": [
        ""
      ],
      "execution_count": 89,
      "outputs": []
    },
    {
      "cell_type": "code",
      "metadata": {
        "id": "ZCKhANX595_f"
      },
      "source": [
        "# outputs, targets = validation(epoch)\n",
        "# outputs_max = [[0,0,0] for _ in outputs]\n",
        "# for omax, o in zip(outputs_max, outputs):\n",
        "#   omax[np.argmax(o)] = 1"
      ],
      "execution_count": 90,
      "outputs": []
    },
    {
      "cell_type": "code",
      "metadata": {
        "id": "AaGTYb2D-yO3"
      },
      "source": [
        ""
      ],
      "execution_count": 90,
      "outputs": []
    },
    {
      "cell_type": "code",
      "metadata": {
        "id": "zZS56zKkv0T6"
      },
      "source": [
        "# 学習とテストの分割\n",
        "### 契約書単位のsplitをしてるか\n",
        "\n",
        "from sklearn.model_selection import train_test_split\n",
        "\n",
        "# X = df[['text']]\n",
        "# y = df[['label']]\n",
        "# X_train, X_test, y_train, y_test = train_test_split(X, y, test_size=0.33, random_state=42, shuffle=False)\n",
        "\n",
        "### 契約書単位のsplit\n",
        "fileno2df = {fileno: _df[['text', 'label']] for fileno, _df in df.set_index('file_no').groupby(level=0)}\n",
        "train_fileno, test_fileno = train_test_split(list(fileno2df.keys()), test_size=0.33, random_state=42, shuffle=False)\n",
        "X_train = [fileno2df[fileno][['text']] for fileno in train_fileno]\n",
        "y_train = [fileno2df[fileno][['label']] for fileno in train_fileno]\n",
        "X_test = [fileno2df[fileno][['text']] for fileno in test_fileno]\n",
        "y_test = [fileno2df[fileno][['label']] for fileno in test_fileno]"
      ],
      "execution_count": 91,
      "outputs": []
    },
    {
      "cell_type": "code",
      "metadata": {
        "id": "1Y271JCPrjaW",
        "colab": {
          "base_uri": "https://localhost:8080/"
        },
        "outputId": "229e5ffe-e5ae-4391-c23e-7fe44bb70b4f"
      },
      "source": [
        "# CV\n",
        "\n",
        "import numpy as np\n",
        "from sklearn.model_selection import KFold\n",
        "\n",
        "def f(row):\n",
        "  if row['条']:\n",
        "    return '条' \n",
        "  if row['項']:\n",
        "    return '項'\n",
        "  if row['号']:\n",
        "    return '号'\n",
        "  return ''\n",
        "\n",
        "df = pd.DataFrame.from_records(rows[1:], columns=rows[0])\n",
        "df['label'] = df.apply(f, axis=1)\n",
        "\n",
        "X = []\n",
        "y = []\n",
        "for fileno, _df in df.set_index('file_no').groupby(level=0):\n",
        "  texts = _df[['text']].values.flatten()\n",
        "  labels = _df[['label']].values.flatten()\n",
        "  X.append(texts)\n",
        "  y.append(labels)\n",
        "X = np.array(X)\n",
        "y = np.array(y)\n",
        "\n",
        "\n",
        "kfold = KFold(n_splits=5)\n",
        "for train_index, test_index in kfold.split(X, y):\n",
        "  print(f\"TRAIN:{len(train_index)}\", train_index, f\"TEST:{len(test_index)}\", test_index)\n",
        "  X_train, X_test = X[train_index], X[test_index]\n",
        "  y_train, y_test = y[train_index], y[test_index]\n",
        "  # print(X_train, X_test)\n",
        "  # print(y_train, y_test)"
      ],
      "execution_count": 92,
      "outputs": [
        {
          "output_type": "stream",
          "text": [
            "TRAIN:222 [ 56  57  58  59  60  61  62  63  64  65  66  67  68  69  70  71  72  73\n",
            "  74  75  76  77  78  79  80  81  82  83  84  85  86  87  88  89  90  91\n",
            "  92  93  94  95  96  97  98  99 100 101 102 103 104 105 106 107 108 109\n",
            " 110 111 112 113 114 115 116 117 118 119 120 121 122 123 124 125 126 127\n",
            " 128 129 130 131 132 133 134 135 136 137 138 139 140 141 142 143 144 145\n",
            " 146 147 148 149 150 151 152 153 154 155 156 157 158 159 160 161 162 163\n",
            " 164 165 166 167 168 169 170 171 172 173 174 175 176 177 178 179 180 181\n",
            " 182 183 184 185 186 187 188 189 190 191 192 193 194 195 196 197 198 199\n",
            " 200 201 202 203 204 205 206 207 208 209 210 211 212 213 214 215 216 217\n",
            " 218 219 220 221 222 223 224 225 226 227 228 229 230 231 232 233 234 235\n",
            " 236 237 238 239 240 241 242 243 244 245 246 247 248 249 250 251 252 253\n",
            " 254 255 256 257 258 259 260 261 262 263 264 265 266 267 268 269 270 271\n",
            " 272 273 274 275 276 277] TEST:56 [ 0  1  2  3  4  5  6  7  8  9 10 11 12 13 14 15 16 17 18 19 20 21 22 23\n",
            " 24 25 26 27 28 29 30 31 32 33 34 35 36 37 38 39 40 41 42 43 44 45 46 47\n",
            " 48 49 50 51 52 53 54 55]\n",
            "TRAIN:222 [  0   1   2   3   4   5   6   7   8   9  10  11  12  13  14  15  16  17\n",
            "  18  19  20  21  22  23  24  25  26  27  28  29  30  31  32  33  34  35\n",
            "  36  37  38  39  40  41  42  43  44  45  46  47  48  49  50  51  52  53\n",
            "  54  55 112 113 114 115 116 117 118 119 120 121 122 123 124 125 126 127\n",
            " 128 129 130 131 132 133 134 135 136 137 138 139 140 141 142 143 144 145\n",
            " 146 147 148 149 150 151 152 153 154 155 156 157 158 159 160 161 162 163\n",
            " 164 165 166 167 168 169 170 171 172 173 174 175 176 177 178 179 180 181\n",
            " 182 183 184 185 186 187 188 189 190 191 192 193 194 195 196 197 198 199\n",
            " 200 201 202 203 204 205 206 207 208 209 210 211 212 213 214 215 216 217\n",
            " 218 219 220 221 222 223 224 225 226 227 228 229 230 231 232 233 234 235\n",
            " 236 237 238 239 240 241 242 243 244 245 246 247 248 249 250 251 252 253\n",
            " 254 255 256 257 258 259 260 261 262 263 264 265 266 267 268 269 270 271\n",
            " 272 273 274 275 276 277] TEST:56 [ 56  57  58  59  60  61  62  63  64  65  66  67  68  69  70  71  72  73\n",
            "  74  75  76  77  78  79  80  81  82  83  84  85  86  87  88  89  90  91\n",
            "  92  93  94  95  96  97  98  99 100 101 102 103 104 105 106 107 108 109\n",
            " 110 111]\n",
            "TRAIN:222 [  0   1   2   3   4   5   6   7   8   9  10  11  12  13  14  15  16  17\n",
            "  18  19  20  21  22  23  24  25  26  27  28  29  30  31  32  33  34  35\n",
            "  36  37  38  39  40  41  42  43  44  45  46  47  48  49  50  51  52  53\n",
            "  54  55  56  57  58  59  60  61  62  63  64  65  66  67  68  69  70  71\n",
            "  72  73  74  75  76  77  78  79  80  81  82  83  84  85  86  87  88  89\n",
            "  90  91  92  93  94  95  96  97  98  99 100 101 102 103 104 105 106 107\n",
            " 108 109 110 111 168 169 170 171 172 173 174 175 176 177 178 179 180 181\n",
            " 182 183 184 185 186 187 188 189 190 191 192 193 194 195 196 197 198 199\n",
            " 200 201 202 203 204 205 206 207 208 209 210 211 212 213 214 215 216 217\n",
            " 218 219 220 221 222 223 224 225 226 227 228 229 230 231 232 233 234 235\n",
            " 236 237 238 239 240 241 242 243 244 245 246 247 248 249 250 251 252 253\n",
            " 254 255 256 257 258 259 260 261 262 263 264 265 266 267 268 269 270 271\n",
            " 272 273 274 275 276 277] TEST:56 [112 113 114 115 116 117 118 119 120 121 122 123 124 125 126 127 128 129\n",
            " 130 131 132 133 134 135 136 137 138 139 140 141 142 143 144 145 146 147\n",
            " 148 149 150 151 152 153 154 155 156 157 158 159 160 161 162 163 164 165\n",
            " 166 167]\n",
            "TRAIN:223 [  0   1   2   3   4   5   6   7   8   9  10  11  12  13  14  15  16  17\n",
            "  18  19  20  21  22  23  24  25  26  27  28  29  30  31  32  33  34  35\n",
            "  36  37  38  39  40  41  42  43  44  45  46  47  48  49  50  51  52  53\n",
            "  54  55  56  57  58  59  60  61  62  63  64  65  66  67  68  69  70  71\n",
            "  72  73  74  75  76  77  78  79  80  81  82  83  84  85  86  87  88  89\n",
            "  90  91  92  93  94  95  96  97  98  99 100 101 102 103 104 105 106 107\n",
            " 108 109 110 111 112 113 114 115 116 117 118 119 120 121 122 123 124 125\n",
            " 126 127 128 129 130 131 132 133 134 135 136 137 138 139 140 141 142 143\n",
            " 144 145 146 147 148 149 150 151 152 153 154 155 156 157 158 159 160 161\n",
            " 162 163 164 165 166 167 223 224 225 226 227 228 229 230 231 232 233 234\n",
            " 235 236 237 238 239 240 241 242 243 244 245 246 247 248 249 250 251 252\n",
            " 253 254 255 256 257 258 259 260 261 262 263 264 265 266 267 268 269 270\n",
            " 271 272 273 274 275 276 277] TEST:55 [168 169 170 171 172 173 174 175 176 177 178 179 180 181 182 183 184 185\n",
            " 186 187 188 189 190 191 192 193 194 195 196 197 198 199 200 201 202 203\n",
            " 204 205 206 207 208 209 210 211 212 213 214 215 216 217 218 219 220 221\n",
            " 222]\n",
            "TRAIN:223 [  0   1   2   3   4   5   6   7   8   9  10  11  12  13  14  15  16  17\n",
            "  18  19  20  21  22  23  24  25  26  27  28  29  30  31  32  33  34  35\n",
            "  36  37  38  39  40  41  42  43  44  45  46  47  48  49  50  51  52  53\n",
            "  54  55  56  57  58  59  60  61  62  63  64  65  66  67  68  69  70  71\n",
            "  72  73  74  75  76  77  78  79  80  81  82  83  84  85  86  87  88  89\n",
            "  90  91  92  93  94  95  96  97  98  99 100 101 102 103 104 105 106 107\n",
            " 108 109 110 111 112 113 114 115 116 117 118 119 120 121 122 123 124 125\n",
            " 126 127 128 129 130 131 132 133 134 135 136 137 138 139 140 141 142 143\n",
            " 144 145 146 147 148 149 150 151 152 153 154 155 156 157 158 159 160 161\n",
            " 162 163 164 165 166 167 168 169 170 171 172 173 174 175 176 177 178 179\n",
            " 180 181 182 183 184 185 186 187 188 189 190 191 192 193 194 195 196 197\n",
            " 198 199 200 201 202 203 204 205 206 207 208 209 210 211 212 213 214 215\n",
            " 216 217 218 219 220 221 222] TEST:55 [223 224 225 226 227 228 229 230 231 232 233 234 235 236 237 238 239 240\n",
            " 241 242 243 244 245 246 247 248 249 250 251 252 253 254 255 256 257 258\n",
            " 259 260 261 262 263 264 265 266 267 268 269 270 271 272 273 274 275 276\n",
            " 277]\n"
          ],
          "name": "stdout"
        },
        {
          "output_type": "stream",
          "text": [
            "/usr/local/lib/python3.7/dist-packages/ipykernel_launcher.py:25: VisibleDeprecationWarning: Creating an ndarray from ragged nested sequences (which is a list-or-tuple of lists-or-tuples-or ndarrays with different lengths or shapes) is deprecated. If you meant to do this, you must specify 'dtype=object' when creating the ndarray\n",
            "/usr/local/lib/python3.7/dist-packages/ipykernel_launcher.py:26: VisibleDeprecationWarning: Creating an ndarray from ragged nested sequences (which is a list-or-tuple of lists-or-tuples-or ndarrays with different lengths or shapes) is deprecated. If you meant to do this, you must specify 'dtype=object' when creating the ndarray\n"
          ],
          "name": "stderr"
        }
      ]
    },
    {
      "cell_type": "code",
      "metadata": {
        "id": "dJu2pnIn2dGY"
      },
      "source": [
        ""
      ],
      "execution_count": 92,
      "outputs": []
    },
    {
      "cell_type": "markdown",
      "metadata": {
        "id": "B7U-zg_ohm6O"
      },
      "source": [
        "## 検証\n",
        "- データの特徴\n",
        " - 「条」の次に「項」が0〜N行入る。その後に「号」が0〜n行入る\n",
        " - 第X条と始まる項目に「条」が多いが、（研究内容）「条」のあとに第X条〜という文面ではいるケースも有る。おそらく同一文書内においては、スタイルは統一される\n",
        " - 「条」は体言止めで表現される？\n",
        " - 「項」は文章あるいは、途中分割された文章となる？\n",
        " - 「項」はXXとする。XXと定める。XXする。XX出来る。ならない。ない。のような文末になる\n",
        " - 「条」の次のLineは必ず「項」になる？　->　条自体に内容が書かれているケースもある（line14015)\n",
        " -  単文が与えられたときに「項」と「号」はどうやって見分ける？\n",
        "\n",
        " \n",
        "- 考えられるアプローチと優先順位\n",
        "（データの確認）\n",
        " - 「条」「項」における単語の出現頻度を確認する\n",
        " - 「条」「項」における単語の重複度合いを確認する\n",
        " （アプローチ）\n",
        " - BERTが誤って分類したものを確認する\n",
        "  - それがルールベースで拾えそうかどうか確認し、出来そうなら試す\n",
        "  - BERTの最終層を出力し、他の分類器に掛ける  \n",
        "  - 文書ごとのスタイルを判定する分類器とBERTのclassifierを組み合わせてみる\n",
        "  - BERTに追加のpre-trainで法律ドメインのMLMを学習させたあとにclassificationする\n",
        "- 懸念点、注意事項\n",
        " - ひとまずなし。"
      ]
    },
    {
      "cell_type": "markdown",
      "metadata": {
        "id": "Vn6wFo8LjHrh"
      },
      "source": [
        "## 単語の出現頻度"
      ]
    },
    {
      "cell_type": "code",
      "metadata": {
        "id": "zWUqiW-IheL9"
      },
      "source": [
        "jou_df = df[df[\"条\"]==\"1\"]\n",
        "kou_df = df[df[\"項\"]==\"1\"]"
      ],
      "execution_count": 93,
      "outputs": []
    },
    {
      "cell_type": "code",
      "metadata": {
        "colab": {
          "base_uri": "https://localhost:8080/",
          "height": 35
        },
        "id": "dciB8nE9jFi1",
        "outputId": "53d9d97c-6e7b-47d7-b730-cb0cd8929868"
      },
      "source": [
        "jou_df.iloc[0].text"
      ],
      "execution_count": 94,
      "outputs": [
        {
          "output_type": "execute_result",
          "data": {
            "application/vnd.google.colaboratory.intrinsic+json": {
              "type": "string"
            },
            "text/plain": [
              "'第１条（基本契約性）'"
            ]
          },
          "metadata": {
            "tags": []
          },
          "execution_count": 94
        }
      ]
    },
    {
      "cell_type": "code",
      "metadata": {
        "id": "dFjzchX4jpJi"
      },
      "source": [
        "import MeCab\n",
        "mecab = MeCab.Tagger(\"-Owakati\")"
      ],
      "execution_count": 95,
      "outputs": []
    },
    {
      "cell_type": "code",
      "metadata": {
        "id": "FYHDlrOYkYmU"
      },
      "source": [
        "def word_counter(df, column, mecabtagger):\n",
        "  words = {}\n",
        "  for idx, item in df.iterrows():\n",
        "    item_words = mecabtagger.parse(item[column]).split()\n",
        "    for word in item_words:\n",
        "        words[word] = words.get(word, 0) + 1\n",
        "\n",
        "  # word数順\n",
        "  result = [(v, k) for k, v in words.items()]\n",
        "  result.sort()\n",
        "  result.reverse()\n",
        "  return result"
      ],
      "execution_count": 96,
      "outputs": []
    },
    {
      "cell_type": "code",
      "metadata": {
        "id": "Ttx_YaQroHd6"
      },
      "source": [
        "jou_words = word_counter(jou_df, \"text\", mecab)\n",
        "kou_words = word_counter(kou_df, \"text\", mecab)"
      ],
      "execution_count": 97,
      "outputs": []
    },
    {
      "cell_type": "code",
      "metadata": {
        "colab": {
          "base_uri": "https://localhost:8080/"
        },
        "id": "AqnjknmvsKUd",
        "outputId": "03cea68e-2742-4bb6-92bd-0de7980c8ef5"
      },
      "source": [
        "print(len(jou_words))\n",
        "print(len(kou_words))"
      ],
      "execution_count": 99,
      "outputs": [
        {
          "output_type": "stream",
          "text": [
            "1609\n",
            "3641\n"
          ],
          "name": "stdout"
        }
      ]
    },
    {
      "cell_type": "code",
      "metadata": {
        "colab": {
          "base_uri": "https://localhost:8080/"
        },
        "id": "c73GneUTsOlT",
        "outputId": "660b7f71-e727-4c2d-d125-b5968a6c97a1"
      },
      "source": [
        "jou_words[0]"
      ],
      "execution_count": 100,
      "outputs": [
        {
          "output_type": "execute_result",
          "data": {
            "text/plain": [
              "(2785, '（')"
            ]
          },
          "metadata": {
            "tags": []
          },
          "execution_count": 100
        }
      ]
    },
    {
      "cell_type": "code",
      "metadata": {
        "colab": {
          "base_uri": "https://localhost:8080/",
          "height": 35
        },
        "id": "cRM9NQV2sf6m",
        "outputId": "cc136a2e-7dc8-43bc-a742-fc235958f710"
      },
      "source": [
        "jou_words[0][1]"
      ],
      "execution_count": 101,
      "outputs": [
        {
          "output_type": "execute_result",
          "data": {
            "application/vnd.google.colaboratory.intrinsic+json": {
              "type": "string"
            },
            "text/plain": [
              "'（'"
            ]
          },
          "metadata": {
            "tags": []
          },
          "execution_count": 101
        }
      ]
    },
    {
      "cell_type": "code",
      "metadata": {
        "id": "IXylttf5olwW"
      },
      "source": [
        "# top100\n",
        "n = 100\n",
        "j_topn = jou_words[:n]\n",
        "k_topn = kou_words[:n]\n",
        "\n",
        "dup_w = []\n",
        "only_j_w = []\n",
        "only_k_w = []\n",
        "\n",
        "k_w = []\n",
        "for item in k_topn:\n",
        "  k_w.append(item[1])\n",
        "  item[1]\n",
        "\n",
        "j_w = []\n",
        "for w in j_topn:\n",
        "  j_w.append(w[1])\n",
        "  if w[1] not in k_w:\n",
        "    only_j_w.append(w)\n",
        "  else:\n",
        "    dup_w.append(w[1])\n",
        "\n",
        "for w in k_topn:\n",
        "  if w[1] not in dup_w:\n",
        "    only_k_w.append(w)\n"
      ],
      "execution_count": 110,
      "outputs": []
    },
    {
      "cell_type": "code",
      "metadata": {
        "id": "BNSHZ9ScwM8j"
      },
      "source": [
        ""
      ],
      "execution_count": null,
      "outputs": []
    },
    {
      "cell_type": "code",
      "metadata": {
        "colab": {
          "base_uri": "https://localhost:8080/"
        },
        "id": "fmJjFrU9vsXk",
        "outputId": "3929d8ea-4e85-493b-b846-cd73bfce4120"
      },
      "source": [
        "print(\"Top100\")\n",
        "print(\"両方に存在: {}\".format(dup_w))\n",
        "print(\"条のみに存在: {}\".format(only_j_w))\n",
        "print(\"項のみに存在: {}\".format(only_k_w))"
      ],
      "execution_count": 111,
      "outputs": [
        {
          "output_type": "stream",
          "text": [
            "Top100\n",
            "両方に存在: ['（', '）', '第', '条', 'の', '、', '１', 'を', 'は', '契約', '○', 'に', '。', '乙', 'する', '甲', 'し', '２', 'と', '３', 'た', 'が', '等', '期間', '権', '本', '及び', '金', 'て', '解除', '協議', 'もの', '本件', 'ない', 'とき', '日', '損害', '・', '負担', '業務', 'に対し', '年', '所有', '生じ', '又は', 'まで', '使用', 'こと', '上', '委託', 'から', 'による', '的', '場合', 'この', 'について', 'その', '者', '甲乙', 'これ']\n",
            "条のみに存在: [(343, '\\\\'), (237, '４'), (234, '５'), (214, '６'), (191, '７'), (171, '８'), (147, '９'), (135, '管轄'), (134, '０'), (132, '）\\\\'), (122, '義務'), (115, '譲渡'), (107, '合意'), (104, '目的'), (103, '事項'), (99, '秘密'), (98, '禁止'), (92, '支払'), (90, '条項'), (86, '保証'), (84, '保持'), (82, '平成'), (81, '代金'), (79, '賠償'), (78, '移転'), (78, '支払う'), (77, '円'), (75, '売買'), (74, '費用'), (68, '解決'), (68, '終了'), (67, '権利'), (65, '責任'), (65, '('), (64, '登記'), (64, '期限'), (63, '条件'), (63, '丙'), (62, ')'), (61, '方法')]\n",
            "項のみに存在: [(1135, 'で'), (914, 'さ'), (811, 'により'), (796, 'できる'), (763, '，'), (708, 'なら'), (638, '前項'), (631, '相手方'), (615, 'れ'), (579, '物'), (579, 'な'), (555, '定める'), (537, 'または'), (536, 'も'), (535, '．'), (529, '以下'), (523, '当該'), (509, 'ば'), (497, 'において'), (486, 'なけれ'), (483, '情報'), (473, 'ます'), (472, '第三者'), (466, '書面'), (458, '必要'), (456, '「'), (455, '」'), (449, '通知'), (435, 'に対して'), (434, 'その他'), (413, '後'), (409, '各'), (400, '当事者'), (389, 'ある'), (377, 'として'), (362, '定め'), (346, '行う'), (344, '次'), (341, '研究'), (341, '個別')]\n"
          ],
          "name": "stdout"
        }
      ]
    },
    {
      "cell_type": "code",
      "metadata": {
        "colab": {
          "base_uri": "https://localhost:8080/"
        },
        "id": "J2nL7wDkwA_f",
        "outputId": "f01df191-5fb5-42c2-87a6-32a1120ac397"
      },
      "source": [
        " ## 全件\n",
        "j_topn = jou_words\n",
        "k_topn = kou_words\n",
        "\n",
        "dup_w = []\n",
        "only_j_w = []\n",
        "only_k_w = []\n",
        "\n",
        "k_w = []\n",
        "for item in k_topn:\n",
        "  k_w.append(item[1])\n",
        "  item[1]\n",
        "\n",
        "j_w = []\n",
        "for w in j_topn:\n",
        "  j_w.append(w[1])\n",
        "  if w[1] not in k_w:\n",
        "    only_j_w.append(w)\n",
        "  else:\n",
        "    dup_w.append(w[1])\n",
        "\n",
        "for w in k_topn:\n",
        "  if w[1] not in dup_w:\n",
        "    only_k_w.append(w)\n",
        "\n",
        "print(\"全件\")\n",
        "print(\"両方に存在: {}\".format(dup_w))\n",
        "print(\"条のみに存在: {}\".format(only_j_w))\n",
        "print(\"項のみに存在: {}\".format(only_k_w))\n",
        "\n"
      ],
      "execution_count": 112,
      "outputs": [
        {
          "output_type": "stream",
          "text": [
            "全件\n",
            "両方に存在: ['（', '）', '第', '条', 'の', '、', '１', 'を', 'は', '契約', '○', 'に', '。', '乙', 'する', '甲', 'し', '２', 'と', '\\\\', '３', 'た', 'が', '等', '４', '５', '期間', '６', '権', '本', '７', '及び', '金', '８', 'て', '解除', '協議', '９', 'もの', '本件', 'ない', '管轄', 'とき', '０', '日', '損害', '・', '義務', '負担', '業務', 'に対し', '譲渡', '年', '合意', '所有', '目的', '事項', '秘密', '禁止', '生じ', '又は', '支払', 'まで', '条項', '使用', 'こと', '保証', '保持', '上', '平成', '委託', '代金', '賠償', '移転', '支払う', 'から', '円', '売買', '費用', 'による', '的', '場合', 'この', 'について', 'その', '解決', '者', '終了', '権利', '責任', '(', '登記', '甲乙', '期限', '条件', '丙', 'これ', ')', '方法', '内容', '.', '変更', '各', '定め', '情報', '裁判所', '1', '報告', '販売', '物', '利益', '貸借', '次', 'もっ', '物件', '有効', '債務', '後', '疑義', '研究', '引渡し', 'につき', '誠意', '解約', 'として', 'で', '解釈', '第三者', 'も', '再', '報酬', '営業', '前条', '連帯', '手続', '土地', '担保', 'ため', '直ちに', '支払い', 'なら', '管理', '法', 'に対する', 'できる', 'および', '遅延', '返還', '実施', '商品', '以下', '】', '【', '社会', '提供', '個別', 'により', '瑕疵', '排除', 'な', 'その他', '賃料', '納入', '時', '成果', '反', '危険', '勢力', '限り', '遂行', '誠実', '消費', '毎月', '書', '帰属', '就業', '利息', '2', '紛争', '料', '元金', 'に関する', 'なく', '間', '請求', '一切', '通知', '著作', '範囲', '目', '必要', '処理', '3', '規則', '検査', '月', '前', 'において', '4', '賃貸借', '設定', '設備', '持参', '承諾', '取扱い', '労働', '公課', '公租', '事由', '」', '顧問', '調査', '機密', '末日', '時間', '時期', '手付', '延長', '催告', '人', '不可抗力', '「', '5', '通り', '自動車', '派遣', '場所', '喪失', '利用', '以後', '不動産', '金員', '遵守', '表示', '準拠', '本日', '成立', '受領', '事業', 'へ', 'に対して', '．', '違反', '指定', '外', '同', '価格', 'ただし', '諸', '措置', '当然', '履行', '定める', '員', '割合', '侵害', 'さ', 'いう', '10', '１月', '％', '転貸', '財産', '許可', '管', '明', '引渡', '失い', '原状', '保険', 'ば', 'か', '7', '6', '11', '資料', '許諾', '規定', '裁判', '注意', '弁済', '借主', '金銭', '送金', '貸与', '経費', '確認', '知的', '委託料', '基づく', '善', '協力', '別紙', '出向', '作成', '以外', '中止', '万', 'ます', 'なけれ', 'か月', '12', '農地', '賃貸', '記載', '行為', '行う', '翌月', '締結', '相手方', '満了', '検収', '方', '料金', '承認', '建物', '場', '分', '修繕', '何ら', 'サービス', 'ず', '13', '駐車', '雇用', '運送', '物品', '漏洩', '渡し', '決定', '根抵当', '書面', '手数料', '得', '店', '年間', '工事', '基本', '付', '予約', '下記', 'いずれ', '14', '額', '賃金', '賃借', '誓約', '申請', '特約', '抵当', '従業', '広告', '完了', '回復', '制作', '分割', '免責', '也', '中途', '一つ', 'れる', '３月', '費', '貸主', '貸', '要する', '至る', '目録', '滅失', '渡', '残', '業', '抹消', '対価', '完済', '基づき', '品質', '品', '分担', '共同', '債権', '個人', '保管', '保', '事故', '事前', '中', '不', 'つき', 'ある', '8', '項', '面積', '附', '速やか', '退職', '製造', '職務', '経営', '納品', '競', '発注', '発明', '無効', '済', '法令', '旨', '提出', '手', '後記', '専属', '定義', '回', '同様', '勤務', '借入金', 'パーセント', 'によって', 'という', '開発', '賃', '製品', '現在', '月額', '施設', '意思', '性', '審査', '失っ', '同種', '取得', '先', '元利', '係る', '仕様', '一方', 'より', 'または', 'における', 'とともに', 'でも', 'すべて', '9', '２月', '開示', '適用', '適正', '証書', '証', '規程', '補修', '編集', '約定', '税', '知り', '用', '残額', '数量', '指揮', '担当', '従事', '工業', '問わ', '商標', '合計', '制限', '内', '代', '一時', 'かかる', '15', '１２月', '金額', '遅滞', '貴社', '貨物', '議', '請負', '表明', '苦情', '自己', '自動的', '無償', '毀損', '期', '指導', '対象', '宣伝', '宛', '命令', '同時に', '受け', '協', '前項', '公正', '全額', '入', '停止', '借受ける', '借受け', '信義', '但し', '会', '他', '交換', '交付', 'よう', 'に関し', '16', '電気', '階', '関係', '返品', '返却', '責', '維持', '確定', '相互', '点検', '株式会社', '支援', '技術', '当月', '当り', '引渡す', '店舗', '完全', '士', '営む', '受託', '受ける', '取締役', '取引', '原始', '印紙', '出願', '作業', '住所', '伴う', '休日', '仮', '付け', '不履行', '一', 'リース', 'プログラム', 'れ', 'なき', 'あっ', '17', '関連', '都度', '負う', '計画', '融資', '総額', '経過', '系統', '簿', '算定', '税込み', '私', '相殺', '特許', '満', '標', '検品', '株主', '未', '期日', '明示', '明け渡し', '支給', '指示', '当事者', '廃棄', '対応', '実行', '安全', '委任', '境界', '合格', '号', '口座', '単独', '区分', '則', '出版', '処置', '処分', '公表', '借入', '保守', '供給', '会社', '以内', '人格', 'パートタイマー', 'コンサルタント', 'クレーム', 'や', 'なかっ', 'たしかに', '25', '24', '22', '20', '19', '18', '６月', '５月', '限定', '銀行', '部分', '選任', '違約', '運転', '運行', '連', '送付', '身分', '購入', '質', '調整', '記録', '補償', '被っ', '表', '総会', '継承', '納期', '系', '章', '立替', '移動', '福利', '確保', '登録', '状況', '火災', '決済', '更新', '改定', '採用', '怠っ', '復し', '弁護士', '実費', '完結', '守秘', '存続', '売主', '売', '報', '図る', '受給', '取り扱い', '原因', '厚生', '効力', '別途', '借地', '修補', '修理', '修正', '保全', '価額', '企業', '付帯', '介護', '予定', '予告', '一般', 'ノウハウ', 'られ', 'ほか', 'べき', 'なお', 'でき', 'たり', 'かかわら', 'うち', 'うえ', '30', '23', '21', 'ＣＭ', '７月', '１１月', '非', '量', '運営', '連絡', '退去', '超過', '資産', '資材', '負い', '講義', '該当', '解雇', '覚', '要せ', '複製', '被', '衛生', '蒙っ', '翌日', '緊急', '継続', '給与', '経理', '納', '約束', '精算', '立入', '立会い', '種類', '種目', '知', '目標', '監督', '監理', '発電', '発表', '発生', '異議', '番', '用途', '用い', '現状', '準備', '決議', '毎', '有する', '最終', '書類', '更に', '明け渡す', '既', '旅費', '施工', '整備', '放棄', '改訂', '改良', '携行', '損失', '援助', '掲載', '控除', '担', '払金', '所属', '所', '得る', '引換え', '平方メートル', '工期', '実績', '完成', '如何', '失効', '失う', '売上', '執行', '地域', '回収', '告', '同意', '各月', '受渡', '受注', '受入', '取扱', '収益', '原則', '単位', '加入', '出', '免除', '任意', '仲介', '代表', '代替', '付する', '仕入れ', '互いに', '事務', '並びに', '与え', 'ヶ月', 'マニフェスト', 'もと', 'また', 'に関して', 'に従って', 'に従い', 'にわたり', 'にて', 'なる', 'ならびに', 'など', 'かつ', 'おこなう', 'いる', '△', '29', '28', '26', '９月', '４月', '，', '顧客', '類似', '電子', '電力', '際', '除外', '除去', '防止', '開始', '録', '配当', '部品', '適格', '道路', '運', '連携', '通常', '通', '送料', '退', '返済', '起因', '質問', '賞与', '買受ける', '買主', '訴訟', '設計', '設置', '訪問', '要', '行わ', '若しくは', '自ら', '義', '給付', '結果', '細目', '約する', '約し', '等価', '競合', '立', '租税', '確か', '破棄', '破損', '研修', '相談', '盗難', '番組', '申込', '現金', '独占', '状態', '状', '準', '済み', '清算', '法的', '法定', '残留', '機器', '権限', '模倣', '材料', '有給', '最善', '書士', '日時', '日常', '新築', '文書', '敷金', '敷地', '教育', '放送', '改変', '支障', '支払っ', '提示', '振込', '振り込む', '投資', '承継', '手続き', '手形', '所在地', '態様', '意向', '意', '応じる', '復職', '復帰', '復', '役員', '当時', '強制', '引', '弁理', '建設', '廃止', '度', '年次', '帳簿', '差引い', '履践', '届', '居宅', '専門', '審', '実演', '実測', '定', '妨げる', '契', '外国', '増額', '地位', '地', '固定', '図面', '品等', '告知', '名目', '名', '同額', '合', '右', '台', '可能', '可否', '受発注', '受け取っ', '取消', '反し', '参加', '原稿', '原料', '占有', '単価', '午前', '努力', '加盟', '割', '前払', '判断', '分の', '出資', '出来', '写真', '再販', '共益', '共有', '公共', '入金', '元', '優先', '借り受け', '信用', '保障', '保護', '保存', '促進', '価', '依頼', '余', '住宅', '休止', '休暇', '休憩', '以上', '代理人', '代理', '仕切', '人員', '二', '中間', '不足', '不利益', '下請', '下', '上限', '上記', '一部', '一括', 'ロイヤリティー', 'テリトリー', 'をもって', 'まし', 'べく', 'のみ', 'にあたって', 'なっ', 'なす', 'なし', 'なさ', 'どう', 'とおり', 'それ', 'せる', 'おく', 'お', 'いかん', 'あれ', '〇', '38', '32', '31', '27', '･', '｡\\\\', '｡', '８月', '１０月', '願', '額面', '頭金', '預託', '順守', '項目', '雑誌', '集約', '限度', '限', '防犯', '防火', '閲覧', '関与', '関わる', '間接', '開業', '録音', '録画', '金融', '重大', '重', '酬', '配置', '都合', '部数', '選択', '適当', '適合', '違背', '達する', '運用', '運搬', '遅れ', '進行', '造', '通算', '通信', '途中', '迷惑', '迄', '辞任', '輸送', '輸出', '転売', '車両', '身元', '赴任', '資格', '貸付', '貸し', '買取', '買い受ける', '負債', '譲受', '講ずる', '調達', '調印', '調停', '説明', '認諾', '認定', '認め', '該月', '評価', '証明', '訳書', '訓練', '計量', '計算', '計', '言語', '覚書', '規約', '規律', '見積り', '見積', '要求', '要員', '要し', '複写', '複', '製作', '補填', '被害', '行政', '行使', '行なう', '行い', '良好', '致し', '自賠責', '自然', '脱退', '締切', '統括', '給電', '組織', '組合', '終結', '紛議', '純資産', '純正', '納付', '約款', '約', '算出', '競売', '立会', '立ち入り', '積', '税理士', '秩序', '社宅', '社員', '磁気', '確約', '短縮', '県', '看板', '相違', '相手', '相当', '直接的', '直接', '発行', '発展', '留保', '町', '申告', '申出', '申入れ', '申し出る', '申し出', '申し入れ', '申', '用地', '生ずる', '理由', '理', '現場', '現地', '独立', '特権', '特定', '特別', '濫用', '満期', '渡す', '減少', '添付', '消滅', '消去', '活動', '注', '求める', '水道', '氏名', '毎週', '残金', '残存', '正規', '機関', '機能', '機械', '標識', '構成', '業法', '検針', '格納', '株式', '校正', '有益', '有無', '有償', '有体物', '月日', '最高', '最大限', '最低', '替', '曜日', '暴力団', '明記', '既に', '新規', '文言', '故障', '改装', '改善', '支払わ', '支店', '操作', '撮影', '撤去', '掲示', '掲出', '推進', '排出', '授受', '据付', '振込む', '振替', '振出し', '振り込み', '指名', '招集', '抑制', '払', '手当', '所轄', '所要', '所定', '所在', '性質', '応じ', '徴収', '従う', '役務', '影響', '当初', '当', '引継ぎ', '引揚', '引き受ける', '建築', '年数', '常用', '帰任', '帰す', '市場', '市', '差', '工程', '工作', '届出', '就職', '就任', '尚', '将来', '対照', '対処', '対', '寄託', '寄与', '定期', '存する', '天災', '売掛金', '填補', '報奨', '地積', '地方裁判所', '地代', '地上', '在庫', '固有', '回数', '善良', '商', '命じ', '否', '向上', '名義', '名称', '名前', '同日', '各自', '各種', '司法', '受渡し', '受任', '取り', '取', '収集', '収受', '収', '双方', '及ぼす', '及ぼし', '参画', '去', '即時', '印鑑', '協定', '匿名', '勤続', '務', '労災', '労務', '助言', '加工', '前記', '前提', '到達', '別', '分離', '出荷', '出演', '出張', '出席', '出力', '写', '再生', '内金', '内装', '具備', '公認', '全部', '全員', '全', '入手', '入所', '入居', '先取', '充当', '償還', '備品', '側', '倍額', '倍', '保留', '保有', '保する', '便宜', '価値', '供与', '供する', '供', '使用人', '使', '併せ', '作業場', '作品', '作', '何れ', '会議', '会計士', '会計', '休職', '企画', '以降', '代行', '代物', '代品', '付加', '付さ', '什器', '交通', '事後', '事変', '事務所', '事件', '予防', '乗じ', '主張', '両', '不能', '不承認', '不当', '下落', '丁目', 'ヶ年', 'ロイヤリティ', 'リスク', 'メンテナンス', 'メインテナンス', 'マニュアル', 'プロジェクト', 'フロッピーディスク', 'フランチャイジー', 'バージョンアップ', 'バックグラウンド', 'データーベース', 'データ', 'テープ', 'スケジュール', 'コンテンツ', 'コピー', 'ガス', 'エネルギー', 'アフターサービス', 'ん', 'られる', 'よる', 'よら', 'もちろん', 'もしくは', 'みなす', 'まま', 'ませ', 'に際して', 'にあたり', 'なり', 'ども', 'とり', 'ところ', 'それぞれ', 'す', 'これら', 'かけ', 'おのおの', 'いつ', 'いえ', 'い', 'あり', 'あらかじめ', 'あっせん', 'IP', '41', '40', '39', '37', '36', '35', '34', '33']\n",
            "条のみに存在: [(132, '）\\\\'), (11, '除'), (11, '解'), (8, 'ビル'), (7, '走行'), (7, '警備'), (6, '避止'), (6, '距離'), (5, '謄本'), (5, '借受金'), (5, 'ロイズ'), (4, '題目'), (4, '車輌'), (4, '敷'), (4, '払利'), (4, '息'), (4, 'キロメートル'), (3, '順位'), (3, '試用'), (3, '総則'), (3, '標記'), (3, '極度'), (3, '暴排'), (3, 'コンソーシアム'), (3, 'いたし'), (2, '障'), (2, '車'), (2, '貸金'), (2, '諸費'), (2, '試み'), (2, '短時間'), (2, '登'), (2, '来訪'), (2, '暖簾'), (2, '扱い'), (2, '対物'), (2, '対人'), (2, '実働'), (2, '塗装'), (2, '在籍'), (2, '割賦'), (2, '也宛'), (2, 'カスタマーサービス'), (2, 'たら'), (2, 'たし'), (2, ')\\\\'), (1, '）～（'), (1, '類焼'), (1, '預り'), (1, '預け'), (1, '順序'), (1, '電源'), (1, '電報'), (1, '集金'), (1, '険'), (1, '附則'), (1, '金品'), (1, '配属'), (1, '郵便'), (1, '部署'), (1, '郎'), (1, '道順'), (1, '造成'), (1, '通行'), (1, '途'), (1, '返'), (1, '轄'), (1, '転送'), (1, '転用'), (1, '転換'), (1, '賞'), (1, '賃貸し'), (1, '貸し付け'), (1, '負'), (1, '訴'), (1, '観察'), (1, '親切'), (1, '要綱'), (1, '補則'), (1, '繕'), (1, '絡'), (1, '立案'), (1, '私道'), (1, '示'), (1, '相続'), (1, '監'), (1, '発'), (1, '用役'), (1, '甚だしく'), (1, '犯罪'), (1, '特記'), (1, '無期'), (1, '災厄'), (1, '減ずる'), (1, '決め方'), (1, '毀し'), (1, '残高'), (1, '歳'), (1, '検'), (1, '査'), (1, '来客'), (1, '服務'), (1, '服し'), (1, '月賦'), (1, '日給'), (1, '施す'), (1, '施'), (1, '教示'), (1, '揚げる'), (1, '掛金'), (1, '掛'), (1, '排他'), (1, '持込み'), (1, '払売'), (1, '必'), (1, '後任'), (1, '引抜き'), (1, '家屋'), (1, '実'), (1, '定時'), (1, '宅地'), (1, '失火'), (1, '外観'), (1, '増す'), (1, '報償'), (1, '地目'), (1, '地役'), (1, '商店'), (1, '同社'), (1, '受諾'), (1, '取立て'), (1, '取下げ'), (1, '取り計らい'), (1, '取りはからう'), (1, '厳守'), (1, '単'), (1, '勧誘'), (1, '前払い'), (1, '借切る'), (1, '修'), (1, '係員'), (1, '便益'), (1, '佐藤'), (1, '休'), (1, '中流'), (1, '与'), (1, '不法'), (1, '不慮'), (1, '三郎'), (1, 'ローン'), (1, 'トラック'), (1, 'デバッグ'), (1, 'ストアー'), (1, 'サンプル'), (1, 'アルバイト'), (1, 'わかり易い'), (1, 'よって'), (1, 'ととのえ'), (1, 'あう'), (1, '※'), (1, '2１'), (1, '1６'), (1, '1５'), (1, '1２')]\n",
            "項のみに存在: [(523, '当該'), (150, 'せ'), (132, '=\"'), (124, '含む'), (108, '産業'), (78, '基づい'), (78, 'span'), (78, 'id'), (78, 'class'), (78, 'anchor'), (78, '\"'), (74, '除き'), (70, '本条'), (67, '生じる'), (67, '希望'), (66, '<'), (65, '責め'), (60, '求め'), (59, '全て'), (57, '\">'), (56, '負わ'), (56, '行っ'), (56, '掲げる'), (52, 'う'), (50, '基準'), (47, '過失'), (47, 'あるいは'), (46, '］'), (46, '［'), (46, '是正'), (46, 'Text'), (44, '合理'), (44, 'いかなる'), (43, '発見'), (43, 'ご'), (42, '日本'), (42, 'ソフトウェア'), (42, 'カ月'), (41, '時点'), (41, 'すみやか'), (41, '●'), (40, '法律'), (39, '変動'), (39, '別段'), (38, '活用'), (38, '本店'), (38, '故意'), (38, '振り込ん'), (37, '除く'), (37, '同じ'), (36, '標ぼう'), (36, '事情'), (36, 'ゴロ'), (35, 'Ｂ'), (35, '媒介'), (34, '起算'), (34, 'ユーザ'), (33, '属する'), (33, '地変'), (32, '適切'), (32, '追加'), (32, '準ずる'), (32, 'さらに'), (31, '当たり'), (31, '委員'), (31, '前日'), (31, '例'), (31, '付し'), (31, 'システム'), (30, '図書'), (30, '動産'), (30, 'に際し'), (29, '過程'), (29, '票'), (28, '減額'), (28, '判明'), (27, '正当'), (27, '引き渡す'), (27, '両者'), (26, '東京'), (26, '同一'), (26, '友好'), (25, '経済'), (25, '写し'), (25, 'る'), (25, 'しよ'), (24, '詳細'), (24, '不可能'), (24, 'その後'), (24, '=\"_'), (23, 'ＧＳＫ'), (23, '造作'), (23, '要請'), (23, '正確'), (23, '性状'), (23, '屋'), (23, '媒体'), (23, '妨げ'), (23, '増減'), (23, '含ま'), (23, '化'), (23, '②'), (22, 'Ａ'), (22, '超える'), (22, '講じ'), (22, '着手'), (22, '有'), (22, '新た'), (22, '引き換え'), (22, '売り渡し'), (22, '具体'), (22, '予め'), (22, 'Toc'), (21, '明らか'), (21, '同等'), (21, '努める'), (21, '主'), (21, 'ヵ月'), (21, 'に当たって'), (21, '①'), (20, '／'), (20, '示し'), (20, '特殊'), (20, '団体'), (20, '争い'), (20, 'やむを得ない'), (19, '運動'), (19, '記名'), (19, '行お'), (19, '知能'), (19, '暴力'), (19, '引き渡し'), (19, '差し引い'), (19, '問題'), (19, '分配'), (19, 'にわたって'), (18, '集団'), (18, '請書'), (18, '証する'), (18, '無利息'), (18, '漏らし'), (18, '日数'), (18, '搬入'), (18, '別表'), (18, '修復'), (18, 'なんら'), (17, '隠れ'), (17, '試験'), (17, '著しく'), (17, '特段'), (17, '末'), (17, '政治'), (17, '役'), (17, '引き受け'), (17, '家族'), (17, '如何なる'), (17, '含め'), (17, '区画'), (16, '除い'), (16, '超え'), (16, '満た'), (16, '欠陥'), (16, '様式'), (16, '押印'), (16, '幹事'), (16, '事態'), (16, '万が一'), (16, 'メール'), (16, 'ホームページ'), (16, 'とる'), (16, 'いい'), (15, '賦課'), (15, '講演'), (15, '認める'), (15, '注文'), (15, '有し'), (15, '持っ'), (15, '室'), (15, '円滑'), (15, '□'), (14, '進捗'), (14, '考案'), (14, '税込'), (14, '税別'), (14, '異なる'), (14, '法人'), (14, '持分'), (14, '情勢'), (14, '従っ'), (14, '変化'), (14, '加え'), (14, 'テスト'), (14, 'つい'), (14, 'ごと'), (14, 'おい'), (14, '0'), (13, '違法'), (13, '達成'), (13, '環境'), (13, '準用'), (13, '日割'), (13, '改廃'), (13, '意匠'), (13, '帰し'), (13, '帰'), (13, '存在'), (13, '姿'), (13, '太陽光'), (13, '型'), (13, '内乱'), (13, '他人'), (13, '不完全'), (13, 'たる'), (13, 'あたり'), (12, '述べ'), (12, '至っ'), (12, '総'), (12, '清掃'), (12, '次に'), (12, '暴動'), (12, '日間'), (12, '戦争'), (12, '困難'), (12, '合致'), (12, '口頭'), (12, '制定'), (12, '公権力'), (12, '任じ'), (12, '他方'), (12, '事実'), (12, '争議'), (12, 'ガイドライン'), (12, 'それら'), (12, 'ざる'), (12, 'え'), (11, '：'), (11, '阻害'), (11, '通告'), (11, '貼付'), (11, '自動'), (11, '翻訳'), (11, '総称'), (11, '立て'), (11, '知っ'), (11, '構造'), (11, '根拠'), (11, '日付'), (11, '形式'), (11, '年度'), (11, '居住'), (11, '借受'), (11, '予想'), (11, 'コンピュータ'), (11, 'ないし'), (11, 'つ'), (11, 'したがっ'), (11, '\"><'), (10, '買受け'), (10, '課す'), (10, '要件'), (10, '翻案'), (10, '破産'), (10, '番号'), (10, '画像'), (10, '特に'), (10, '末尾'), (10, '昭和'), (10, '延期'), (10, '大幅'), (10, '増加'), (10, '合法'), (10, '可'), (10, '取り決める'), (10, '区'), (10, '努め'), (10, '削除'), (10, '別に'), (10, '円満'), (10, '公開'), (10, '免許'), (10, '伴い'), (10, '交渉'), (10, 'ストライキ'), (10, 'インターネット'), (10, 'アプリ'), (10, 'ただちに'), (10, 'したがい'), (9, '類する'), (9, '随時'), (9, '限る'), (9, '金利'), (9, '重要'), (9, '遭っ'), (9, '適宜'), (9, '週間'), (9, '踏まえ'), (9, '被ら'), (9, '置い'), (9, '端数'), (9, '程度'), (9, '知る'), (9, '申し込み'), (9, '現実'), (9, '猶予'), (9, '版'), (9, '決する'), (9, '業者'), (9, '末締め'), (9, '最小限'), (9, '書式'), (9, '明細'), (9, '新案'), (9, '改造'), (9, '拒絶'), (9, '性能'), (9, '幅'), (9, '実用'), (9, '伝え'), (9, '以前'), (9, '代え'), (9, '不要'), (9, '三'), (9, 'ドメイン'), (9, 'コンサルティング'), (9, 'ら'), (9, 'です'), (9, 'すでに'), (9, 'かぎり'), (9, 'あたる'), (9, '\">('), (8, '＞'), (8, '＜'), (8, '金属'), (8, '重んじ'), (8, '部'), (8, '趣旨'), (8, '買い受け'), (8, '識別'), (8, '証券'), (8, '著しい'), (8, '荷'), (8, '署'), (8, '総合'), (8, '簡易'), (8, '秘匿'), (8, '真実'), (8, '留意'), (8, '用語'), (8, '特措法'), (8, '滞納'), (8, '残置'), (8, '正常'), (8, '日割り'), (8, '振込み'), (8, '従わ'), (8, '当日'), (8, '引き取る'), (8, '年月日'), (8, '差異'), (8, '容易'), (8, '官公'), (8, '安定'), (8, '各項'), (8, '受け入れ'), (8, '前月'), (8, '再度'), (8, '共通'), (8, '公的'), (8, '充てる'), (8, '健康'), (8, '与える'), (8, 'ヵ年'), (8, 'モデル'), (8, 'テキスト'), (8, 'チェーン'), (8, 'エネ'), (8, 'を以て'), (8, 'もとづく'), (8, 'と共に'), (8, 'とら'), (8, 'つけ'), (8, 'か年'), (7, '高'), (7, '電'), (7, '限ら'), (7, '都'), (7, '近隣'), (7, '誤り'), (7, '解消'), (7, '職員'), (7, '翌'), (7, '総務'), (7, '給排水'), (7, '竣工'), (7, '立ち入る'), (7, '移管'), (7, '相応'), (7, '発送'), (7, '申し立て'), (7, '法規'), (7, '毎年'), (7, '機会'), (7, '株券'), (7, '未満'), (7, '未だに'), (7, '映像'), (7, '新'), (7, '損耗'), (7, '抵触'), (7, '手段'), (7, '意見'), (7, '引き渡さ'), (7, '延滞'), (7, '少なくとも'), (7, '尊重'), (7, '学生'), (7, '地方'), (7, '国'), (7, '向かっ'), (7, '合わせ'), (7, '又'), (7, '厳に'), (7, '原'), (7, '印刷物'), (7, '加える'), (7, '個々'), (7, '住居'), (7, '代える'), (7, '付随'), (7, '主要'), (7, '不用'), (7, 'シート'), (7, 'インストール'), (7, 'べから'), (7, 'どおり'), (7, '-'), (6, '－'), (6, '迅速'), (6, '資金'), (6, '譲り受ける'), (6, '講師'), (6, '課せ'), (6, '記入'), (6, '被る'), (6, '良品'), (6, '脚色'), (6, '置き'), (6, '編曲'), (6, '等し'), (6, '確実'), (6, '用いる'), (6, '環境省'), (6, '無い'), (6, '無'), (6, '災害'), (6, '次項'), (6, '未払い'), (6, '映画'), (6, '搬出'), (6, '損益'), (6, '損傷'), (6, '捺印'), (6, '拠点'), (6, '想定'), (6, '復する'), (6, '差押'), (6, '工場'), (6, '届け出'), (6, '対策'), (6, '密接'), (6, '実際'), (6, '変形'), (6, '基礎'), (6, '告示'), (6, '含み'), (6, '同年'), (6, '受付'), (6, '取り扱う'), (6, '十分'), (6, '募集'), (6, '加算'), (6, '分析'), (6, '出稿'), (6, '公'), (6, '先立っ'), (6, '値'), (6, '何らかの'), (6, '不良'), (6, '不正'), (6, 'を通じて'), (6, 'よ'), (6, 'もとづき'), (6, 'き損'), (6, '['), (5, 'ＩＤ'), (5, '黙示'), (5, '食堂'), (5, '電話'), (5, '配慮'), (5, '追及'), (5, '追'), (5, '設営'), (5, '観点'), (5, '虚偽'), (5, '荷受'), (5, '腐敗'), (5, '能力'), (5, '署名'), (5, '締切り'), (5, '経'), (5, '組'), (5, '破壊'), (5, '県内'), (5, '申し入れる'), (5, '用益'), (5, '生活'), (5, '環境庁'), (5, '現に'), (5, '物価'), (5, '照合'), (5, '無断'), (5, '点'), (5, '満たさ'), (5, '混入'), (5, '消耗'), (5, '比較'), (5, '正社員'), (5, '模様替え'), (5, '検証'), (5, '月末'), (5, '最小'), (5, '施行'), (5, '改めて'), (5, '提起'), (5, '提案'), (5, '提'), (5, '指図'), (5, '拒否'), (5, '折半'), (5, '払い'), (5, '意義'), (5, '恐れ'), (5, '形'), (5, '引き'), (5, '少ない'), (5, '家'), (5, '変質'), (5, '売却'), (5, '否認'), (5, '向け'), (5, '受取っ'), (5, '取り交わす'), (5, '参照'), (5, '厳重'), (5, '創出'), (5, '初年度'), (5, '光学'), (5, '借り受ける'), (5, '個'), (5, '何'), (5, '休業'), (5, '任'), (5, '付属'), (5, '付与'), (5, '了解'), (5, '並び'), (5, '下ろし'), (5, '一定'), (5, 'レジストラ'), (5, 'ルーチン'), (5, 'モジュール'), (5, 'パンフレット'), (5, 'ケ月'), (5, 'アクセス'), (5, 'もとより'), (5, 'みなし'), (5, 'みなさ'), (5, 'ともない'), (5, 'だ'), (5, 'たい'), (5, 'させる'), (5, ']'), (5, 'C'), (4, '＿'), (4, '齟齬'), (4, '預金'), (4, '預け入れる'), (4, '雇'), (4, '障害'), (4, '銭'), (4, '配信'), (4, '選別'), (4, '適する'), (4, '過誤'), (4, '過'), (4, '述べる'), (4, '軽微'), (4, '足りる'), (4, '負っ'), (4, '譲受人'), (4, '設け'), (4, '要望'), (4, '補正'), (4, '裁量'), (4, '自身'), (4, '自費'), (4, '自体'), (4, '考慮'), (4, '締め'), (4, '組成'), (4, '立場'), (4, '立入る'), (4, '立ち入っ'), (4, '窓口'), (4, '積み込み'), (4, '税額'), (4, '税法'), (4, '福祉'), (4, '確立'), (4, '知識'), (4, '申立'), (4, '用法'), (4, '独自'), (4, '照明'), (4, '為'), (4, '漏れ'), (4, '漏'), (4, '準じ'), (4, '満たす'), (4, '測量'), (4, '混合'), (4, '民事'), (4, '段階'), (4, '残余'), (4, '検討'), (4, '検定'), (4, '案内'), (4, '本書'), (4, '月間'), (4, '更衣'), (4, '普通'), (4, '明確'), (4, '明け渡さ'), (4, '早い'), (4, '日歩'), (4, '日前'), (4, '方針'), (4, '方式'), (4, '教授'), (4, '改正'), (4, '損なう'), (4, '提携'), (4, '拡大'), (4, '拒む'), (4, '手付け金'), (4, '所内'), (4, '慣行'), (4, '意味'), (4, '徹底'), (4, '形態'), (4, '建具'), (4, '年率'), (4, '常に'), (4, '容器'), (4, '実現'), (4, '実地'), (4, '完'), (4, '売り渡す'), (4, '壁'), (4, '基づか'), (4, '図'), (4, '器具'), (4, '問い合わせ'), (4, '商法'), (4, '商号'), (4, '品名'), (4, '含有'), (4, '名簿'), (4, '合併'), (4, '取扱う'), (4, '取る'), (4, '取り消さ'), (4, '収入'), (4, '反する'), (4, '参考'), (4, '半額'), (4, '半'), (4, '創作'), (4, '利率'), (4, '再開'), (4, '入れ'), (4, '免れる'), (4, '免れ'), (4, '信頼'), (4, '保証書'), (4, '係わる'), (4, '何等'), (4, '体制'), (4, '伝票'), (4, '令'), (4, '代わっ'), (4, '付き'), (4, '仕方'), (4, '仕掛'), (4, '事'), (4, '了承'), (4, '中断'), (4, '不具合'), (4, '上本'), (4, '上回る'), (4, '万一'), (4, '一式'), (4, 'レクリエーション'), (4, 'ユーザー'), (4, 'マーク'), (4, 'プライバシー'), (4, 'ブランド'), (4, 'フィルム'), (4, 'パスワード'), (4, 'データベース'), (4, 'ディスク'), (4, 'もれ'), (4, 'ものの'), (4, 'ま'), (4, 'のち'), (4, 'に当たり'), (4, 'なくなっ'), (4, 'ないしは'), (4, 'とどめ'), (4, 'ずる'), (4, 'ずつ'), (4, 'したがう'), (4, 'こ'), (4, 'き'), (4, 'かかわる'), (4, 'あと'), (4, '③'), (4, '①②'), (4, 'CD'), (4, '48'), (4, '365'), (4, '120'), (3, 'ｉ'), (3, 'ＰＣ'), (3, 'ＯＳ'), (3, 'Ｄ'), (3, '類型'), (3, '頒布'), (3, '面'), (3, '電磁'), (3, '雨漏り'), (3, '集計'), (3, '陥っ'), (3, '限っ'), (3, '開店'), (3, '長'), (3, '重過失'), (3, '配分'), (3, '部位'), (3, '選定'), (3, '過半数'), (3, '遅くとも'), (3, '進学'), (3, '連続'), (3, '送信'), (3, '返金'), (3, '込み'), (3, '身体'), (3, '買い取り'), (3, '販路'), (3, '販促'), (3, '貢献'), (3, '譲り受け'), (3, '謄写'), (3, '請負人'), (3, '課'), (3, '認識'), (3, '診断'), (3, '設ける'), (3, '記述'), (3, '記憶'), (3, '訂正'), (3, '規格'), (3, '規制'), (3, '複数'), (3, '装置'), (3, '行'), (3, '自立'), (3, '自社'), (3, '自由'), (3, '自家用車'), (3, '腐食'), (3, '考える'), (3, '翌年'), (3, '罰'), (3, '続ける'), (3, '細則'), (3, '素材'), (3, '策'), (3, '立入り'), (3, '積込み'), (3, '積替え'), (3, '稼働'), (3, '税務'), (3, '祝祭日'), (3, '示す'), (3, '省令'), (3, '直前'), (3, '監査'), (3, '発する'), (3, '発し'), (3, '番地'), (3, '申入'), (3, '産'), (3, '生産'), (3, '生'), (3, '率'), (3, '渡さ'), (3, '減'), (3, '沿っ'), (3, '比率'), (3, '次第'), (3, '機材'), (3, '概算'), (3, '棟'), (3, '棄物'), (3, '材'), (3, '木部'), (3, '有形'), (3, '月次'), (3, '書名'), (3, '更生'), (3, '更正'), (3, '更'), (3, '日程'), (3, '整理'), (3, '政府'), (3, '政令'), (3, '改修'), (3, '携帯'), (3, '接する'), (3, '据付け'), (3, '振出'), (3, '所得'), (3, '成し'), (3, '成'), (3, '情報処理'), (3, '急'), (3, '必ず'), (3, '当局'), (3, '式'), (3, '廉売'), (3, '廃'), (3, '年利'), (3, '差額'), (3, '屋根'), (3, '小売'), (3, '小切手'), (3, '導入'), (3, '対等'), (3, '宿泊'), (3, '害'), (3, '守り'), (3, '子会社'), (3, '委ねる'), (3, '妥当'), (3, '失'), (3, '天候'), (3, '大阪'), (3, '外部'), (3, '変'), (3, '増'), (3, '塾'), (3, '均等'), (3, '回避'), (3, '回路'), (3, '品種'), (3, '品目'), (3, '名誉'), (3, '同月'), (3, '受電'), (3, '取替え'), (3, '収録'), (3, '及ぶ'), (3, '及'), (3, '卸売'), (3, '卸'), (3, '医療'), (3, '区間'), (3, '包装'), (3, '副'), (3, '制裁'), (3, '制'), (3, '初回'), (3, '切り捨てる'), (3, '分界'), (3, '出来高'), (3, '出来る'), (3, '冷暖房'), (3, '共'), (3, '入院'), (3, '備え'), (3, '値札'), (3, '借家'), (3, '借'), (3, '倒産'), (3, '倉庫'), (3, '保安'), (3, '保つ'), (3, '係長'), (3, '作物'), (3, '伴っ'), (3, '件'), (3, '仲裁'), (3, '二分'), (3, '主催'), (3, '主任'), (3, '主たる'), (3, '不明'), (3, '下げ'), (3, '一覧'), (3, 'ラベル'), (3, 'フランチャイズ'), (3, 'センター'), (3, 'シロアリ'), (3, 'カタログ'), (3, 'イベント'), (3, 'わ'), (3, 'り'), (3, 'もつ'), (3, 'はじめ'), (3, 'はかる'), (3, 'にあたる'), (3, 'とも'), (3, 'だけ'), (3, 'たとえ'), (3, 'そ'), (3, 'すれ'), (3, 'じ'), (3, 'させ'), (3, 'きれ'), (3, 'うける'), (3, 'いたる'), (3, 'あわせ'), (3, 'あろ'), (3, 'あ'), (3, '〕'), (3, '〔'), (3, 'ii'), (3, 'R'), (3, 'D'), (3, 'B'), (3, '60'), (3, '44'), (3, '/'), (3, '-------------------------'), (3, ','), (2, '～'), (2, 'ｃ'), (2, 'ｂ'), (2, '１つ'), (2, '鮮明'), (2, '風速'), (2, '領収証'), (2, '需要'), (2, '電波'), (2, '電圧'), (2, '雨水'), (2, '難い'), (2, '離れ'), (2, '集'), (2, '際し'), (2, '院生'), (2, '関わら'), (2, '関わっ'), (2, '門'), (2, '金曜日'), (2, '量産'), (2, '配電'), (2, '配送'), (2, '避ける'), (2, '適性'), (2, '達し'), (2, '過去'), (2, '過分'), (2, '遅い'), (2, '逸失'), (2, '進める'), (2, '通念'), (2, '通じ'), (2, '返戻'), (2, '返信'), (2, '返し'), (2, '近接'), (2, '輸入'), (2, '転載'), (2, '足し'), (2, '質入れ'), (2, '貼用'), (2, '買い取る'), (2, '買'), (2, '財'), (2, '議決'), (2, '謝辞'), (2, '講ず'), (2, '講じる'), (2, '諸法'), (2, '請け負う'), (2, '課程'), (2, '課さ'), (2, '話し合い'), (2, '試供'), (2, '訴え'), (2, '許認可'), (2, '許可なく'), (2, '設'), (2, '記し'), (2, '託'), (2, '解析'), (2, '見込ま'), (2, '要領'), (2, '要さ'), (2, '補助'), (2, '補充'), (2, '装飾'), (2, '行える'), (2, '自署'), (2, '臨機'), (2, '肖像'), (2, '耐力'), (2, '編入'), (2, '締め日'), (2, '締め切り'), (2, '絵画'), (2, '組み込ん'), (2, '紹介'), (2, '累積'), (2, '納車'), (2, '納税'), (2, '納品書'), (2, '立てる'), (2, '立ち退き'), (2, '立ち会う'), (2, '立ち会い'), (2, '空家'), (2, '積極'), (2, '稼動'), (2, '税務署'), (2, '移行'), (2, '祝日'), (2, '社内'), (2, '示さ'), (2, '研究所'), (2, '知ら'), (2, '着工'), (2, '省略'), (2, '発色'), (2, '発効'), (2, '病状'), (2, '病変'), (2, '異動'), (2, '異なっ'), (2, '申込み'), (2, '生年月日'), (2, '生命'), (2, '特徴'), (2, '無料'), (2, '演奏'), (2, '滞っ'), (2, '準じる'), (2, '満たせ'), (2, '渡る'), (2, '減量'), (2, '添え'), (2, '添'), (2, '流出'), (2, '派生'), (2, '洩らさ'), (2, '没収'), (2, '決める'), (2, '求償'), (2, '水銀'), (2, '水準'), (2, '水'), (2, '民法'), (2, '正'), (2, '欠員'), (2, '欠く'), (2, '欄'), (2, '機種'), (2, '機'), (2, '樹木'), (2, '梱包'), (2, '案'), (2, '株'), (2, '査定'), (2, '果たす'), (2, '枚'), (2, '来たす'), (2, '来'), (2, '条例'), (2, '本社'), (2, '本番'), (2, '本文'), (2, '期待'), (2, '望む'), (2, '有価'), (2, '有さ'), (2, '月曜日'), (2, '最新'), (2, '最大'), (2, '最初'), (2, '替える'), (2, '書換'), (2, '暦'), (2, '時価'), (2, '日射'), (2, '施錠'), (2, '施し'), (2, '断固'), (2, '整わ'), (2, '数次'), (2, '数'), (2, '改築'), (2, '支配'), (2, '接続'), (2, '接客'), (2, '探索'), (2, '据え付け'), (2, '振'), (2, '挙げる'), (2, '指針'), (2, '指令'), (2, '拡張'), (2, '拘束'), (2, '抜'), (2, '把握'), (2, '技能'), (2, '払額'), (2, '払賃'), (2, '払う'), (2, '成否'), (2, '成さ'), (2, '懈怠'), (2, '意図'), (2, '性格'), (2, '性別'), (2, '急変'), (2, '応ずる'), (2, '従前'), (2, '後片付け'), (2, '後日'), (2, '役割'), (2, '形状'), (2, '当たる'), (2, '引上げ'), (2, '庭石'), (2, '店内'), (2, '年金'), (2, '平等'), (2, '平均'), (2, '帰趨'), (2, '差入れる'), (2, '差入れ'), (2, '差し止め'), (2, '差し引く'), (2, '差し入れる'), (2, '工'), (2, '展示'), (2, '屋外'), (2, '届け先'), (2, '就学'), (2, '将'), (2, '専用'), (2, '専ら'), (2, '対抗'), (2, '審判'), (2, '室内'), (2, '実験'), (2, '実質'), (2, '宛名'), (2, '官庁'), (2, '官公庁'), (2, '委'), (2, '大'), (2, '多少'), (2, '外装'), (2, '増強'), (2, '基'), (2, '執筆'), (2, '地盤'), (2, '地主'), (2, '土日'), (2, '土'), (2, '因果'), (2, '回答'), (2, '回付'), (2, '善後'), (2, '唱える'), (2, '品数'), (2, '命ずる'), (2, '周波数'), (2, '合否'), (2, '台数'), (2, '可及的'), (2, '受領証'), (2, '受理'), (2, '受け入れる'), (2, '取り扱わ'), (2, '取り交わし'), (2, '取り交わさ'), (2, '収納'), (2, '及ぼさ'), (2, '去っ'), (2, '原材料'), (2, '原本'), (2, '協賛'), (2, '半年'), (2, '午後'), (2, '医師'), (2, '包括'), (2, '勿論'), (2, '勝手'), (2, '動作'), (2, '効果'), (2, '加減'), (2, '力量'), (2, '割り当て'), (2, '前納'), (2, '則り'), (2, '別個'), (2, '初版'), (2, '分別'), (2, '出店'), (2, '処'), (2, '准'), (2, '共用'), (2, '公用'), (2, '公序良俗'), (2, '免税'), (2, '先立つ'), (2, '先立ち'), (2, '充分'), (2, '元本'), (2, '元年'), (2, '傷つける'), (2, '備に'), (2, '保健'), (2, '係り'), (2, '係ら'), (2, '作為'), (2, '作動'), (2, '余剰'), (2, '体'), (2, '低下'), (2, '但書'), (2, '任命'), (2, '仮設'), (2, '仮処分'), (2, '他社'), (2, '仕'), (2, '介入'), (2, '人数'), (2, '事業主'), (2, '予納'), (2, '了'), (2, '中心'), (2, '不服'), (2, '不合格'), (2, '不可'), (2, '不備'), (2, '下回っ'), (2, '上昇'), (2, '上回っ'), (2, 'ース'), (2, 'レポート'), (2, 'リアルタイム'), (2, 'ポスター'), (2, 'ファイル'), (2, 'パブリシティ'), (2, 'バックアップ'), (2, 'データーベ'), (2, 'デジタル'), (2, 'テーマ'), (2, 'テレビ'), (2, 'チラシ'), (2, 'スクリプト'), (2, 'スキャン'), (2, 'サイズ'), (2, 'コード'), (2, 'グレード'), (2, 'クライアント・コンピュータ'), (2, 'キロワット時'), (2, 'カスタマー・サービス・センター'), (2, 'ウェブコンテンツ'), (2, 'インターフェース'), (2, 'イメージ'), (2, 'アプリケーション'), (2, 'アフター'), (2, 'アドバイザー'), (2, 'よび'), (2, 'やむを得ず'), (2, 'もたらす'), (2, 'もし'), (2, 'みあう'), (2, 'ほど'), (2, 'ふさわしい'), (2, 'び'), (2, 'にとって'), (2, 'つる'), (2, 'つつ'), (2, 'つける'), (2, 'っ'), (2, 'その間'), (2, 'そのもの'), (2, 'せよ'), (2, 'せしめる'), (2, 'この間'), (2, 'ここ'), (2, 'け'), (2, 'きたす'), (2, 'がたい'), (2, 'うけ'), (2, 'あらゆる'), (2, 'あたら'), (2, '。\\\\'), (2, '○○○○○○」'), (2, '○○○○'), (2, '○.○％（'), (2, '×'), (2, ']，'), (2, 'ROM'), (2, 'MO'), (2, 'Hlk'), (2, 'HTML'), (2, '45'), (2, '000'), (2, ')（'), (2, '))'), (1, '､'), (1, 'ｔ'), (1, 'ｍ'), (1, 'ａ'), (1, 'Ｕ'), (1, 'Ｅ'), (1, 'Ｃ'), (1, '：○○○○○○○'), (1, '，['), (1, '）('), (1, '高額'), (1, '高揚'), (1, '高い'), (1, '騒音'), (1, '養成'), (1, '飼育'), (1, '飲食'), (1, '風害'), (1, '風力'), (1, '類'), (1, '題号'), (1, '頻度'), (1, '領収'), (1, '音声'), (1, '非難'), (1, '電球'), (1, '雇い'), (1, '隣地'), (1, '障子'), (1, '隔離'), (1, '陥没'), (1, '陥り'), (1, '陥'), (1, '附帯'), (1, '防水'), (1, '防御'), (1, '阪'), (1, '関する'), (1, '関'), (1, '間違え'), (1, '開閉'), (1, '開設'), (1, '開拓'), (1, '開催'), (1, '開か'), (1, '開'), (1, '長期間'), (1, '鑑賞'), (1, '鑑み'), (1, '銀'), (1, '配布'), (1, '配'), (1, '都市'), (1, '部長'), (1, '選ん'), (1, '適'), (1, '遡っ'), (1, '違い'), (1, '道'), (1, '過剰'), (1, '過し'), (1, '運賃'), (1, '逸し'), (1, '週'), (1, '連名'), (1, '連合'), (1, '速'), (1, '通達'), (1, '通報'), (1, '通商産業省'), (1, '通勤'), (1, '逃れる'), (1, '退社'), (1, '返送'), (1, '近傍'), (1, '近似'), (1, '込'), (1, '軽減'), (1, '転居'), (1, '転入'), (1, '転倒'), (1, '車庫'), (1, '軀体'), (1, '躯'), (1, '足る'), (1, '越え'), (1, '質疑'), (1, '賠'), (1, '資源'), (1, '資本'), (1, '資力'), (1, '資'), (1, '貿易'), (1, '貸し付ける'), (1, '買掛'), (1, '買取る'), (1, '買取り'), (1, '買収'), (1, '財政'), (1, '財団'), (1, '財務'), (1, '象'), (1, '諾'), (1, '諮っ'), (1, '論文'), (1, '請け負わ'), (1, '請け負い'), (1, '請'), (1, '課長'), (1, '課税'), (1, '課し'), (1, '読み替える'), (1, '誤認'), (1, '誤っ'), (1, '認証'), (1, '認知'), (1, '誇大'), (1, '該'), (1, '試運転'), (1, '試薬'), (1, '試算'), (1, '試料'), (1, '許容'), (1, '許さ'), (1, '許'), (1, '設立'), (1, '記号'), (1, '記す'), (1, '言動'), (1, '解読'), (1, '解任'), (1, '親会社'), (1, '親しま'), (1, '視聴'), (1, '規'), (1, '見通し'), (1, '見込ん'), (1, '見込み'), (1, '見合う'), (1, '見なし'), (1, '見つかっ'), (1, '要旨'), (1, '製'), (1, '補する'), (1, '裏書'), (1, '装っ'), (1, '被災'), (1, '表記'), (1, '表現'), (1, '行動'), (1, '行なわ'), (1, '行なっ'), (1, '行ない'), (1, '落下'), (1, '萬'), (1, '英訳'), (1, '色調'), (1, '至ら'), (1, '自転車'), (1, '自責'), (1, '自然人'), (1, '自家用'), (1, '自宅'), (1, '自'), (1, '臨時'), (1, '臨床'), (1, '脅迫'), (1, '肖'), (1, '職業'), (1, '職場'), (1, '聴取'), (1, '習慣'), (1, '翌々月'), (1, '翌々'), (1, '置場'), (1, '繰り返し'), (1, '縮小'), (1, '編成'), (1, '編'), (1, '締'), (1, '総数'), (1, '総て'), (1, '緊密'), (1, '絶縁'), (1, '結び'), (1, '結'), (1, '経験'), (1, '経年'), (1, '経る'), (1, '組み合わせ'), (1, '組み'), (1, '終期'), (1, '終'), (1, '紛失'), (1, '級'), (1, '紙'), (1, '純'), (1, '範'), (1, '算'), (1, '箇月'), (1, '箇所'), (1, '符号'), (1, '端末'), (1, '立替え'), (1, '立っ'), (1, '立ち会わ'), (1, '空間'), (1, '空き家'), (1, '積立て'), (1, '積立'), (1, '積み立てる'), (1, '積み立て'), (1, '税率'), (1, '科学'), (1, '禁じ'), (1, '祝'), (1, '石造'), (1, '石綿'), (1, '知得'), (1, '督促'), (1, '真摯'), (1, '真に'), (1, '直近'), (1, '直営店'), (1, '盛り込ん'), (1, '的確'), (1, '百'), (1, '発揮'), (1, '発売'), (1, '病気'), (1, '疑い'), (1, '畳'), (1, '異論'), (1, '異な'), (1, '留める'), (1, '留め'), (1, '画面'), (1, '申出る'), (1, '申し述べ'), (1, '申し立てる'), (1, '生存'), (1, '特性'), (1, '物理'), (1, '物権'), (1, '爾後'), (1, '爆発'), (1, '燃料'), (1, '照らし'), (1, '無関係'), (1, '無体'), (1, '無く'), (1, '為替'), (1, '演劇'), (1, '漏えい'), (1, '源泉'), (1, '源'), (1, '満足'), (1, '港'), (1, '渡り'), (1, '減じ'), (1, '渋谷'), (1, '消'), (1, '浸水'), (1, '浸入'), (1, '注油'), (1, '法例'), (1, '治療'), (1, '治'), (1, '没'), (1, '沈下'), (1, '決算'), (1, '決め'), (1, '汚損'), (1, '汎用'), (1, '求'), (1, '毎回'), (1, '残し'), (1, '歴史'), (1, '歯科'), (1, '正文'), (1, '正否'), (1, '止め'), (1, '止'), (1, '次長'), (1, '欠け'), (1, '欠い'), (1, '標準'), (1, '様子'), (1, '概要'), (1, '業界'), (1, '検索'), (1, '植物'), (1, '校'), (1, '果たせ'), (1, '来る'), (1, '来たし'), (1, '条約'), (1, '本質'), (1, '本拠'), (1, '本年'), (1, '本営'), (1, '本体'), (1, '未然'), (1, '未払金'), (1, '木造'), (1, '期末'), (1, '有限'), (1, '有用'), (1, '有権'), (1, '有料'), (1, '有利'), (1, '有体'), (1, '月例'), (1, '最長'), (1, '替え'), (1, '書換え'), (1, '書中'), (1, '暗示'), (1, '普及'), (1, '時季'), (1, '時刻'), (1, '是'), (1, '明白'), (1, '明治'), (1, '旧'), (1, '日経'), (1, '日照'), (1, '日本工業規格'), (1, '日本国'), (1, '既成'), (1, '既存'), (1, '旗'), (1, '施さ'), (1, '新聞'), (1, '新宿'), (1, '断絶'), (1, '断'), (1, '文'), (1, '救護'), (1, '救済'), (1, '放映'), (1, '改作'), (1, '改ざん'), (1, '支う'), (1, '操業'), (1, '摩耗'), (1, '損壊'), (1, '換価'), (1, '提訴'), (1, '控室'), (1, '控え'), (1, '接触'), (1, '採否'), (1, '捜査'), (1, '振込ん'), (1, '振興'), (1, '振動'), (1, '振り込ま'), (1, '振り出し'), (1, '指摘'), (1, '持ち出す'), (1, '持'), (1, '拘わら'), (1, '拒ん'), (1, '抽出'), (1, '折衝'), (1, '承'), (1, '扱'), (1, '払わ'), (1, '払っ'), (1, '払い戻し'), (1, '打ち合わせ'), (1, '打ち切っ'), (1, '手順'), (1, '手直し'), (1, '戦略'), (1, '或いは'), (1, '成績'), (1, '成功'), (1, '慣習'), (1, '急病'), (1, '忠実'), (1, '応諾'), (1, '応答'), (1, '徴求'), (1, '復旧'), (1, '復元'), (1, '得意'), (1, '得喪'), (1, '従来'), (1, '役職'), (1, '形成'), (1, '当番'), (1, '強'), (1, '引替え'), (1, '引当て'), (1, '引受け'), (1, '引き続き'), (1, '引き取り'), (1, '引き取っ'), (1, '弐拾'), (1, '庶務'), (1, '床'), (1, '広島'), (1, '年齢'), (1, '年額'), (1, '平面'), (1, '平'), (1, '常時'), (1, '常備'), (1, '市町村'), (1, '差引く'), (1, '差引'), (1, '差別'), (1, '工数'), (1, '工夫'), (1, '履歴'), (1, '属'), (1, '届け出る'), (1, '届け'), (1, '局'), (1, '尽くす'), (1, '小数'), (1, '小'), (1, '専'), (1, '対当'), (1, '対し'), (1, '寸法'), (1, '家賃'), (1, '家具'), (1, '害する'), (1, '害さ'), (1, '客観'), (1, '実装'), (1, '実態'), (1, '実務'), (1, '定量'), (1, '定価'), (1, '官房'), (1, '守っ'), (1, '学術'), (1, '学会'), (1, '季節'), (1, '存'), (1, '子'), (1, '始期'), (1, '始'), (1, '妨害'), (1, '失わ'), (1, '天変地異'), (1, '大臣'), (1, '多く'), (1, '変電'), (1, '壱'), (1, '声望'), (1, '増設'), (1, '塀'), (1, '基本給'), (1, '基き'), (1, '地震'), (1, '地点'), (1, '地形'), (1, '地元'), (1, '地価'), (1, '地下'), (1, '在職'), (1, '国際'), (1, '国籍'), (1, '国立'), (1, '国民'), (1, '国外'), (1, '国内外'), (1, '国内'), (1, '図表'), (1, '図上'), (1, '図り'), (1, '図ら'), (1, '囲'), (1, '回線'), (1, '四捨五入'), (1, '営利'), (1, '善意'), (1, '商業'), (1, '命じる'), (1, '周知'), (1, '呈示'), (1, '同盟罷業'), (1, '同業'), (1, '同居'), (1, '合弁'), (1, '合同'), (1, '各社'), (1, '各校'), (1, '各日'), (1, '各々'), (1, '受付け'), (1, '受け取る'), (1, '受け付ける'), (1, '受けれ'), (1, '受'), (1, '取締り'), (1, '取消し'), (1, '取消さ'), (1, '取次'), (1, '取払い'), (1, '取外し'), (1, '取れ'), (1, '取り除か'), (1, '取り立て'), (1, '取り消す'), (1, '取り替え'), (1, '取り扱っ'), (1, '取りまとめる'), (1, '取りまとめ'), (1, '取ら'), (1, '反射'), (1, '及ん'), (1, '却'), (1, '印'), (1, '単に'), (1, '協会'), (1, '半分'), (1, '十'), (1, '区長'), (1, '区域'), (1, '勘案'), (1, '動物'), (1, '動'), (1, '効'), (1, '加えよ'), (1, '力'), (1, '割り当てる'), (1, '剰余'), (1, '前金'), (1, '前後'), (1, '前年度'), (1, '前々'), (1, '削減'), (1, '則っ'), (1, '制約'), (1, '制度'), (1, '到来'), (1, '利'), (1, '判決'), (1, '判'), (1, '初日'), (1, '初任'), (1, '初め'), (1, '切除'), (1, '切り捨て'), (1, '分母'), (1, '出所'), (1, '出入口'), (1, '出す'), (1, '内部'), (1, '兼ねる'), (1, '兼'), (1, '共に'), (1, '公衆'), (1, '公益'), (1, '全般'), (1, '全体'), (1, '入室'), (1, '児'), (1, '光'), (1, '先後'), (1, '優れ'), (1, '償却'), (1, '償'), (1, '像'), (1, '傾向'), (1, '傷つけ'), (1, '催'), (1, '備え付ける'), (1, '備える'), (1, '停電'), (1, '倫理'), (1, '値引き'), (1, '候'), (1, '倒壊'), (1, '個所'), (1, '修了'), (1, '信販'), (1, '信条'), (1, '促す'), (1, '係'), (1, '供物'), (1, '例示'), (1, '使命'), (1, '併行'), (1, '作家'), (1, '何時'), (1, '住民'), (1, '住宅金融公庫'), (1, '位置づけ'), (1, '位'), (1, '但し書き'), (1, '伴わ'), (1, '伝わら'), (1, '伝える'), (1, '休講'), (1, '件名'), (1, '仮に'), (1, '以'), (1, '代筆'), (1, '代価'), (1, '代り'), (1, '付近'), (1, '付着'), (1, '付合'), (1, '付人'), (1, '付す'), (1, '人為'), (1, '人事'), (1, '享受'), (1, '交代'), (1, '交わし'), (1, '些細'), (1, '五'), (1, '事象'), (1, '予測'), (1, '乗用'), (1, '乃至'), (1, '主管'), (1, '中等'), (1, '且つ'), (1, '与する'), (1, '不適切'), (1, '不適任'), (1, '不調'), (1, '不相応'), (1, '不渡り'), (1, '不可欠'), (1, '不利'), (1, '不信'), (1, '不一致'), (1, '下命'), (1, '下取り'), (1, '下げよ'), (1, '上等'), (1, '上位'), (1, '上乙'), (1, '万全'), (1, '一般社団法人日本卸電力取引所又'), (1, '一旦'), (1, '一体'), (1, 'ービス'), (1, 'ヶ'), (1, 'ロ'), (1, 'リーダー'), (1, 'リニューアル'), (1, 'リサイクル'), (1, 'モール'), (1, 'メーカー'), (1, 'メニュー'), (1, 'メディア'), (1, 'メッセージ'), (1, 'ミーティング'), (1, 'マネージャー'), (1, 'マネジメント'), (1, 'マイ'), (1, 'ポリシー'), (1, 'ボーナス'), (1, 'ページ'), (1, 'ベ'), (1, 'プロトコル'), (1, 'プレゼン'), (1, 'プレ'), (1, 'プラン'), (1, 'ファクシミリ'), (1, 'ファイ'), (1, 'ピクセル'), (1, 'ヒト'), (1, 'パワー'), (1, 'パッケージ'), (1, 'パス'), (1, 'バック'), (1, 'ハ'), (1, 'ニーズ'), (1, 'ナンシャルアドバイザー'), (1, 'トン'), (1, 'データーベー'), (1, 'デザイン'), (1, 'ディスカウント'), (1, 'デ'), (1, 'セキュリティ'), (1, 'スーパーマーケット'), (1, 'スリー'), (1, 'ステージ'), (1, 'ス'), (1, 'ショッピング'), (1, 'サービサー'), (1, 'サーバ'), (1, 'サイト'), (1, 'サイ'), (1, 'サ'), (1, 'コンフリクト'), (1, 'コンピューター'), (1, 'コンディショナー'), (1, 'コンクリート'), (1, 'ケース'), (1, 'ケア'), (1, 'グループ'), (1, 'グランド'), (1, 'グッズ'), (1, 'クル'), (1, 'キーワード'), (1, 'キャリア'), (1, 'カ'), (1, 'エンジン'), (1, 'イ'), (1, 'を通して'), (1, 'わせ'), (1, 'ろ'), (1, 'よい'), (1, 'やむをえない'), (1, 'やむをえ'), (1, 'やむ'), (1, 'もち'), (1, 'め'), (1, 'まだ'), (1, 'まず'), (1, 'へい'), (1, 'ふす'), (1, 'ばい'), (1, 'はさん'), (1, 'のぼり'), (1, 'ので'), (1, 'のっとり'), (1, 'ね'), (1, 'に従う'), (1, 'なくなさ'), (1, 'ながら'), (1, 'とりまとめる'), (1, 'ともなっ'), (1, 'とっ'), (1, 'とこ'), (1, 'てん'), (1, 'づ'), (1, 'つながら'), (1, 'つかさどる'), (1, 'ついては'), (1, 'って'), (1, 'たてん'), (1, 'たた'), (1, 'そこで'), (1, 'せしめ'), (1, 'ずれ'), (1, 'すし'), (1, 'じん'), (1, 'しま'), (1, 'しな'), (1, 'したがって'), (1, 'ごとく'), (1, 'ける'), (1, 'きる'), (1, 'きの'), (1, 'きたし'), (1, 'きたさ'), (1, 'かる'), (1, 'かに'), (1, 'お互い'), (1, 'おり'), (1, 'おそれ'), (1, 'おけ'), (1, 'いも'), (1, 'いのうえ'), (1, 'いったん'), (1, 'いたっ'), (1, 'あらた'), (1, '〒'), (1, '』'), (1, '『'), (1, '「<'), (1, '々'), (1, '●●、▲▲、〇〇、△△'), (1, '●●●●'), (1, '○－○）'), (1, '○○○○○○○○'), (1, '○○−○○'), (1, '○%'), (1, '⑤'), (1, '④'), (1, '≒'), (1, 'png'), (1, 'mpg'), (1, 'kg'), (1, 'jpg'), (1, '_'), (1, 'OLE'), (1, 'O'), (1, 'NDA'), (1, 'M'), (1, 'LINK'), (1, 'JPEG'), (1, 'JIS'), (1, 'DVD'), (1, 'CONFIDENTIAL'), (1, 'AQUSH'), (1, 'ABC'), (1, ':○○'), (1, ':□□'), (1, '94'), (1, '85'), (1, '81'), (1, '80'), (1, '64'), (1, '62'), (1, '61100862'), (1, '61100861'), (1, '61100860'), (1, '61100858'), (1, '61100852'), (1, '61100849'), (1, '61100847'), (1, '61100845'), (1, '61100843'), (1, '61100842'), (1, '61100841'), (1, '61100754'), (1, '61100753'), (1, '61100752'), (1, '61100750'), (1, '61100744'), (1, '61100741'), (1, '61100739'), (1, '61100737'), (1, '61100735'), (1, '61100734'), (1, '61100733'), (1, '58'), (1, '57'), (1, '56'), (1, '55'), (1, '54'), (1, '539'), (1, '535'), (1, '53'), (1, '52'), (1, '515823184'), (1, '515823061'), (1, '51'), (1, '50'), (1, '468'), (1, '43'), (1, '406'), (1, '210'), (1, '201'), (1, '137'), (1, '100'), (1, '0950'), (1, '051'), (1, '0000000000000000000000000'), (1, '0000'), (1, ')、'), (1, '%'), (1, '\">、')]\n"
          ],
          "name": "stdout"
        }
      ]
    },
    {
      "cell_type": "code",
      "metadata": {
        "colab": {
          "base_uri": "https://localhost:8080/"
        },
        "id": "ONRVq1pzw1J9",
        "outputId": "fe0de079-7fd4-497f-d083-3dfa291e8d37"
      },
      "source": [
        "print(len(only_k_w))"
      ],
      "execution_count": 113,
      "outputs": [
        {
          "output_type": "stream",
          "text": [
            "2196\n"
          ],
          "name": "stdout"
        }
      ]
    },
    {
      "cell_type": "code",
      "metadata": {
        "colab": {
          "base_uri": "https://localhost:8080/"
        },
        "id": "CJGAM3LwzJpk",
        "outputId": "07a0411b-07f8-44b7-86a9-303cba5090ae"
      },
      "source": [
        "# 30件以上の項\n",
        "for item in only_k_w:\n",
        "  if item[0] > 29:\n",
        "    print(item)"
      ],
      "execution_count": 114,
      "outputs": [
        {
          "output_type": "stream",
          "text": [
            "(523, '当該')\n",
            "(150, 'せ')\n",
            "(132, '=\"')\n",
            "(124, '含む')\n",
            "(108, '産業')\n",
            "(78, '基づい')\n",
            "(78, 'span')\n",
            "(78, 'id')\n",
            "(78, 'class')\n",
            "(78, 'anchor')\n",
            "(78, '\"')\n",
            "(74, '除き')\n",
            "(70, '本条')\n",
            "(67, '生じる')\n",
            "(67, '希望')\n",
            "(66, '<')\n",
            "(65, '責め')\n",
            "(60, '求め')\n",
            "(59, '全て')\n",
            "(57, '\">')\n",
            "(56, '負わ')\n",
            "(56, '行っ')\n",
            "(56, '掲げる')\n",
            "(52, 'う')\n",
            "(50, '基準')\n",
            "(47, '過失')\n",
            "(47, 'あるいは')\n",
            "(46, '］')\n",
            "(46, '［')\n",
            "(46, '是正')\n",
            "(46, 'Text')\n",
            "(44, '合理')\n",
            "(44, 'いかなる')\n",
            "(43, '発見')\n",
            "(43, 'ご')\n",
            "(42, '日本')\n",
            "(42, 'ソフトウェア')\n",
            "(42, 'カ月')\n",
            "(41, '時点')\n",
            "(41, 'すみやか')\n",
            "(41, '●')\n",
            "(40, '法律')\n",
            "(39, '変動')\n",
            "(39, '別段')\n",
            "(38, '活用')\n",
            "(38, '本店')\n",
            "(38, '故意')\n",
            "(38, '振り込ん')\n",
            "(37, '除く')\n",
            "(37, '同じ')\n",
            "(36, '標ぼう')\n",
            "(36, '事情')\n",
            "(36, 'ゴロ')\n",
            "(35, 'Ｂ')\n",
            "(35, '媒介')\n",
            "(34, '起算')\n",
            "(34, 'ユーザ')\n",
            "(33, '属する')\n",
            "(33, '地変')\n",
            "(32, '適切')\n",
            "(32, '追加')\n",
            "(32, '準ずる')\n",
            "(32, 'さらに')\n",
            "(31, '当たり')\n",
            "(31, '委員')\n",
            "(31, '前日')\n",
            "(31, '例')\n",
            "(31, '付し')\n",
            "(31, 'システム')\n",
            "(30, '図書')\n",
            "(30, '動産')\n",
            "(30, 'に際し')\n"
          ],
          "name": "stdout"
        }
      ]
    },
    {
      "cell_type": "code",
      "metadata": {
        "id": "u_LLgPSkzf0y"
      },
      "source": [
        ""
      ],
      "execution_count": null,
      "outputs": []
    },
    {
      "cell_type": "markdown",
      "metadata": {
        "id": "Xybno7SkxaFm"
      },
      "source": [
        "### 考察\n",
        "\n",
        "※以降の(数字, 単語）の数字は出現回数を示している\n",
        "\n",
        "- TOP100で見ると、項のみに存在する単語として、「(1135, 'で'), (811, 'により'), (763, '，'), (708, 'なら'), (638, '前項')」などがあり、複数文を前提とした単語はほぼ入らないように思われるが、全件だと消えていることから、一部のレアケースでは、条にも含まれる場合があると推定される\n",
        "- ドキュメントのパースの問題と思われるが、項のみspan, id, classなどのタグが見られた\n",
        "- 全件で見たときに有効と思われるのが、「(523, '当該')、(124, '含む')、(78, '基づい')、(74, '除き')、(67, '生じる')、(47, 'あるいは')、(44, 'いかなる')、(32, '準ずる')、(32, 'さらに')、(31, '当たり')、(30, 'に際し')」辺りであり、これれは前記複数文を想定した場合の単語と合致する。ただし、有効と思われた「により、前項」等は全件だと除外されてしまっているため、未知の文書に対して必ずしも当てはまるとは断言できない。\n",
        "- (70, '本条')は、自身が条であるときには使わない単語であることが推察されるため、ルールベースに入れても問題がないと想定される。\n"
      ]
    },
    {
      "cell_type": "markdown",
      "metadata": {
        "id": "yErkxJ2Y1ubY"
      },
      "source": [
        "# BERTが誤って分類したものを確認する"
      ]
    },
    {
      "cell_type": "markdown",
      "metadata": {
        "id": "aGDkXXc041_o"
      },
      "source": [
        "メモ:データのチェックとモデルの保存"
      ]
    },
    {
      "cell_type": "code",
      "metadata": {
        "colab": {
          "base_uri": "https://localhost:8080/"
        },
        "id": "rPNu8jlA1xfe",
        "outputId": "93734f98-e8c9-46cc-b65b-55e52acbd03b"
      },
      "source": [
        "testing_loader"
      ],
      "execution_count": 117,
      "outputs": [
        {
          "output_type": "execute_result",
          "data": {
            "text/plain": [
              "<torch.utils.data.dataloader.DataLoader at 0x7f7363ffa6d0>"
            ]
          },
          "metadata": {
            "tags": []
          },
          "execution_count": 117
        }
      ]
    },
    {
      "cell_type": "code",
      "metadata": {
        "id": "-qgPkw_I2ow8"
      },
      "source": [
        "for idx, data in enumerate(testing_loader, 0):\n",
        "  if idx == 0:\n",
        "    test_data = data"
      ],
      "execution_count": 120,
      "outputs": []
    },
    {
      "cell_type": "code",
      "metadata": {
        "colab": {
          "base_uri": "https://localhost:8080/"
        },
        "id": "4ByJU-HK232D",
        "outputId": "1bdc779f-5ddc-4d59-e890-4596631ed73e"
      },
      "source": [
        "test_data"
      ],
      "execution_count": 121,
      "outputs": [
        {
          "output_type": "execute_result",
          "data": {
            "text/plain": [
              "{'ids': tensor([[   2,    1,  173, 1003,    1,  554, 1198,  666,  166,  284,    6,  929,\n",
              "           571,   12,    7, 1921,    1,  451,  929,    1,   10, 2356,    3,    0,\n",
              "             0,    0,    0,    0,    0,    0,    0,    0,    0,    0,    0,    0,\n",
              "             0,    0,    0,    0,    0,    0,    0,    0,    0,    0,    0,    0,\n",
              "             0,    0,    0,    0,    0,    0,    0,    0,    0,    0,    0,    0,\n",
              "             0,    0,    0,    0,    0,    0,    0,    0,    0,    0,    0,    0,\n",
              "             0,    0,    0,    0,    0,    0,    0,    0,    0,    0,    0,    0,\n",
              "             0,    0,    0,    0,    0,    0,    0,    0,    0,    0,    0,    0,\n",
              "             0,    0,    0,    0,    0,    0,    0,    0,    0,    0,    0,    0,\n",
              "             0,    0,    0,    0,    0,    0,    0,    0,    0,    0,    0,    0,\n",
              "             0,    0,    0,    0,    0,    0,    0,    0,    0,    0,    0,    0,\n",
              "             0,    0,    0,    0,    0,    0,    0,    0,    0,    0,    0,    0,\n",
              "             0,    0,    0,    0,    0,    0],\n",
              "         [   2,    3,    0,    0,    0,    0,    0,    0,    0,    0,    0,    0,\n",
              "             0,    0,    0,    0,    0,    0,    0,    0,    0,    0,    0,    0,\n",
              "             0,    0,    0,    0,    0,    0,    0,    0,    0,    0,    0,    0,\n",
              "             0,    0,    0,    0,    0,    0,    0,    0,    0,    0,    0,    0,\n",
              "             0,    0,    0,    0,    0,    0,    0,    0,    0,    0,    0,    0,\n",
              "             0,    0,    0,    0,    0,    0,    0,    0,    0,    0,    0,    0,\n",
              "             0,    0,    0,    0,    0,    0,    0,    0,    0,    0,    0,    0,\n",
              "             0,    0,    0,    0,    0,    0,    0,    0,    0,    0,    0,    0,\n",
              "             0,    0,    0,    0,    0,    0,    0,    0,    0,    0,    0,    0,\n",
              "             0,    0,    0,    0,    0,    0,    0,    0,    0,    0,    0,    0,\n",
              "             0,    0,    0,    0,    0,    0,    0,    0,    0,    0,    0,    0,\n",
              "             0,    0,    0,    0,    0,    0,    0,    0,    0,    0,    0,    0,\n",
              "             0,    0,    0,    0,    0,    0],\n",
              "         [   2,    1,  905,   12,    7, 1921,    8,  185,   16,    7,   77,  804,\n",
              "           121,  214,   15,  186,  183,    6,  296,  269,    1,    7,  275,  147,\n",
              "          1612,   25, 1612,   57,  699,   48,    1,    7, 1185,  164,    1,   10,\n",
              "             3,    0,    0,    0,    0,    0,    0,    0,    0,    0,    0,    0,\n",
              "             0,    0,    0,    0,    0,    0,    0,    0,    0,    0,    0,    0,\n",
              "             0,    0,    0,    0,    0,    0,    0,    0,    0,    0,    0,    0,\n",
              "             0,    0,    0,    0,    0,    0,    0,    0,    0,    0,    0,    0,\n",
              "             0,    0,    0,    0,    0,    0,    0,    0,    0,    0,    0,    0,\n",
              "             0,    0,    0,    0,    0,    0,    0,    0,    0,    0,    0,    0,\n",
              "             0,    0,    0,    0,    0,    0,    0,    0,    0,    0,    0,    0,\n",
              "             0,    0,    0,    0,    0,    0,    0,    0,    0,    0,    0,    0,\n",
              "             0,    0,    0,    0,    0,    0,    0,    0,    0,    0,    0,    0,\n",
              "             0,    0,    0,    0,    0,    0],\n",
              "         [   2,    3,    0,    0,    0,    0,    0,    0,    0,    0,    0,    0,\n",
              "             0,    0,    0,    0,    0,    0,    0,    0,    0,    0,    0,    0,\n",
              "             0,    0,    0,    0,    0,    0,    0,    0,    0,    0,    0,    0,\n",
              "             0,    0,    0,    0,    0,    0,    0,    0,    0,    0,    0,    0,\n",
              "             0,    0,    0,    0,    0,    0,    0,    0,    0,    0,    0,    0,\n",
              "             0,    0,    0,    0,    0,    0,    0,    0,    0,    0,    0,    0,\n",
              "             0,    0,    0,    0,    0,    0,    0,    0,    0,    0,    0,    0,\n",
              "             0,    0,    0,    0,    0,    0,    0,    0,    0,    0,    0,    0,\n",
              "             0,    0,    0,    0,    0,    0,    0,    0,    0,    0,    0,    0,\n",
              "             0,    0,    0,    0,    0,    0,    0,    0,    0,    0,    0,    0,\n",
              "             0,    0,    0,    0,    0,    0,    0,    0,    0,    0,    0,    0,\n",
              "             0,    0,    0,    0,    0,    0,    0,    0,    0,    0,    0,    0,\n",
              "             0,    0,    0,    0,    0,    0]]),\n",
              " 'mask': tensor([[1, 1, 1, 1, 1, 1, 1, 1, 1, 1, 1, 1, 1, 1, 1, 1, 1, 1, 1, 1, 1, 1, 1, 0,\n",
              "          0, 0, 0, 0, 0, 0, 0, 0, 0, 0, 0, 0, 0, 0, 0, 0, 0, 0, 0, 0, 0, 0, 0, 0,\n",
              "          0, 0, 0, 0, 0, 0, 0, 0, 0, 0, 0, 0, 0, 0, 0, 0, 0, 0, 0, 0, 0, 0, 0, 0,\n",
              "          0, 0, 0, 0, 0, 0, 0, 0, 0, 0, 0, 0, 0, 0, 0, 0, 0, 0, 0, 0, 0, 0, 0, 0,\n",
              "          0, 0, 0, 0, 0, 0, 0, 0, 0, 0, 0, 0, 0, 0, 0, 0, 0, 0, 0, 0, 0, 0, 0, 0,\n",
              "          0, 0, 0, 0, 0, 0, 0, 0, 0, 0, 0, 0, 0, 0, 0, 0, 0, 0, 0, 0, 0, 0, 0, 0,\n",
              "          0, 0, 0, 0, 0, 0],\n",
              "         [1, 1, 0, 0, 0, 0, 0, 0, 0, 0, 0, 0, 0, 0, 0, 0, 0, 0, 0, 0, 0, 0, 0, 0,\n",
              "          0, 0, 0, 0, 0, 0, 0, 0, 0, 0, 0, 0, 0, 0, 0, 0, 0, 0, 0, 0, 0, 0, 0, 0,\n",
              "          0, 0, 0, 0, 0, 0, 0, 0, 0, 0, 0, 0, 0, 0, 0, 0, 0, 0, 0, 0, 0, 0, 0, 0,\n",
              "          0, 0, 0, 0, 0, 0, 0, 0, 0, 0, 0, 0, 0, 0, 0, 0, 0, 0, 0, 0, 0, 0, 0, 0,\n",
              "          0, 0, 0, 0, 0, 0, 0, 0, 0, 0, 0, 0, 0, 0, 0, 0, 0, 0, 0, 0, 0, 0, 0, 0,\n",
              "          0, 0, 0, 0, 0, 0, 0, 0, 0, 0, 0, 0, 0, 0, 0, 0, 0, 0, 0, 0, 0, 0, 0, 0,\n",
              "          0, 0, 0, 0, 0, 0],\n",
              "         [1, 1, 1, 1, 1, 1, 1, 1, 1, 1, 1, 1, 1, 1, 1, 1, 1, 1, 1, 1, 1, 1, 1, 1,\n",
              "          1, 1, 1, 1, 1, 1, 1, 1, 1, 1, 1, 1, 1, 0, 0, 0, 0, 0, 0, 0, 0, 0, 0, 0,\n",
              "          0, 0, 0, 0, 0, 0, 0, 0, 0, 0, 0, 0, 0, 0, 0, 0, 0, 0, 0, 0, 0, 0, 0, 0,\n",
              "          0, 0, 0, 0, 0, 0, 0, 0, 0, 0, 0, 0, 0, 0, 0, 0, 0, 0, 0, 0, 0, 0, 0, 0,\n",
              "          0, 0, 0, 0, 0, 0, 0, 0, 0, 0, 0, 0, 0, 0, 0, 0, 0, 0, 0, 0, 0, 0, 0, 0,\n",
              "          0, 0, 0, 0, 0, 0, 0, 0, 0, 0, 0, 0, 0, 0, 0, 0, 0, 0, 0, 0, 0, 0, 0, 0,\n",
              "          0, 0, 0, 0, 0, 0],\n",
              "         [1, 1, 0, 0, 0, 0, 0, 0, 0, 0, 0, 0, 0, 0, 0, 0, 0, 0, 0, 0, 0, 0, 0, 0,\n",
              "          0, 0, 0, 0, 0, 0, 0, 0, 0, 0, 0, 0, 0, 0, 0, 0, 0, 0, 0, 0, 0, 0, 0, 0,\n",
              "          0, 0, 0, 0, 0, 0, 0, 0, 0, 0, 0, 0, 0, 0, 0, 0, 0, 0, 0, 0, 0, 0, 0, 0,\n",
              "          0, 0, 0, 0, 0, 0, 0, 0, 0, 0, 0, 0, 0, 0, 0, 0, 0, 0, 0, 0, 0, 0, 0, 0,\n",
              "          0, 0, 0, 0, 0, 0, 0, 0, 0, 0, 0, 0, 0, 0, 0, 0, 0, 0, 0, 0, 0, 0, 0, 0,\n",
              "          0, 0, 0, 0, 0, 0, 0, 0, 0, 0, 0, 0, 0, 0, 0, 0, 0, 0, 0, 0, 0, 0, 0, 0,\n",
              "          0, 0, 0, 0, 0, 0]]),\n",
              " 'targets': tensor([[0., 1., 0.],\n",
              "         [0., 0., 0.],\n",
              "         [0., 1., 0.],\n",
              "         [0., 0., 0.]]),\n",
              " 'token_type_ids': tensor([[0, 0, 0, 0, 0, 0, 0, 0, 0, 0, 0, 0, 0, 0, 0, 0, 0, 0, 0, 0, 0, 0, 0, 0,\n",
              "          0, 0, 0, 0, 0, 0, 0, 0, 0, 0, 0, 0, 0, 0, 0, 0, 0, 0, 0, 0, 0, 0, 0, 0,\n",
              "          0, 0, 0, 0, 0, 0, 0, 0, 0, 0, 0, 0, 0, 0, 0, 0, 0, 0, 0, 0, 0, 0, 0, 0,\n",
              "          0, 0, 0, 0, 0, 0, 0, 0, 0, 0, 0, 0, 0, 0, 0, 0, 0, 0, 0, 0, 0, 0, 0, 0,\n",
              "          0, 0, 0, 0, 0, 0, 0, 0, 0, 0, 0, 0, 0, 0, 0, 0, 0, 0, 0, 0, 0, 0, 0, 0,\n",
              "          0, 0, 0, 0, 0, 0, 0, 0, 0, 0, 0, 0, 0, 0, 0, 0, 0, 0, 0, 0, 0, 0, 0, 0,\n",
              "          0, 0, 0, 0, 0, 0],\n",
              "         [0, 0, 0, 0, 0, 0, 0, 0, 0, 0, 0, 0, 0, 0, 0, 0, 0, 0, 0, 0, 0, 0, 0, 0,\n",
              "          0, 0, 0, 0, 0, 0, 0, 0, 0, 0, 0, 0, 0, 0, 0, 0, 0, 0, 0, 0, 0, 0, 0, 0,\n",
              "          0, 0, 0, 0, 0, 0, 0, 0, 0, 0, 0, 0, 0, 0, 0, 0, 0, 0, 0, 0, 0, 0, 0, 0,\n",
              "          0, 0, 0, 0, 0, 0, 0, 0, 0, 0, 0, 0, 0, 0, 0, 0, 0, 0, 0, 0, 0, 0, 0, 0,\n",
              "          0, 0, 0, 0, 0, 0, 0, 0, 0, 0, 0, 0, 0, 0, 0, 0, 0, 0, 0, 0, 0, 0, 0, 0,\n",
              "          0, 0, 0, 0, 0, 0, 0, 0, 0, 0, 0, 0, 0, 0, 0, 0, 0, 0, 0, 0, 0, 0, 0, 0,\n",
              "          0, 0, 0, 0, 0, 0],\n",
              "         [0, 0, 0, 0, 0, 0, 0, 0, 0, 0, 0, 0, 0, 0, 0, 0, 0, 0, 0, 0, 0, 0, 0, 0,\n",
              "          0, 0, 0, 0, 0, 0, 0, 0, 0, 0, 0, 0, 0, 0, 0, 0, 0, 0, 0, 0, 0, 0, 0, 0,\n",
              "          0, 0, 0, 0, 0, 0, 0, 0, 0, 0, 0, 0, 0, 0, 0, 0, 0, 0, 0, 0, 0, 0, 0, 0,\n",
              "          0, 0, 0, 0, 0, 0, 0, 0, 0, 0, 0, 0, 0, 0, 0, 0, 0, 0, 0, 0, 0, 0, 0, 0,\n",
              "          0, 0, 0, 0, 0, 0, 0, 0, 0, 0, 0, 0, 0, 0, 0, 0, 0, 0, 0, 0, 0, 0, 0, 0,\n",
              "          0, 0, 0, 0, 0, 0, 0, 0, 0, 0, 0, 0, 0, 0, 0, 0, 0, 0, 0, 0, 0, 0, 0, 0,\n",
              "          0, 0, 0, 0, 0, 0],\n",
              "         [0, 0, 0, 0, 0, 0, 0, 0, 0, 0, 0, 0, 0, 0, 0, 0, 0, 0, 0, 0, 0, 0, 0, 0,\n",
              "          0, 0, 0, 0, 0, 0, 0, 0, 0, 0, 0, 0, 0, 0, 0, 0, 0, 0, 0, 0, 0, 0, 0, 0,\n",
              "          0, 0, 0, 0, 0, 0, 0, 0, 0, 0, 0, 0, 0, 0, 0, 0, 0, 0, 0, 0, 0, 0, 0, 0,\n",
              "          0, 0, 0, 0, 0, 0, 0, 0, 0, 0, 0, 0, 0, 0, 0, 0, 0, 0, 0, 0, 0, 0, 0, 0,\n",
              "          0, 0, 0, 0, 0, 0, 0, 0, 0, 0, 0, 0, 0, 0, 0, 0, 0, 0, 0, 0, 0, 0, 0, 0,\n",
              "          0, 0, 0, 0, 0, 0, 0, 0, 0, 0, 0, 0, 0, 0, 0, 0, 0, 0, 0, 0, 0, 0, 0, 0,\n",
              "          0, 0, 0, 0, 0, 0]])}"
            ]
          },
          "metadata": {
            "tags": []
          },
          "execution_count": 121
        }
      ]
    },
    {
      "cell_type": "code",
      "metadata": {
        "colab": {
          "base_uri": "https://localhost:8080/"
        },
        "id": "vFzj8bo825Vu",
        "outputId": "c0f366c8-4c17-4784-aded-79b32c292236"
      },
      "source": [
        "test_data[\"ids\"]"
      ],
      "execution_count": 125,
      "outputs": [
        {
          "output_type": "execute_result",
          "data": {
            "text/plain": [
              "tensor([[   2,    1,  173, 1003,    1,  554, 1198,  666,  166,  284,    6,  929,\n",
              "          571,   12,    7, 1921,    1,  451,  929,    1,   10, 2356,    3,    0,\n",
              "            0,    0,    0,    0,    0,    0,    0,    0,    0,    0,    0,    0,\n",
              "            0,    0,    0,    0,    0,    0,    0,    0,    0,    0,    0,    0,\n",
              "            0,    0,    0,    0,    0,    0,    0,    0,    0,    0,    0,    0,\n",
              "            0,    0,    0,    0,    0,    0,    0,    0,    0,    0,    0,    0,\n",
              "            0,    0,    0,    0,    0,    0,    0,    0,    0,    0,    0,    0,\n",
              "            0,    0,    0,    0,    0,    0,    0,    0,    0,    0,    0,    0,\n",
              "            0,    0,    0,    0,    0,    0,    0,    0,    0,    0,    0,    0,\n",
              "            0,    0,    0,    0,    0,    0,    0,    0,    0,    0,    0,    0,\n",
              "            0,    0,    0,    0,    0,    0,    0,    0,    0,    0,    0,    0,\n",
              "            0,    0,    0,    0,    0,    0,    0,    0,    0,    0,    0,    0,\n",
              "            0,    0,    0,    0,    0,    0],\n",
              "        [   2,    3,    0,    0,    0,    0,    0,    0,    0,    0,    0,    0,\n",
              "            0,    0,    0,    0,    0,    0,    0,    0,    0,    0,    0,    0,\n",
              "            0,    0,    0,    0,    0,    0,    0,    0,    0,    0,    0,    0,\n",
              "            0,    0,    0,    0,    0,    0,    0,    0,    0,    0,    0,    0,\n",
              "            0,    0,    0,    0,    0,    0,    0,    0,    0,    0,    0,    0,\n",
              "            0,    0,    0,    0,    0,    0,    0,    0,    0,    0,    0,    0,\n",
              "            0,    0,    0,    0,    0,    0,    0,    0,    0,    0,    0,    0,\n",
              "            0,    0,    0,    0,    0,    0,    0,    0,    0,    0,    0,    0,\n",
              "            0,    0,    0,    0,    0,    0,    0,    0,    0,    0,    0,    0,\n",
              "            0,    0,    0,    0,    0,    0,    0,    0,    0,    0,    0,    0,\n",
              "            0,    0,    0,    0,    0,    0,    0,    0,    0,    0,    0,    0,\n",
              "            0,    0,    0,    0,    0,    0,    0,    0,    0,    0,    0,    0,\n",
              "            0,    0,    0,    0,    0,    0],\n",
              "        [   2,    1,  905,   12,    7, 1921,    8,  185,   16,    7,   77,  804,\n",
              "          121,  214,   15,  186,  183,    6,  296,  269,    1,    7,  275,  147,\n",
              "         1612,   25, 1612,   57,  699,   48,    1,    7, 1185,  164,    1,   10,\n",
              "            3,    0,    0,    0,    0,    0,    0,    0,    0,    0,    0,    0,\n",
              "            0,    0,    0,    0,    0,    0,    0,    0,    0,    0,    0,    0,\n",
              "            0,    0,    0,    0,    0,    0,    0,    0,    0,    0,    0,    0,\n",
              "            0,    0,    0,    0,    0,    0,    0,    0,    0,    0,    0,    0,\n",
              "            0,    0,    0,    0,    0,    0,    0,    0,    0,    0,    0,    0,\n",
              "            0,    0,    0,    0,    0,    0,    0,    0,    0,    0,    0,    0,\n",
              "            0,    0,    0,    0,    0,    0,    0,    0,    0,    0,    0,    0,\n",
              "            0,    0,    0,    0,    0,    0,    0,    0,    0,    0,    0,    0,\n",
              "            0,    0,    0,    0,    0,    0,    0,    0,    0,    0,    0,    0,\n",
              "            0,    0,    0,    0,    0,    0],\n",
              "        [   2,    3,    0,    0,    0,    0,    0,    0,    0,    0,    0,    0,\n",
              "            0,    0,    0,    0,    0,    0,    0,    0,    0,    0,    0,    0,\n",
              "            0,    0,    0,    0,    0,    0,    0,    0,    0,    0,    0,    0,\n",
              "            0,    0,    0,    0,    0,    0,    0,    0,    0,    0,    0,    0,\n",
              "            0,    0,    0,    0,    0,    0,    0,    0,    0,    0,    0,    0,\n",
              "            0,    0,    0,    0,    0,    0,    0,    0,    0,    0,    0,    0,\n",
              "            0,    0,    0,    0,    0,    0,    0,    0,    0,    0,    0,    0,\n",
              "            0,    0,    0,    0,    0,    0,    0,    0,    0,    0,    0,    0,\n",
              "            0,    0,    0,    0,    0,    0,    0,    0,    0,    0,    0,    0,\n",
              "            0,    0,    0,    0,    0,    0,    0,    0,    0,    0,    0,    0,\n",
              "            0,    0,    0,    0,    0,    0,    0,    0,    0,    0,    0,    0,\n",
              "            0,    0,    0,    0,    0,    0,    0,    0,    0,    0,    0,    0,\n",
              "            0,    0,    0,    0,    0,    0]])"
            ]
          },
          "metadata": {
            "tags": []
          },
          "execution_count": 125
        }
      ]
    },
    {
      "cell_type": "code",
      "metadata": {
        "colab": {
          "base_uri": "https://localhost:8080/"
        },
        "id": "ElNrR7Wu3zW1",
        "outputId": "65307a83-43af-4cb4-8980-802ff1c9f3dd"
      },
      "source": [
        "test_data[\"ids\"][0]"
      ],
      "execution_count": 126,
      "outputs": [
        {
          "output_type": "execute_result",
          "data": {
            "text/plain": [
              "tensor([   2,    1,  173, 1003,    1,  554, 1198,  666,  166,  284,    6,  929,\n",
              "         571,   12,    7, 1921,    1,  451,  929,    1,   10, 2356,    3,    0,\n",
              "           0,    0,    0,    0,    0,    0,    0,    0,    0,    0,    0,    0,\n",
              "           0,    0,    0,    0,    0,    0,    0,    0,    0,    0,    0,    0,\n",
              "           0,    0,    0,    0,    0,    0,    0,    0,    0,    0,    0,    0,\n",
              "           0,    0,    0,    0,    0,    0,    0,    0,    0,    0,    0,    0,\n",
              "           0,    0,    0,    0,    0,    0,    0,    0,    0,    0,    0,    0,\n",
              "           0,    0,    0,    0,    0,    0,    0,    0,    0,    0,    0,    0,\n",
              "           0,    0,    0,    0,    0,    0,    0,    0,    0,    0,    0,    0,\n",
              "           0,    0,    0,    0,    0,    0,    0,    0,    0,    0,    0,    0,\n",
              "           0,    0,    0,    0,    0,    0,    0,    0,    0,    0,    0,    0,\n",
              "           0,    0,    0,    0,    0,    0,    0,    0,    0,    0,    0,    0,\n",
              "           0,    0,    0,    0,    0,    0])"
            ]
          },
          "metadata": {
            "tags": []
          },
          "execution_count": 126
        }
      ]
    },
    {
      "cell_type": "code",
      "metadata": {
        "colab": {
          "base_uri": "https://localhost:8080/"
        },
        "id": "ukh5bNye31HZ",
        "outputId": "47df17cf-145f-412e-8409-61d5ac40c907"
      },
      "source": [
        "tokenizer.convert_ids_to_tokens(test_data[\"ids\"][0])"
      ],
      "execution_count": 127,
      "outputs": [
        {
          "output_type": "execute_result",
          "data": {
            "text/plain": [
              "['[CLS]',\n",
              " '[UNK]',\n",
              " '前',\n",
              " '項',\n",
              " '[UNK]',\n",
              " '派',\n",
              " '遣',\n",
              " '従',\n",
              " '業',\n",
              " '員',\n",
              " 'の',\n",
              " '給',\n",
              " '与',\n",
              " 'は',\n",
              " '、',\n",
              " '乙',\n",
              " '[UNK]',\n",
              " '支',\n",
              " '給',\n",
              " '[UNK]',\n",
              " '。',\n",
              " '\\\\',\n",
              " '[SEP]',\n",
              " '[PAD]',\n",
              " '[PAD]',\n",
              " '[PAD]',\n",
              " '[PAD]',\n",
              " '[PAD]',\n",
              " '[PAD]',\n",
              " '[PAD]',\n",
              " '[PAD]',\n",
              " '[PAD]',\n",
              " '[PAD]',\n",
              " '[PAD]',\n",
              " '[PAD]',\n",
              " '[PAD]',\n",
              " '[PAD]',\n",
              " '[PAD]',\n",
              " '[PAD]',\n",
              " '[PAD]',\n",
              " '[PAD]',\n",
              " '[PAD]',\n",
              " '[PAD]',\n",
              " '[PAD]',\n",
              " '[PAD]',\n",
              " '[PAD]',\n",
              " '[PAD]',\n",
              " '[PAD]',\n",
              " '[PAD]',\n",
              " '[PAD]',\n",
              " '[PAD]',\n",
              " '[PAD]',\n",
              " '[PAD]',\n",
              " '[PAD]',\n",
              " '[PAD]',\n",
              " '[PAD]',\n",
              " '[PAD]',\n",
              " '[PAD]',\n",
              " '[PAD]',\n",
              " '[PAD]',\n",
              " '[PAD]',\n",
              " '[PAD]',\n",
              " '[PAD]',\n",
              " '[PAD]',\n",
              " '[PAD]',\n",
              " '[PAD]',\n",
              " '[PAD]',\n",
              " '[PAD]',\n",
              " '[PAD]',\n",
              " '[PAD]',\n",
              " '[PAD]',\n",
              " '[PAD]',\n",
              " '[PAD]',\n",
              " '[PAD]',\n",
              " '[PAD]',\n",
              " '[PAD]',\n",
              " '[PAD]',\n",
              " '[PAD]',\n",
              " '[PAD]',\n",
              " '[PAD]',\n",
              " '[PAD]',\n",
              " '[PAD]',\n",
              " '[PAD]',\n",
              " '[PAD]',\n",
              " '[PAD]',\n",
              " '[PAD]',\n",
              " '[PAD]',\n",
              " '[PAD]',\n",
              " '[PAD]',\n",
              " '[PAD]',\n",
              " '[PAD]',\n",
              " '[PAD]',\n",
              " '[PAD]',\n",
              " '[PAD]',\n",
              " '[PAD]',\n",
              " '[PAD]',\n",
              " '[PAD]',\n",
              " '[PAD]',\n",
              " '[PAD]',\n",
              " '[PAD]',\n",
              " '[PAD]',\n",
              " '[PAD]',\n",
              " '[PAD]',\n",
              " '[PAD]',\n",
              " '[PAD]',\n",
              " '[PAD]',\n",
              " '[PAD]',\n",
              " '[PAD]',\n",
              " '[PAD]',\n",
              " '[PAD]',\n",
              " '[PAD]',\n",
              " '[PAD]',\n",
              " '[PAD]',\n",
              " '[PAD]',\n",
              " '[PAD]',\n",
              " '[PAD]',\n",
              " '[PAD]',\n",
              " '[PAD]',\n",
              " '[PAD]',\n",
              " '[PAD]',\n",
              " '[PAD]',\n",
              " '[PAD]',\n",
              " '[PAD]',\n",
              " '[PAD]',\n",
              " '[PAD]',\n",
              " '[PAD]',\n",
              " '[PAD]',\n",
              " '[PAD]',\n",
              " '[PAD]',\n",
              " '[PAD]',\n",
              " '[PAD]',\n",
              " '[PAD]',\n",
              " '[PAD]',\n",
              " '[PAD]',\n",
              " '[PAD]',\n",
              " '[PAD]',\n",
              " '[PAD]',\n",
              " '[PAD]',\n",
              " '[PAD]',\n",
              " '[PAD]',\n",
              " '[PAD]',\n",
              " '[PAD]',\n",
              " '[PAD]',\n",
              " '[PAD]',\n",
              " '[PAD]',\n",
              " '[PAD]',\n",
              " '[PAD]',\n",
              " '[PAD]',\n",
              " '[PAD]',\n",
              " '[PAD]']"
            ]
          },
          "metadata": {
            "tags": []
          },
          "execution_count": 127
        }
      ]
    },
    {
      "cell_type": "code",
      "metadata": {
        "colab": {
          "base_uri": "https://localhost:8080/"
        },
        "id": "LfICUvrl643_",
        "outputId": "2439ea36-7d2e-4450-addd-9b8a9390626d"
      },
      "source": [
        "for data in test_data[\"ids\"]:\n",
        "  i_to_w = tokenizer.convert_ids_to_tokens(data)\n",
        "  s = \"\"\n",
        "  for word in i_to_w:\n",
        "    if word not in ['[PAD]']:\n",
        "      s += word\n",
        "  print(s)"
      ],
      "execution_count": 138,
      "outputs": [
        {
          "output_type": "stream",
          "text": [
            "[CLS][UNK]前項[UNK]派遣従業員の給与は、乙[UNK]支給[UNK]。\\[SEP]\n",
            "[CLS][SEP]\n",
            "[CLS][UNK]甲は、乙に対し、本著作物を以下の形式[UNK]、平成○年○月末日[UNK]、納入[UNK]。[SEP]\n",
            "[CLS][SEP]\n"
          ],
          "name": "stdout"
        }
      ]
    },
    {
      "cell_type": "markdown",
      "metadata": {
        "id": "MTRRwFzm8dwp"
      },
      "source": [
        "### あとあとのためファイル保存"
      ]
    },
    {
      "cell_type": "code",
      "metadata": {
        "colab": {
          "base_uri": "https://localhost:8080/"
        },
        "id": "KAfnIniR3CSP",
        "outputId": "bd5beacc-26a7-4d8c-9661-4d304ae767d7"
      },
      "source": [
        "# Saving the files for re-use\n",
        "\n",
        "output_model_file = 'pytorch_bertmodel_contract.bin'\n",
        "output_vocab_file = 'vocab_contract.bin'\n",
        "\n",
        "model_to_save = model\n",
        "torch.save(model_to_save, output_model_file)\n",
        "tokenizer.save_vocabulary(output_vocab_file)\n",
        "\n",
        "print('All files saved')\n"
      ],
      "execution_count": 128,
      "outputs": [
        {
          "output_type": "stream",
          "text": [
            "All files saved\n"
          ],
          "name": "stdout"
        }
      ]
    },
    {
      "cell_type": "code",
      "metadata": {
        "colab": {
          "base_uri": "https://localhost:8080/"
        },
        "id": "6IEF7qaV4SVO",
        "outputId": "b6024c81-5821-400a-b279-5f879319c4d6"
      },
      "source": [
        "!ls"
      ],
      "execution_count": 130,
      "outputs": [
        {
          "output_type": "stream",
          "text": [
            "adc.json  full_dataset.tsv\t\t  sample_data\t    train_dataset.tsv\n",
            "drive\t  pytorch_bertmodel_contract.bin  test_dataset.tsv  vocab_contract.bin\n"
          ],
          "name": "stdout"
        }
      ]
    },
    {
      "cell_type": "code",
      "metadata": {
        "id": "VruNLaJw4YCe"
      },
      "source": [
        "!cp pytorch_bertmodel_contract.bin drive/MyDrive/"
      ],
      "execution_count": null,
      "outputs": []
    },
    {
      "cell_type": "code",
      "metadata": {
        "id": "OyAKDorO2_3B"
      },
      "source": [
        "!cp pytorch_bertmodel_contract.bin /content/drive/My\\ Drive/"
      ],
      "execution_count": 131,
      "outputs": []
    },
    {
      "cell_type": "code",
      "metadata": {
        "id": "MlLhaM3s4mdL"
      },
      "source": [
        "!cp vocab_contract.bin /content/drive/My\\ Drive/"
      ],
      "execution_count": 132,
      "outputs": []
    },
    {
      "cell_type": "markdown",
      "metadata": {
        "id": "nx47P8jO5W8L"
      },
      "source": [
        "### 考察\n",
        "\n",
        "- 公開されているTokenizerを使っているために、（おそらく記号にて）[UNK]が出てしまっている。そのため、tokenizerをSentencePieceに変更、またはMecabで利用したものに対してのBPEを掛けるなどの処理を行い、ドメイン文書を語彙獲得のリソースに追加する、あるいはUNKとなった単語をvocabに追加することで、UNKの量をへらすことが出来、精度の改善が見られる可能性がある。（ただし、単語idが既存のものとは、合わなくなるためpre-trainからのやり直しは必要となる）\n"
      ]
    },
    {
      "cell_type": "code",
      "metadata": {
        "id": "o-bQBitZ2GJ5"
      },
      "source": [
        "\n",
        "def validation_indices(epoch):\n",
        "    model.eval()\n",
        "    fin_targets=[]\n",
        "    fin_outputs=[]\n",
        "    fin_ids = []\n",
        "    with torch.no_grad():\n",
        "        for _, data in enumerate(testing_loader, 0):\n",
        "            ids = data['ids'].to(device, dtype = torch.long)\n",
        "            mask = data['mask'].to(device, dtype = torch.long)\n",
        "            token_type_ids = data['token_type_ids'].to(device, dtype = torch.long)\n",
        "            targets = data['targets'].to(device, dtype = torch.float)\n",
        "            outputs = model(ids, mask, token_type_ids)\n",
        "            fin_targets.extend(targets.cpu().detach().numpy().tolist())\n",
        "            fin_outputs.extend(torch.sigmoid(outputs).cpu().detach().numpy().tolist())\n",
        "            fin_ids.extend(ids.cpu().detach().numpy().tolist())\n",
        "    return fin_outputs, fin_targets, fin_ids\n",
        "\n",
        "for epoch in range(EPOCHS):\n",
        "    outputs, targets, indices = validation_indices(epoch)\n",
        "    outputs = np.array(outputs) >= 0.5"
      ],
      "execution_count": 141,
      "outputs": []
    },
    {
      "cell_type": "code",
      "metadata": {
        "colab": {
          "base_uri": "https://localhost:8080/"
        },
        "id": "chZO7kB5-msA",
        "outputId": "3a6dbf05-a9c9-4a8e-dcc9-ae44dfcc86ee"
      },
      "source": [
        "outputs"
      ],
      "execution_count": 142,
      "outputs": [
        {
          "output_type": "execute_result",
          "data": {
            "text/plain": [
              "array([[ True, False, False],\n",
              "       [ True, False, False],\n",
              "       [False, False, False],\n",
              "       ...,\n",
              "       [False, False, False],\n",
              "       [False,  True, False],\n",
              "       [False,  True, False]])"
            ]
          },
          "metadata": {
            "tags": []
          },
          "execution_count": 142
        }
      ]
    },
    {
      "cell_type": "code",
      "metadata": {
        "colab": {
          "base_uri": "https://localhost:8080/"
        },
        "id": "vvTw19iS-6E5",
        "outputId": "569eab56-e4fb-4183-c352-70093c242da8"
      },
      "source": [
        "len(outputs) == len(targets) == len(indices)"
      ],
      "execution_count": 150,
      "outputs": [
        {
          "output_type": "execute_result",
          "data": {
            "text/plain": [
              "True"
            ]
          },
          "metadata": {
            "tags": []
          },
          "execution_count": 150
        }
      ]
    },
    {
      "cell_type": "code",
      "metadata": {
        "colab": {
          "base_uri": "https://localhost:8080/"
        },
        "id": "KWa8pDJM_MuG",
        "outputId": "e2734c31-3ab2-4c87-e7ef-a9b140eac675"
      },
      "source": [
        "outputs[0]"
      ],
      "execution_count": 151,
      "outputs": [
        {
          "output_type": "execute_result",
          "data": {
            "text/plain": [
              "array([ True, False, False])"
            ]
          },
          "metadata": {
            "tags": []
          },
          "execution_count": 151
        }
      ]
    },
    {
      "cell_type": "code",
      "metadata": {
        "colab": {
          "base_uri": "https://localhost:8080/"
        },
        "id": "Gvqk485b_LNl",
        "outputId": "948188c2-f233-44bb-a9a6-e024ebdd4428"
      },
      "source": [
        "targets[0]"
      ],
      "execution_count": 152,
      "outputs": [
        {
          "output_type": "execute_result",
          "data": {
            "text/plain": [
              "[1.0, 0.0, 0.0]"
            ]
          },
          "metadata": {
            "tags": []
          },
          "execution_count": 152
        }
      ]
    },
    {
      "cell_type": "code",
      "metadata": {
        "colab": {
          "base_uri": "https://localhost:8080/"
        },
        "id": "M-tEBbAI_SdU",
        "outputId": "d5ae18df-ef8d-4308-a370-d0ac541bcbbc"
      },
      "source": [
        "outputs[0] == targets[0]"
      ],
      "execution_count": 153,
      "outputs": [
        {
          "output_type": "execute_result",
          "data": {
            "text/plain": [
              "array([ True,  True,  True])"
            ]
          },
          "metadata": {
            "tags": []
          },
          "execution_count": 153
        }
      ]
    },
    {
      "cell_type": "code",
      "metadata": {
        "colab": {
          "base_uri": "https://localhost:8080/"
        },
        "id": "gFROLHN6_mR8",
        "outputId": "4aa0e9b0-17ce-4e21-c8bf-edf3640c3a0d"
      },
      "source": [
        "errors = []\n",
        "for idx in range(len(outputs)):\n",
        "  arr = outputs[idx] == targets[idx]\n",
        "  if arr.all():\n",
        "    continue\n",
        "  else:\n",
        "    s = \"\"\n",
        "    token_li = tokenizer.convert_ids_to_tokens(indices[idx])\n",
        "    for token in token_li:\n",
        "      if token not in ['[PAD]']:\n",
        "        s += token\n",
        "    print(\"error_text: {}\".format(s))\n",
        "    print(\"Prediction: {}\".format(outputs[idx]))\n",
        "    print(\"Correct Answer: {}\".format(targets[idx]))\n",
        "    errors.append(s)\n"
      ],
      "execution_count": 196,
      "outputs": [
        {
          "output_type": "stream",
          "text": [
            "error_text: [CLS][UNK]建物の表示[UNK][SEP]\n",
            "Prediction: [ True False False]\n",
            "Correct Answer: [0.0, 0.0, 0.0]\n",
            "error_text: [CLS][UNK]乙が当該派遣労働者を休業[UNK][SEP]\n",
            "Prediction: [False  True False]\n",
            "Correct Answer: [0.0, 0.0, 0.0]\n",
            "error_text: [CLS]二、残代金[UNK]円を平成[UNK]年[UNK]月[UNK]日[UNK]後記表示の建物の所有権移転登記申請並[UNK]敷地の所有者[UNK][UNK]以下、「丙」[UNK]。[UNK]の借地権譲渡の承諾書の交付と引換[UNK]支払う。[SEP]\n",
            "Prediction: [False  True False]\n",
            "Correct Answer: [0.0, 0.0, 1.0]\n",
            "error_text: [CLS][UNK]秒、[UNK]秒、[UNK]秒、5分の各[UNK]制作[UNK]。[SEP]\n",
            "Prediction: [False  True False]\n",
            "Correct Answer: [0.0, 0.0, 1.0]\n",
            "error_text: [CLS]売主[UNK]甲、買主[UNK]乙、乙の連帯保証人[UNK]丙[UNK]、該当事者間[UNK]、土地建物分譲[UNK]、次の通り契約を締結[UNK]。[SEP]\n",
            "Prediction: [False  True False]\n",
            "Correct Answer: [0.0, 0.0, 0.0]\n",
            "error_text: [CLS][UNK]利息の支払日毎月[UNK]日[SEP]\n",
            "Prediction: [False False False]\n",
            "Correct Answer: [0.0, 0.0, 1.0]\n",
            "error_text: [CLS][UNK]連絡先及び連絡方法[UNK][SEP]\n",
            "Prediction: [ True False False]\n",
            "Correct Answer: [0.0, 0.0, 0.0]\n",
            "error_text: [CLS][UNK]回収[UNK]金員を全て回収[UNK]場合。[SEP]\n",
            "Prediction: [False  True False]\n",
            "Correct Answer: [0.0, 0.0, 1.0]\n",
            "error_text: [CLS]代替商品を無償で提供[UNK]、本製品の代金の全額を返還[UNK]。[SEP]\n",
            "Prediction: [False  True False]\n",
            "Correct Answer: [0.0, 0.0, 1.0]\n",
            "error_text: [CLS][UNK][UNK]積替保管[UNK][SEP]\n",
            "Prediction: [ True False False]\n",
            "Correct Answer: [0.0, 1.0, 0.0]\n",
            "error_text: [CLS]算に入[UNK]。[SEP]\n",
            "Prediction: [False  True False]\n",
            "Correct Answer: [0.0, 0.0, 1.0]\n",
            "error_text: [CLS]甲国立大学法人広島大学[UNK][SEP]\n",
            "Prediction: [False False False]\n",
            "Correct Answer: [0.0, 0.0, 1.0]\n",
            "error_text: [CLS][UNK],[UNK][UNK],[UNK][SEP]\n",
            "Prediction: [False False False]\n",
            "Correct Answer: [0.0, 0.0, 1.0]\n",
            "error_text: [CLS]乙は、下記の場所[UNK]、甲の就業規則[UNK]他諸規程及び甲の指揮に従い、誠実に行[UNK]。[SEP]\n",
            "Prediction: [False  True False]\n",
            "Correct Answer: [0.0, 0.0, 0.0]\n",
            "error_text: [CLS][UNK][UNK]調停段階[UNK]受任の場合の着手金の金額は金[UNK]円[UNK][UNK]訴訟に移行[UNK][SEP]\n",
            "Prediction: [False  True False]\n",
            "Correct Answer: [0.0, 0.0, 0.0]\n",
            "error_text: [CLS][UNK][UNK]調査\\[SEP]\n",
            "Prediction: [False False False]\n",
            "Correct Answer: [0.0, 0.0, 1.0]\n",
            "error_text: [CLS][UNK]受託研究に従事[UNK]者[UNK][SEP]\n",
            "Prediction: [False False False]\n",
            "Correct Answer: [1.0, 0.0, 0.0]\n",
            "error_text: [CLS]を履行[UNK]、営業者に対[UNK]適用[UNK]一切の法令、定款、社内規則又は営[SEP]\n",
            "Prediction: [False  True False]\n",
            "Correct Answer: [0.0, 0.0, 1.0]\n",
            "error_text: [CLS]但し、年月日[UNK]年月日[UNK]試用期間[UNK]、[SEP]\n",
            "Prediction: [False  True False]\n",
            "Correct Answer: [0.0, 0.0, 0.0]\n",
            "error_text: [CLS][UNK][UNK][UNK]発注方法乙が甲に対し、甲所定の様式[UNK]注文書[UNK]以下「注文書」[UNK]。[UNK]を交付し、甲が乙に対し、甲所定の様式[UNK]注文請書を交付[UNK]方法[UNK][SEP]\n",
            "Prediction: [False False  True]\n",
            "Correct Answer: [0.0, 0.0, 0.0]\n",
            "error_text: [CLS][UNK]。[UNK]、特別管理産業廃棄物[UNK]廃石綿等を除く。[UNK]が含[UNK]場合[UNK]、[UNK]旨を廃棄物の種類欄に記入[UNK]。[SEP]\n",
            "Prediction: [False  True False]\n",
            "Correct Answer: [0.0, 0.0, 0.0]\n",
            "error_text: [CLS][UNK][UNK][UNK]特記事項[SEP]\n",
            "Prediction: [ True False False]\n",
            "Correct Answer: [0.0, 0.0, 0.0]\n",
            "error_text: [CLS]契約期間中の円契約期間は第[UNK]条記載[UNK][SEP]\n",
            "Prediction: [False  True False]\n",
            "Correct Answer: [0.0, 0.0, 0.0]\n",
            "error_text: [CLS][UNK][UNK][UNK]前項に定[UNK]事項[UNK]、甲が要求[UNK]事項[UNK]、乙は甲に対し[SEP]\n",
            "Prediction: [False  True False]\n",
            "Correct Answer: [0.0, 0.0, 1.0]\n",
            "error_text: [CLS](4)契約単価欄は、該当[UNK]単位[UNK]印を付[UNK]。[UNK]、[UNK]回[UNK]契約単価の場合は、「[UNK]円[UNK]回[UNK][UNK][UNK]」[UNK]記入[UNK]。[SEP]\n",
            "Prediction: [False False  True]\n",
            "Correct Answer: [0.0, 0.0, 0.0]\n",
            "error_text: [CLS]第[UNK]条乙は、甲の書面[UNK]事前の承諾を得[UNK]、本件不動産の現状を変更し、譲渡し、又は第三者[UNK]権利を設定出来[UNK]。[SEP]\n",
            "Prediction: [False  True False]\n",
            "Correct Answer: [1.0, 0.0, 0.0]\n",
            "error_text: [CLS][UNK]別表[UNK][SEP]\n",
            "Prediction: [ True False False]\n",
            "Correct Answer: [0.0, 0.0, 0.0]\n",
            "error_text: [CLS]講演録等[UNK]年○月○日[UNK]間[UNK][UNK][UNK]://[UNK][UNK][UNK][UNK][UNK]に掲載し、無料で配信[UNK][SEP]\n",
            "Prediction: [False False False]\n",
            "Correct Answer: [0.0, 0.0, 1.0]\n",
            "error_text: [CLS]匿名組合員は、支払不能又は支払停止の状態[UNK]、[UNK]、匿名組合員[UNK]、[SEP]\n",
            "Prediction: [False  True False]\n",
            "Correct Answer: [0.0, 0.0, 1.0]\n",
            "error_text: [CLS]第[UNK]条[UNK]注[UNK]契約当事者の都合[UNK]下記[UNK]選択[UNK][UNK][SEP]\n",
            "Prediction: [ True False False]\n",
            "Correct Answer: [0.0, 1.0, 0.0]\n",
            "error_text: [CLS][UNK]甲及び乙は、各々自社内[UNK]解決が容易[UNK]、即時に処理[UNK]苦情の他は、相互に遅滞[UNK]通知[UNK]、[UNK]結果[UNK]必ず派遣労働者に通知[UNK]。[SEP]\n",
            "Prediction: [False  True False]\n",
            "Correct Answer: [0.0, 0.0, 1.0]\n",
            "error_text: [CLS][UNK]相手方[UNK]知得[UNK]以前に既に所有[UNK]文書[UNK]証明[UNK]。[SEP]\n",
            "Prediction: [False  True False]\n",
            "Correct Answer: [0.0, 0.0, 1.0]\n",
            "error_text: [CLS][UNK][UNK]仕様の確定[SEP]\n",
            "Prediction: [ True False False]\n",
            "Correct Answer: [0.0, 0.0, 0.0]\n",
            "error_text: [CLS](1)研究題目[SEP]\n",
            "Prediction: [False False  True]\n",
            "Correct Answer: [0.0, 0.0, 0.0]\n",
            "error_text: [CLS]([UNK])[UNK]制の適用[SEP]\n",
            "Prediction: [False False  True]\n",
            "Correct Answer: [0.0, 0.0, 0.0]\n",
            "error_text: [CLS][UNK]=\"[UNK]_[UNK]\"[SEP]\n",
            "Prediction: [False  True False]\n",
            "Correct Answer: [0.0, 0.0, 1.0]\n",
            "error_text: [CLS][UNK]提供証明書を後日市町村の介護保険担当窓口に提出[UNK]、差額の払い戻[UNK]受[UNK]。[SEP]\n",
            "Prediction: [False  True False]\n",
            "Correct Answer: [0.0, 0.0, 0.0]\n",
            "error_text: [CLS]4.[UNK]機能追加[UNK]他本件[UNK]改良[UNK]技術[UNK][SEP]\n",
            "Prediction: [False False False]\n",
            "Correct Answer: [0.0, 0.0, 1.0]\n",
            "error_text: [CLS]第[UNK]条[SEP]\n",
            "Prediction: [ True False False]\n",
            "Correct Answer: [0.0, 1.0, 0.0]\n",
            "error_text: [CLS][UNK]車種[UNK]\\[SEP]\n",
            "Prediction: [False False False]\n",
            "Correct Answer: [0.0, 0.0, 1.0]\n",
            "error_text: [CLS]----------------------------------------------------------------[SEP]\n",
            "Prediction: [False False False]\n",
            "Correct Answer: [0.0, 0.0, 1.0]\n",
            "error_text: [CLS]2.業務内容[UNK][UNK][SEP]\n",
            "Prediction: [False False False]\n",
            "Correct Answer: [0.0, 0.0, 1.0]\n",
            "error_text: [CLS]第[UNK]条本契約は、強制執行認諾約款付公正証書[UNK]。[SEP]\n",
            "Prediction: [False  True False]\n",
            "Correct Answer: [1.0, 0.0, 0.0]\n",
            "error_text: [CLS]約[UNK]。[SEP]\n",
            "Prediction: [False  True False]\n",
            "Correct Answer: [0.0, 0.0, 1.0]\n",
            "error_text: [CLS][UNK][UNK][UNK]元金[SEP]\n",
            "Prediction: [False False False]\n",
            "Correct Answer: [0.0, 0.0, 1.0]\n",
            "error_text: [CLS][UNK][UNK][UNK][UNK]\\[SEP]\n",
            "Prediction: [False False False]\n",
            "Correct Answer: [0.0, 0.0, 1.0]\n",
            "error_text: [CLS][UNK]上司[UNK]営業秘密等管理責任者[UNK]秘密情報[UNK]指定[UNK]情報\\[SEP]\n",
            "Prediction: [False False False]\n",
            "Correct Answer: [0.0, 0.0, 1.0]\n",
            "error_text: [CLS]□適用[UNK][UNK][UNK]週/月/年[UNK]単位の変形労働時間制・交代制[UNK]、[SEP]\n",
            "Prediction: [False  True False]\n",
            "Correct Answer: [0.0, 0.0, 0.0]\n",
            "error_text: [CLS]東京都世田谷区[UNK][UNK][UNK][UNK][UNK][SEP]\n",
            "Prediction: [False False False]\n",
            "Correct Answer: [0.0, 0.0, 1.0]\n",
            "error_text: [CLS]------------------------------------------------------------------------------------------------[SEP]\n",
            "Prediction: [False False False]\n",
            "Correct Answer: [0.0, 0.0, 1.0]\n",
            "error_text: [CLS]保守料は契約日[UNK]発生し、[UNK]年分を一括[UNK]、○月末[UNK]支払[UNK]。次年度以降も同様に、毎年○月末[UNK]年分を支払う。[SEP]\n",
            "Prediction: [False  True False]\n",
            "Correct Answer: [0.0, 0.0, 1.0]\n",
            "error_text: [CLS][UNK][SEP]\n",
            "Prediction: [False False False]\n",
            "Correct Answer: [0.0, 1.0, 0.0]\n",
            "error_text: [CLS]企画・制作・運営[SEP]\n",
            "Prediction: [False False False]\n",
            "Correct Answer: [0.0, 0.0, 1.0]\n",
            "error_text: [CLS]第[UNK]条[SEP]\n",
            "Prediction: [ True False False]\n",
            "Correct Answer: [0.0, 1.0, 0.0]\n",
            "error_text: [CLS]------------------------------------------------------------------[SEP]\n",
            "Prediction: [False False False]\n",
            "Correct Answer: [0.0, 0.0, 1.0]\n",
            "error_text: [CLS][UNK]利用者[UNK]利用料金の支払[UNK]月以上遅延し、料金を支払[UNK]催告[UNK]日以内に支払[UNK]場合[SEP]\n",
            "Prediction: [False False False]\n",
            "Correct Answer: [0.0, 0.0, 1.0]\n",
            "error_text: [CLS](手付)[SEP]\n",
            "Prediction: [False False False]\n",
            "Correct Answer: [1.0, 0.0, 0.0]\n",
            "error_text: [CLS]貸主甲[UNK]合同会社[UNK][UNK]と借主乙[UNK]弁護士法人[UNK][UNK]は、平成[UNK]年〇月〇日、下記不動産[UNK]以下「本貸借物件」[UNK][UNK]、次の条件で使用貸借契約を締結[UNK]合意[UNK]。[SEP]\n",
            "Prediction: [False  True False]\n",
            "Correct Answer: [0.0, 0.0, 0.0]\n",
            "error_text: [CLS][UNK]年式[UNK]\\[SEP]\n",
            "Prediction: [False False False]\n",
            "Correct Answer: [0.0, 0.0, 1.0]\n",
            "error_text: [CLS][UNK]「原則使用不可型」[UNK]条項[UNK][SEP]\n",
            "Prediction: [ True False False]\n",
            "Correct Answer: [0.0, 1.0, 0.0]\n",
            "error_text: [CLS]------------------------------------------------------------------[SEP]\n",
            "Prediction: [False False False]\n",
            "Correct Answer: [0.0, 0.0, 1.0]\n",
            "error_text: [CLS][UNK]旨[UNK]甲に通知し、資金[UNK]明確[UNK]。[SEP]\n",
            "Prediction: [False  True False]\n",
            "Correct Answer: [0.0, 0.0, 0.0]\n",
            "error_text: [CLS]第[UNK]条甲は、乙に対し、後記建物及び付帯設備[UNK]、引渡の日[UNK]満[UNK]年間[UNK]品質及び機能を保証し、自然に生[UNK]故障及び破損を修繕[UNK]。但し、上記期間経過後は、甲は、一切の担保責任を負担[UNK]。[SEP]\n",
            "Prediction: [False  True False]\n",
            "Correct Answer: [1.0, 0.0, 0.0]\n",
            "error_text: [CLS]甲及び乙は、以上の条件[UNK]個別契約を遵守[UNK]確認し、[UNK]本個別契約の成立を証[UNK]、本書[UNK]通を作成し、甲乙記名捺印[UNK]、各[UNK]通を保有[UNK]。[SEP]\n",
            "Prediction: [False  True False]\n",
            "Correct Answer: [0.0, 0.0, 0.0]\n",
            "error_text: [CLS][UNK]甲、乙が相手方の債務不履行[UNK]、相当の期間を定[UNK]催告[UNK]是正[UNK][SEP]\n",
            "Prediction: [False  True False]\n",
            "Correct Answer: [0.0, 0.0, 1.0]\n",
            "error_text: [CLS][UNK][UNK][UNK]諸会計帳簿、伝票等[SEP]\n",
            "Prediction: [False False False]\n",
            "Correct Answer: [0.0, 0.0, 1.0]\n",
            "error_text: [CLS]第[UNK]条[UNK]不保証・免責[UNK]、第[UNK]条[UNK]対価等の不返還[UNK]、第[UNK]条[UNK]損害賠償[UNK]、第[UNK]条[UNK]秘密保[SEP]\n",
            "Prediction: [ True False False]\n",
            "Correct Answer: [0.0, 1.0, 0.0]\n",
            "error_text: [CLS](1)暴力的な要求行為[SEP]\n",
            "Prediction: [False False  True]\n",
            "Correct Answer: [0.0, 0.0, 0.0]\n",
            "error_text: [CLS][UNK][UNK][UNK][SEP]\n",
            "Prediction: [False  True False]\n",
            "Correct Answer: [0.0, 0.0, 0.0]\n",
            "error_text: [CLS]の分配[UNK]支払う。[SEP]\n",
            "Prediction: [False False False]\n",
            "Correct Answer: [0.0, 1.0, 0.0]\n",
            "error_text: [CLS]4.公序良俗に反[UNK]内容の情報、文書[UNK]図形等を他人に公開[UNK]行為。[SEP]\n",
            "Prediction: [False  True  True]\n",
            "Correct Answer: [0.0, 0.0, 1.0]\n",
            "error_text: [CLS]([UNK])締切日:毎月日[SEP]\n",
            "Prediction: [False False  True]\n",
            "Correct Answer: [0.0, 0.0, 0.0]\n",
            "error_text: [CLS][UNK]土地の表示[UNK][SEP]\n",
            "Prediction: [ True False False]\n",
            "Correct Answer: [0.0, 0.0, 0.0]\n",
            "error_text: [CLS]表[UNK][UNK]注[UNK]支障等[UNK]場合は「無」を選択[UNK][UNK][SEP]\n",
            "Prediction: [False  True False]\n",
            "Correct Answer: [0.0, 0.0, 0.0]\n",
            "error_text: [CLS][UNK]依頼者が独断で示談[UNK]和解[UNK]場合。[SEP]\n",
            "Prediction: [False  True False]\n",
            "Correct Answer: [0.0, 0.0, 1.0]\n",
            "error_text: [CLS]四公的機関[UNK]委託を受[UNK]者が法令の定[UNK]事務を遂行[UNK]対[UNK]協力[UNK]必要[UNK]場合[UNK]、本人の同意を得[UNK]、当該事務の遂行に支障を及[UNK][SEP]\n",
            "Prediction: [False  True False]\n",
            "Correct Answer: [0.0, 0.0, 1.0]\n",
            "error_text: [CLS]二相手方[UNK]開示[UNK]、又は知り得た時点で既に自[UNK]保有[UNK]、[UNK]、[UNK]保有[UNK]立証[UNK]。[SEP]\n",
            "Prediction: [False  True False]\n",
            "Correct Answer: [0.0, 0.0, 1.0]\n",
            "error_text: [CLS]売主[UNK]「甲」、買主[UNK]「乙」[UNK]、甲乙間に土地及び建物売買に関し、次の条項[UNK]売買契約を締結[UNK]。[SEP]\n",
            "Prediction: [False  True False]\n",
            "Correct Answer: [0.0, 0.0, 0.0]\n",
            "error_text: [CLS]4.上記[UNK]制作[UNK]内容を、甲[UNK]指示に基[UNK]更新[UNK]。[SEP]\n",
            "Prediction: [False  True False]\n",
            "Correct Answer: [0.0, 0.0, 1.0]\n",
            "error_text: [CLS]納入形式[UNK][UNK]格納し、[UNK]乙に持参[UNK]方法[SEP]\n",
            "Prediction: [False  True False]\n",
            "Correct Answer: [0.0, 0.0, 0.0]\n",
            "error_text: [CLS][UNK]公租公課の滞納処分を受[UNK]。\\[SEP]\n",
            "Prediction: [False  True False]\n",
            "Correct Answer: [0.0, 0.0, 1.0]\n",
            "error_text: [CLS]ハ著作権法[UNK]昭和[UNK]年法律第[UNK]号[UNK]に規定[UNK]著作物及[UNK]著作物[UNK]以下「[UNK]等」[UNK]。[UNK]に係る著作権並[UNK]外国[UNK]上記権利に相当[UNK]権利[SEP]\n",
            "Prediction: [False  True False]\n",
            "Correct Answer: [0.0, 0.0, 0.0]\n",
            "error_text: [CLS][UNK][UNK][UNK]本契約に基[UNK]甲乙間の信頼関係を損[UNK]行為[UNK][SEP]\n",
            "Prediction: [False False  True]\n",
            "Correct Answer: [0.0, 1.0, 0.0]\n",
            "error_text: [CLS][UNK]本給給金[UNK]円\\[SEP]\n",
            "Prediction: [False False False]\n",
            "Correct Answer: [0.0, 0.0, 1.0]\n",
            "error_text: [CLS]四法令の定[UNK]基[UNK]官公庁[UNK]開示を強制[UNK]。[SEP]\n",
            "Prediction: [False  True False]\n",
            "Correct Answer: [0.0, 0.0, 1.0]\n",
            "error_text: [CLS]第[UNK]条乙の賃金は実働[UNK]時間[UNK]金[UNK]円[UNK]。[SEP]\n",
            "Prediction: [False  True False]\n",
            "Correct Answer: [1.0, 0.0, 0.0]\n",
            "error_text: [CLS]年月日[UNK][SEP]\n",
            "Prediction: [False False False]\n",
            "Correct Answer: [0.0, 1.0, 0.0]\n",
            "error_text: [CLS][UNK][SEP]\n",
            "Prediction: [False False False]\n",
            "Correct Answer: [0.0, 1.0, 0.0]\n",
            "error_text: [CLS]第[UNK]条乙の就業時間は次の通[UNK]。[SEP]\n",
            "Prediction: [ True  True False]\n",
            "Correct Answer: [1.0, 0.0, 0.0]\n",
            "error_text: [CLS]匿名組合員は、投資受付期間中は、所定の手続[UNK]、以下の諸条件に従[UNK]、随時、[SEP]\n",
            "Prediction: [False  True False]\n",
            "Correct Answer: [0.0, 0.0, 0.0]\n",
            "error_text: [CLS]【[UNK]名・会社名】[SEP]\n",
            "Prediction: [False False False]\n",
            "Correct Answer: [0.0, 0.0, 1.0]\n",
            "error_text: [CLS][UNK][UNK][UNK][SEP]\n",
            "Prediction: [False  True False]\n",
            "Correct Answer: [1.0, 0.0, 0.0]\n",
            "error_text: [CLS][UNK][UNK][SEP]\n",
            "Prediction: [False  True False]\n",
            "Correct Answer: [0.0, 0.0, 0.0]\n",
            "error_text: [CLS]1.販売地域[UNK]、自ら本製品を販売[UNK][SEP]\n",
            "Prediction: [False False False]\n",
            "Correct Answer: [0.0, 0.0, 1.0]\n",
            "error_text: [CLS]第3条[SEP]\n",
            "Prediction: [ True False False]\n",
            "Correct Answer: [0.0, 1.0, 0.0]\n",
            "error_text: [CLS][UNK]地代家賃等の賃料の請求及び受領[SEP]\n",
            "Prediction: [False False False]\n",
            "Correct Answer: [0.0, 0.0, 1.0]\n",
            "error_text: [CLS]第[UNK]条[SEP]\n",
            "Prediction: [ True False False]\n",
            "Correct Answer: [0.0, 1.0, 0.0]\n",
            "error_text: [CLS]乙は[UNK]共有の知的財産権を独占的に実施[UNK]。[UNK]場合[UNK]乙は当該実施契約で定[UNK]実施料を甲に支払う。出願[UNK]権利化及び権利保全の費用は乙の負担[UNK]。[SEP]\n",
            "Prediction: [False  True False]\n",
            "Correct Answer: [0.0, 0.0, 1.0]\n",
            "error_text: [CLS][UNK]始業時刻午前[UNK]時[SEP]\n",
            "Prediction: [False False False]\n",
            "Correct Answer: [0.0, 0.0, 1.0]\n",
            "error_text: [CLS]------------------------------------------------------------------------------[SEP]\n",
            "Prediction: [False False False]\n",
            "Correct Answer: [0.0, 0.0, 1.0]\n",
            "error_text: [CLS][UNK]工業所有権等の基礎[UNK]発明、考案、意匠が甲乙双方[UNK]完成[UNK]、当該工業所有権等は、甲乙の共有[UNK]。[SEP]\n",
            "Prediction: [False  True False]\n",
            "Correct Answer: [0.0, 0.0, 1.0]\n",
            "error_text: [CLS]第1条[SEP]\n",
            "Prediction: [ True False False]\n",
            "Correct Answer: [0.0, 1.0, 0.0]\n",
            "error_text: [CLS]破産、民事再生、会社更生等の手続申立[UNK]受[UNK]又は自ら申立[UNK]。[SEP]\n",
            "Prediction: [False  True False]\n",
            "Correct Answer: [0.0, 0.0, 1.0]\n",
            "error_text: [CLS][UNK]本件土地を反社会的勢力の事務所[UNK]他の活動の拠点に供[UNK][SEP]\n",
            "Prediction: [False  True False]\n",
            "Correct Answer: [0.0, 0.0, 1.0]\n",
            "error_text: [CLS]技術革新や電力の経済性の劇的な変化[UNK]場合等は、新[UNK]設備[UNK]新規の長期契約の締結[SEP]\n",
            "Prediction: [False  True False]\n",
            "Correct Answer: [0.0, 0.0, 1.0]\n",
            "error_text: [CLS]第[UNK]条天災事変、失火[UNK]類焼[UNK]本件[UNK]階[UNK]平方[UNK]明け渡[UNK]完了前不慮の災厄[UNK]場合[UNK]、本契約[UNK]効力を有[UNK]、乙は本契約代金を支払[UNK]。[SEP]\n",
            "Prediction: [False  True False]\n",
            "Correct Answer: [1.0, 0.0, 0.0]\n",
            "error_text: [CLS][UNK]利用者が死亡[UNK]場合[SEP]\n",
            "Prediction: [False False False]\n",
            "Correct Answer: [0.0, 0.0, 1.0]\n",
            "error_text: [CLS](6)提供物品等[UNK]乙が甲に対し、研究材料及び[UNK]又は機器等の提供の有無を下記の該当箇所[UNK]点[UNK]。[UNK]提供[UNK]場合[UNK]、[UNK]名称、数量、費用、本研究終了後の返還の要否等を下表に記載[UNK]。[UNK][SEP]\n",
            "Prediction: [False False  True]\n",
            "Correct Answer: [0.0, 0.0, 0.0]\n",
            "error_text: [CLS][UNK]譲受人[UNK][SEP]\n",
            "Prediction: [ True False False]\n",
            "Correct Answer: [0.0, 0.0, 0.0]\n",
            "error_text: [CLS]別表[UNK][UNK]第[UNK]条関係[UNK][SEP]\n",
            "Prediction: [ True False False]\n",
            "Correct Answer: [0.0, 0.0, 0.0]\n",
            "error_text: [CLS]第[UNK]章解除等[SEP]\n",
            "Prediction: [ True False False]\n",
            "Correct Answer: [0.0, 0.0, 0.0]\n",
            "error_text: [CLS][UNK]代理人[UNK][SEP]\n",
            "Prediction: [ True False False]\n",
            "Correct Answer: [0.0, 0.0, 0.0]\n",
            "error_text: [CLS]対し当該運搬の費用を請求[UNK]。[SEP]\n",
            "Prediction: [False  True False]\n",
            "Correct Answer: [0.0, 0.0, 0.0]\n",
            "error_text: [CLS]第[UNK]条[UNK]契約終了の際の措置[UNK]本契約が終了[UNK]、乙は、直[UNK]本件店舗[UNK]退去し、甲に対し、本件店舗に関[UNK]帳簿、什器備品等一切を返還[UNK]。[SEP]\n",
            "Prediction: [False  True False]\n",
            "Correct Answer: [1.0, 0.0, 0.0]\n",
            "error_text: [CLS]第[UNK]条借主乙若[UNK]同丙[UNK]、次の事由の一[UNK]生[UNK]場合[UNK]、貸主甲[UNK]通知催告[UNK]借主乙及び同丙は当然に期限の利益を失い、直[UNK]元利金を支払う。[SEP]\n",
            "Prediction: [False False False]\n",
            "Correct Answer: [1.0, 0.0, 0.0]\n",
            "error_text: [CLS]第[UNK]条[SEP]\n",
            "Prediction: [ True False False]\n",
            "Correct Answer: [0.0, 1.0, 0.0]\n",
            "error_text: [CLS][UNK][UNK][UNK]別添の丙の貸借対照表及び損益計算書が、公正な会計原則に従[UNK]作成[UNK]、[UNK]平成[UNK]年[UNK]月[UNK]日現在の丙の財産及び損益の状況を公正[UNK]正確に表示[UNK]。[UNK]、[UNK]財務諸表に明示[UNK]簿外債務、保証[UNK]他の負担が存在[UNK]。[SEP]\n",
            "Prediction: [False False False]\n",
            "Correct Answer: [0.0, 0.0, 1.0]\n",
            "error_text: [CLS]・[UNK][SEP]\n",
            "Prediction: [False  True False]\n",
            "Correct Answer: [0.0, 0.0, 0.0]\n",
            "error_text: [CLS][UNK][UNK]相手方[UNK]慰謝料[UNK]財産分与を減額[UNK]場合は[UNK][UNK]減額[UNK]額[UNK][UNK]に相当[UNK]額と[UNK][UNK]対[UNK]消費税相当分[UNK]。[SEP]\n",
            "Prediction: [False  True False]\n",
            "Correct Answer: [0.0, 0.0, 0.0]\n",
            "error_text: [CLS]第[UNK]条[SEP]\n",
            "Prediction: [ True False False]\n",
            "Correct Answer: [0.0, 1.0, 0.0]\n",
            "error_text: [CLS][UNK]1[UNK]「研究機関当事者」[UNK]、[UNK][UNK]及び[UNK][UNK]を総称[UNK]。[SEP]\n",
            "Prediction: [False  True False]\n",
            "Correct Answer: [0.0, 0.0, 1.0]\n",
            "error_text: [CLS]乙は、日本法に準拠[UNK]適法に設立[UNK]、有効に存在[UNK]株式会社[UNK]。[SEP]\n",
            "Prediction: [False  True False]\n",
            "Correct Answer: [0.0, 0.0, 1.0]\n",
            "error_text: [CLS]第[UNK]条甲は、金[UNK]万円也を、本日乙に貸し付け交付し、乙は、[UNK]借り受[UNK]受け取[UNK]。[SEP]\n",
            "Prediction: [False  True False]\n",
            "Correct Answer: [1.0, 0.0, 0.0]\n",
            "error_text: [CLS][UNK][UNK][UNK]動作確認[SEP]\n",
            "Prediction: [False False  True]\n",
            "Correct Answer: [0.0, 0.0, 0.0]\n",
            "error_text: [CLS][UNK]乙が国税滞納処分又[UNK]差押を受[UNK]。\\[SEP]\n",
            "Prediction: [False  True False]\n",
            "Correct Answer: [0.0, 0.0, 1.0]\n",
            "error_text: [CLS]甲[UNK]解除の申入[UNK]相当の猶予期間[UNK]行[UNK]乙が解雇の予告[UNK]日分以上、当該予告[UNK]日[UNK]解雇の日[UNK]期間[UNK]日に満[UNK]当該解雇日[UNK]日前の日[UNK]当該予告の日[UNK]日数分以上の賃金に相当[UNK]額以上の額[SEP]\n",
            "Prediction: [False  True False]\n",
            "Correct Answer: [0.0, 0.0, 0.0]\n",
            "error_text: [CLS]乙間で締結[UNK]個[UNK]契約(以下、個別契約[UNK])[UNK]適用[SEP]\n",
            "Prediction: [False False False]\n",
            "Correct Answer: [0.0, 1.0, 0.0]\n",
            "error_text: [CLS][UNK]事件等の表示[SEP]\n",
            "Prediction: [ True False False]\n",
            "Correct Answer: [0.0, 0.0, 0.0]\n",
            "error_text: [CLS][UNK]等[UNK]業務[SEP]\n",
            "Prediction: [False False False]\n",
            "Correct Answer: [0.0, 0.0, 1.0]\n",
            "error_text: [CLS][UNK][SEP]\n",
            "Prediction: [False False False]\n",
            "Correct Answer: [0.0, 1.0, 0.0]\n",
            "error_text: [CLS]自ら申立[UNK][SEP]\n",
            "Prediction: [False False False]\n",
            "Correct Answer: [0.0, 0.0, 1.0]\n",
            "error_text: [CLS]ニ)正当な権限を有[UNK]第三者[UNK]秘密保持の義務を伴[UNK]知得[UNK]。[SEP]\n",
            "Prediction: [False  True False]\n",
            "Correct Answer: [0.0, 0.0, 1.0]\n",
            "error_text: [CLS]第3条[UNK]利息[UNK]利息は元金に対し年[UNK]割合[UNK]。[SEP]\n",
            "Prediction: [False  True False]\n",
            "Correct Answer: [1.0, 0.0, 0.0]\n",
            "error_text: [CLS]第[UNK]条乙は、甲に対し、前項の債務を次の通り分割[UNK]甲方に持参又は送金[UNK]支払う。[SEP]\n",
            "Prediction: [False  True False]\n",
            "Correct Answer: [1.0, 0.0, 0.0]\n",
            "error_text: [CLS][UNK][SEP]\n",
            "Prediction: [False False False]\n",
            "Correct Answer: [0.0, 1.0, 0.0]\n",
            "error_text: [CLS]([UNK])休日労働の有無:□無□有[UNK]但し、[UNK]得[UNK]場合に限る[UNK][SEP]\n",
            "Prediction: [False False  True]\n",
            "Correct Answer: [0.0, 0.0, 0.0]\n",
            "error_text: [CLS]る。[SEP]\n",
            "Prediction: [False  True False]\n",
            "Correct Answer: [0.0, 0.0, 0.0]\n",
            "error_text: [CLS][UNK]重大な背信行為[UNK][SEP]\n",
            "Prediction: [ True False False]\n",
            "Correct Answer: [0.0, 0.0, 1.0]\n",
            "error_text: [CLS]一相手方[UNK]開示[UNK]、又は知り得た時点で既に公知[UNK]、又[UNK]後自[UNK]責[UNK]公知[UNK]。[SEP]\n",
            "Prediction: [False  True False]\n",
            "Correct Answer: [0.0, 0.0, 1.0]\n",
            "error_text: [CLS]第[UNK]条[SEP]\n",
            "Prediction: [ True False False]\n",
            "Correct Answer: [0.0, 1.0, 0.0]\n",
            "error_text: [CLS]ア産業廃棄物の発生工程[SEP]\n",
            "Prediction: [False False False]\n",
            "Correct Answer: [0.0, 0.0, 1.0]\n",
            "error_text: [CLS]・[UNK][SEP]\n",
            "Prediction: [False  True False]\n",
            "Correct Answer: [0.0, 0.0, 0.0]\n",
            "error_text: [CLS]------------------------------------------------------------------------------------------------[SEP]\n",
            "Prediction: [False False False]\n",
            "Correct Answer: [0.0, 0.0, 1.0]\n",
            "error_text: [CLS][UNK][UNK]総合[UNK][SEP]\n",
            "Prediction: [ True False False]\n",
            "Correct Answer: [0.0, 0.0, 0.0]\n",
            "error_text: [CLS]平成[UNK]年[UNK]月[UNK]平成[UNK]年[UNK]月[UNK]毎月[UNK]日限り金[UNK]円\\[SEP]\n",
            "Prediction: [False False False]\n",
            "Correct Answer: [0.0, 0.0, 1.0]\n",
            "error_text: [CLS]第[UNK]条甲は、本件土地の公租公課を負担し、本件土地を使用[UNK]必要な諸手続費用、農地転用・地目変更の土地造成費用、[UNK]他土地開発[UNK]費用、維持管理に伴う費用は乙の負担[UNK]。[SEP]\n",
            "Prediction: [False  True False]\n",
            "Correct Answer: [1.0, 0.0, 0.0]\n",
            "error_text: [CLS][UNK]自[UNK]役員[UNK]業務を執行[UNK]社員、取締役、執行役又[UNK]準[UNK]者[UNK][UNK]が反社会的勢力[UNK][SEP]\n",
            "Prediction: [False False False]\n",
            "Correct Answer: [0.0, 0.0, 1.0]\n",
            "error_text: [CLS]一広告宣伝方法の企画、提案[SEP]\n",
            "Prediction: [False False False]\n",
            "Correct Answer: [0.0, 0.0, 1.0]\n",
            "error_text: [CLS]乙は[UNK]共有の知的財産権を[UNK]甲乙が協議の上設定[UNK]事業分野[UNK]地域[UNK][UNK]時期[UNK]以下「設定事業分野等」[UNK]。[UNK][UNK][UNK]独占的に実施[UNK]。[UNK]場合[UNK]乙は甲に対[UNK]当該実施契約で定[UNK]実施料を支払う。[UNK][UNK]甲及び乙は第三者に当該知的財産権[UNK]通常実施権を許諾[UNK]。但し[UNK]甲[UNK]実施権許諾は[UNK]当該設定事業分野等[UNK][UNK]乙に対し[UNK]事前に文書[SEP]\n",
            "Prediction: [False  True False]\n",
            "Correct Answer: [0.0, 0.0, 1.0]\n",
            "error_text: [CLS][UNK][SEP]\n",
            "Prediction: [False False False]\n",
            "Correct Answer: [0.0, 1.0, 0.0]\n",
            "error_text: [CLS](賃借人)[SEP]\n",
            "Prediction: [ True False False]\n",
            "Correct Answer: [0.0, 0.0, 0.0]\n",
            "error_text: [CLS][UNK][UNK][UNK][SEP]\n",
            "Prediction: [False  True False]\n",
            "Correct Answer: [0.0, 0.0, 1.0]\n",
            "error_text: [CLS]ロ乙が他の業者に委託[UNK]場合に、[UNK]業者に対[UNK]報酬を支払う資金が乙[UNK]、乙[UNK]旨を甲に通知し、資金[UNK]明確[UNK]。[SEP]\n",
            "Prediction: [False  True False]\n",
            "Correct Answer: [0.0, 0.0, 0.0]\n",
            "error_text: [CLS][UNK][UNK]建物[UNK][SEP]\n",
            "Prediction: [ True False False]\n",
            "Correct Answer: [0.0, 0.0, 0.0]\n",
            "error_text: [CLS]第[UNK]条甲は乙に対し、本日、金[UNK]万円を貸付け、乙[UNK]受領[UNK]。[SEP]\n",
            "Prediction: [False  True False]\n",
            "Correct Answer: [1.0, 0.0, 0.0]\n",
            "error_text: [CLS][UNK][SEP]\n",
            "Prediction: [False False False]\n",
            "Correct Answer: [0.0, 1.0, 0.0]\n",
            "error_text: [CLS]第[UNK]条利息は年[UNK][UNK][UNK]、乙は、毎月[UNK]日限り当月分を甲方に持参又は送金[UNK]支払う。[SEP]\n",
            "Prediction: [ True  True False]\n",
            "Correct Answer: [1.0, 0.0, 0.0]\n",
            "error_text: [CLS][UNK]納金額[UNK]過不足は[UNK]特約[UNK]場合は事件終了後に清算[UNK]。」[SEP]\n",
            "Prediction: [False  True False]\n",
            "Correct Answer: [0.0, 0.0, 0.0]\n",
            "error_text: [CLS]本契約事項[UNK]乙が違反し、甲が乙に対[UNK]相当の期間を定[UNK]是正措置を要求し、[UNK]指導を行[UNK]改善の余地が見[UNK]場合は、甲[UNK]解雇[UNK]。[SEP]\n",
            "Prediction: [False  True False]\n",
            "Correct Answer: [0.0, 0.0, 0.0]\n",
            "error_text: [CLS][UNK][UNK][UNK]甲又は乙、[UNK]第三者の利益を図る目的又は第三者に損害を加[UNK]目的等[UNK]、暴力団員等を利用[UNK]。[SEP]\n",
            "Prediction: [False  True False]\n",
            "Correct Answer: [0.0, 0.0, 1.0]\n",
            "error_text: [CLS]本契約の締結を証[UNK]甲、乙が署名[UNK]記名[UNK]押印[UNK]本契約の原本2通を作成し、各自[SEP]\n",
            "Prediction: [False  True False]\n",
            "Correct Answer: [0.0, 0.0, 0.0]\n",
            "error_text: [CLS]甲と乙は、次[UNK]金銭消費貸借契約を締結[UNK]。[SEP]\n",
            "Prediction: [False  True False]\n",
            "Correct Answer: [0.0, 0.0, 0.0]\n",
            "error_text: [CLS][UNK][UNK]昇給[SEP]\n",
            "Prediction: [False False False]\n",
            "Correct Answer: [0.0, 0.0, 1.0]\n",
            "error_text: [CLS][UNK]・発明者主義に基[UNK]発明者が所属[UNK]本当事者に帰属[UNK][UNK]第[UNK]条第1項[UNK]、再実施許諾権付き独占的実施権を活用機関に許諾[UNK][UNK]第[UNK]条第2項[UNK][UNK][SEP]\n",
            "Prediction: [False  True False]\n",
            "Correct Answer: [0.0, 0.0, 0.0]\n",
            "error_text: [CLS][UNK]請負金額算定の基礎[UNK]個別契約に定[UNK]委託業務の規模、内容等の条件が変更[UNK]場合[SEP]\n",
            "Prediction: [False  True False]\n",
            "Correct Answer: [0.0, 0.0, 1.0]\n",
            "error_text: [CLS]委託[UNK]廃棄物が、石綿含有産業廃棄物、水銀使用製品産業廃棄物又は水銀含有[UNK]等[UNK]場合は、[UNK]旨を該当[UNK]廃棄物の種類欄に記入[UNK]。[SEP]\n",
            "Prediction: [False  True False]\n",
            "Correct Answer: [0.0, 0.0, 0.0]\n",
            "error_text: [CLS][UNK][UNK]土地及[UNK]土地の引き渡[UNK]終了[UNK]間に、自ら又は第三者を利用[UNK]、[UNK]契約に関[UNK]次の行為[UNK][SEP]\n",
            "Prediction: [False  True False]\n",
            "Correct Answer: [0.0, 0.0, 1.0]\n",
            "error_text: [CLS]甲は、日本法に準拠[UNK]適法に設立[UNK]、有効に存在[UNK]【株式会社】[UNK]。[SEP]\n",
            "Prediction: [False  True False]\n",
            "Correct Answer: [0.0, 0.0, 1.0]\n",
            "error_text: [CLS]第[UNK]条営業譲渡の対価は、算定日[UNK]甲の純資産額[UNK]。[SEP]\n",
            "Prediction: [False  True False]\n",
            "Correct Answer: [1.0, 0.0, 0.0]\n",
            "error_text: [CLS]末日[UNK]日以内に行[UNK][SEP]\n",
            "Prediction: [False False False]\n",
            "Correct Answer: [0.0, 1.0, 0.0]\n",
            "error_text: [CLS][UNK][SEP]\n",
            "Prediction: [False False False]\n",
            "Correct Answer: [0.0, 1.0, 0.0]\n",
            "error_text: [CLS][UNK][UNK][UNK]ご利用者は、複数の指定居宅[UNK]事業者等を紹介[UNK]求[UNK]。[SEP]\n",
            "Prediction: [False  True False]\n",
            "Correct Answer: [0.0, 0.0, 1.0]\n",
            "error_text: [CLS]下記の甲乙間[UNK]、本契約書記載の雇用条件合意に基[UNK]、雇用契約を締結[UNK]。[SEP]\n",
            "Prediction: [False  True False]\n",
            "Correct Answer: [0.0, 0.0, 0.0]\n",
            "error_text: [CLS]第[UNK]条賃料[UNK]月金円[UNK]、乙は、甲に対し、毎月末日[UNK]翌月分を甲に持参[UNK]方法で支払う。[SEP]\n",
            "Prediction: [ True  True False]\n",
            "Correct Answer: [0.0, 1.0, 0.0]\n",
            "error_text: [CLS]第三者[UNK]出資受付が随時[UNK]、及び、本項に基[UNK]出資の撤回が可能[UNK][SEP]\n",
            "Prediction: [False  True False]\n",
            "Correct Answer: [0.0, 0.0, 0.0]\n",
            "error_text: [CLS]七本件[UNK]内の、[UNK]分割及び統合[SEP]\n",
            "Prediction: [False False False]\n",
            "Correct Answer: [0.0, 0.0, 1.0]\n",
            "error_text: [CLS][UNK]利息年[UNK][UNK][SEP]\n",
            "Prediction: [False False False]\n",
            "Correct Answer: [0.0, 0.0, 1.0]\n",
            "error_text: [CLS][UNK]他本事業[UNK]営業者[UNK]取得[UNK]財産の一切を意味[UNK]。[UNK]、本財[SEP]\n",
            "Prediction: [False  True False]\n",
            "Correct Answer: [0.0, 0.0, 1.0]\n",
            "error_text: [CLS]([UNK])[UNK]他、就業規則の定[UNK]。[SEP]\n",
            "Prediction: [False False  True]\n",
            "Correct Answer: [0.0, 0.0, 0.0]\n",
            "error_text: [CLS]本契約の締結を証[UNK]、本契約書[UNK]通作成し、委託者受託者[UNK]通を保管[UNK]。[SEP]\n",
            "Prediction: [False  True False]\n",
            "Correct Answer: [0.0, 0.0, 0.0]\n",
            "error_text: [CLS]第[UNK]条[SEP]\n",
            "Prediction: [ True False False]\n",
            "Correct Answer: [0.0, 1.0, 0.0]\n",
            "error_text: [CLS]ハ上記[UNK]場合、甲は、当該業者に対し、差し当[UNK]、甲の費用負担[UNK]乙[UNK]未処理の事業系一般廃棄物の収集運搬を行[UNK]、乙に対[UNK]、甲が負担[UNK]費用の償還を請求[UNK]。[SEP]\n",
            "Prediction: [False  True False]\n",
            "Correct Answer: [0.0, 0.0, 0.0]\n",
            "error_text: [CLS]関[UNK]、甲の費用[UNK]当該産業廃棄物を引き取[UNK]要求し、[UNK]乙自ら甲方に運搬[UNK]上、甲に[SEP]\n",
            "Prediction: [False  True False]\n",
            "Correct Answer: [0.0, 0.0, 0.0]\n",
            "error_text: [CLS]&[UNK];[UNK]&[UNK];印刷物の名称[UNK]広報[UNK][UNK]以下、「本件印刷物」[UNK]。[UNK][SEP]\n",
            "Prediction: [False  True False]\n",
            "Correct Answer: [0.0, 0.0, 0.0]\n",
            "error_text: [CLS][UNK]譲渡人[UNK][SEP]\n",
            "Prediction: [ True False False]\n",
            "Correct Answer: [0.0, 0.0, 0.0]\n",
            "error_text: [CLS]毎月末日限り、金円[SEP]\n",
            "Prediction: [False False False]\n",
            "Correct Answer: [0.0, 1.0, 0.0]\n",
            "error_text: [CLS][UNK][UNK][UNK]就業機会の確保[SEP]\n",
            "Prediction: [False False  True]\n",
            "Correct Answer: [0.0, 1.0, 0.0]\n",
            "error_text: [CLS]場合。[SEP]\n",
            "Prediction: [False False False]\n",
            "Correct Answer: [0.0, 0.0, 1.0]\n",
            "error_text: [CLS][UNK][SEP]\n",
            "Prediction: [False False False]\n",
            "Correct Answer: [0.0, 1.0, 0.0]\n",
            "error_text: [CLS][UNK]工期着手[UNK]平成[UNK]年[UNK]月[UNK]日[UNK]又は[UNK]契約の日[UNK]日以内[UNK][SEP]\n",
            "Prediction: [False  True False]\n",
            "Correct Answer: [0.0, 0.0, 0.0]\n",
            "error_text: [CLS][UNK]型式[UNK]\\[SEP]\n",
            "Prediction: [False False False]\n",
            "Correct Answer: [0.0, 0.0, 1.0]\n",
            "error_text: [CLS]地方独立行政法人大阪産業技術研究所本部・和泉[UNK][SEP]\n",
            "Prediction: [False False False]\n",
            "Correct Answer: [0.0, 0.0, 1.0]\n",
            "error_text: [CLS]結[UNK]。[SEP]\n",
            "Prediction: [False  True False]\n",
            "Correct Answer: [0.0, 0.0, 0.0]\n",
            "error_text: [CLS]第2条[UNK]弁済方法[UNK]借主は貸主に対し、前条の借入金[UNK]万円を平成[UNK]年[UNK]月[UNK]平成[UNK]年[UNK]月[UNK]毎月[UNK]日限り金[UNK]円也宛合計[UNK]回[UNK]、貸主方に持参又は送金[UNK]割賦弁済[UNK]。[UNK]、最終回の弁済金は金[UNK]円[UNK]。[SEP]\n",
            "Prediction: [False  True False]\n",
            "Correct Answer: [1.0, 0.0, 0.0]\n",
            "error_text: [CLS][UNK]反社会的勢力に自己の名義を利用[UNK]、[UNK]契約を締結[UNK][SEP]\n",
            "Prediction: [False False False]\n",
            "Correct Answer: [0.0, 0.0, 1.0]\n",
            "error_text: [CLS]ハ上記[UNK]場合、甲は、当該業者に対し、差し当[UNK]、甲の費用負担[UNK]、乙[UNK]未処理の産[SEP]\n",
            "Prediction: [False  True False]\n",
            "Correct Answer: [0.0, 0.0, 0.0]\n",
            "error_text: [CLS]以上の合意の証[UNK]、本金銭消費貸借契約書1通を作成し、甲が原本を、乙が[SEP]\n",
            "Prediction: [False  True False]\n",
            "Correct Answer: [0.0, 0.0, 0.0]\n",
            "error_text: [CLS][UNK]自[UNK]役員[UNK]業務を執行[UNK]社員、取締役、執行役又[UNK]準[UNK]者[UNK][UNK]が反社会的勢力[UNK][SEP]\n",
            "Prediction: [False False False]\n",
            "Correct Answer: [0.0, 0.0, 1.0]\n",
            "error_text: [CLS]平成[UNK]年[UNK]月[UNK]日限[UNK]発生[UNK]遅延損害金[SEP]\n",
            "Prediction: [False False False]\n",
            "Correct Answer: [0.0, 0.0, 1.0]\n",
            "error_text: [CLS]売主[UNK]太郎と買主鈴木太郎[UNK]、別紙物件目録記載の土地[UNK]以下、「本物件」[UNK]。[UNK]の売買に関し、次の通り契約[UNK]。\\[SEP]\n",
            "Prediction: [False  True False]\n",
            "Correct Answer: [0.0, 0.0, 0.0]\n",
            "error_text: [CLS]2.丙は、次の貨物自動車を新規購入し、甲の指定[UNK]塗装を施[UNK]。[UNK]、塗装に要[UNK]費用は丙の全額負担[UNK]。[SEP]\n",
            "Prediction: [False  True False]\n",
            "Correct Answer: [1.0, 0.0, 0.0]\n",
            "error_text: [CLS]時[UNK]着手金[UNK]金[UNK]円を支払[UNK]。[SEP]\n",
            "Prediction: [False  True False]\n",
            "Correct Answer: [0.0, 0.0, 0.0]\n",
            "error_text: [CLS]第[UNK]条乙が本契約[UNK]不履行[UNK]、後記土地建物の所有権移転登記の前[UNK]、乙は手付金と同額の損害賠償を甲に支払[UNK]、手付金の返還を求[UNK]。[SEP]\n",
            "Prediction: [False  True False]\n",
            "Correct Answer: [1.0, 0.0, 0.0]\n",
            "error_text: [CLS][UNK][UNK]就業時間[SEP]\n",
            "Prediction: [False False False]\n",
            "Correct Answer: [1.0, 0.0, 0.0]\n",
            "error_text: [CLS][UNK][SEP]\n",
            "Prediction: [False False False]\n",
            "Correct Answer: [0.0, 1.0, 0.0]\n",
            "error_text: [CLS]第3条[SEP]\n",
            "Prediction: [ True False False]\n",
            "Correct Answer: [0.0, 1.0, 0.0]\n",
            "error_text: [CLS]四本件[UNK]解析業務[SEP]\n",
            "Prediction: [False False False]\n",
            "Correct Answer: [0.0, 0.0, 1.0]\n",
            "error_text: [CLS]営業者が本契約を締結し、又は営業者[UNK]基[UNK]権利を行使し、[UNK]義務[SEP]\n",
            "Prediction: [False  True False]\n",
            "Correct Answer: [0.0, 0.0, 1.0]\n",
            "error_text: [CLS]第[UNK]条[UNK]契約に定[UNK]、本共同開発の推進に必要な事項[UNK]、甲乙協議し[SEP]\n",
            "Prediction: [False  True False]\n",
            "Correct Answer: [1.0, 0.0, 0.0]\n",
            "error_text: [CLS][UNK]別表[UNK][SEP]\n",
            "Prediction: [ True False False]\n",
            "Correct Answer: [0.0, 0.0, 0.0]\n",
            "error_text: [CLS]第[UNK]条甲、又は甲の使用人は、防犯、防火等、駐車場の管理保全[UNK]必要[UNK]駐車場内に立ち入り必要な措置を講[UNK]。[SEP]\n",
            "Prediction: [False  True False]\n",
            "Correct Answer: [1.0, 0.0, 0.0]\n",
            "error_text: [CLS][UNK][UNK]賞与[SEP]\n",
            "Prediction: [False False False]\n",
            "Correct Answer: [0.0, 0.0, 1.0]\n",
            "error_text: [CLS]産[UNK]出資金も含[UNK]。[SEP]\n",
            "Prediction: [False  True False]\n",
            "Correct Answer: [0.0, 0.0, 1.0]\n",
            "error_text: [CLS][UNK][UNK]委託[UNK]産業廃棄物の種類、数量及び単価[UNK][SEP]\n",
            "Prediction: [False False False]\n",
            "Correct Answer: [0.0, 1.0, 0.0]\n",
            "error_text: [CLS][UNK]廃棄物の排出事業場、種類、数量、金額及[UNK]他適正処理に必要な情報の提供[UNK][SEP]\n",
            "Prediction: [False False False]\n",
            "Correct Answer: [1.0, 0.0, 0.0]\n",
            "error_text: [CLS][UNK][UNK][UNK]住所[UNK]本店[UNK]他の営業所の所在地、氏名、名称[UNK]商[SEP]\n",
            "Prediction: [False False False]\n",
            "Correct Answer: [0.0, 0.0, 1.0]\n",
            "error_text: [CLS]収集運搬業者[UNK][UNK]以下「乙」[UNK]。[UNK]は、[SEP]\n",
            "Prediction: [False  True False]\n",
            "Correct Answer: [0.0, 0.0, 0.0]\n",
            "error_text: [CLS]以下の預金口座に振り込む方法[UNK][UNK]振込手数料は乙負担[UNK][SEP]\n",
            "Prediction: [False  True False]\n",
            "Correct Answer: [0.0, 0.0, 0.0]\n",
            "error_text: [CLS]第[UNK]条乙は、次の場合、当然期限の利益を失い、[UNK]時[UNK]元利金を一時に支払う。[SEP]\n",
            "Prediction: [False  True False]\n",
            "Correct Answer: [1.0, 0.0, 0.0]\n",
            "error_text: [CLS]収集運搬業者[UNK][UNK]以下「乙」[UNK]。[UNK]は、[SEP]\n",
            "Prediction: [False  True False]\n",
            "Correct Answer: [0.0, 0.0, 0.0]\n",
            "error_text: [CLS]乙は、支払停止、支払不能又は債務超過の状態[UNK]。乙[UNK]、倒産手続、解散又は清算手続は係属[UNK]。[UNK]、[UNK]手続は申し立[UNK]、乙の知り得る限り、[UNK]開始原因又は申立原因は存在[UNK]。[SEP]\n",
            "Prediction: [False  True False]\n",
            "Correct Answer: [0.0, 0.0, 1.0]\n",
            "error_text: [CLS]金[UNK]円[UNK]税込、契約期間[UNK]○年[UNK][SEP]\n",
            "Prediction: [False False False]\n",
            "Correct Answer: [0.0, 0.0, 1.0]\n",
            "error_text: [CLS][UNK]製品開発、製造及び販売[UNK]企画、技術資料、製造原価、価格決定等の情報\\[SEP]\n",
            "Prediction: [False False False]\n",
            "Correct Answer: [0.0, 0.0, 1.0]\n",
            "error_text: [CLS][UNK][UNK]土地[UNK][SEP]\n",
            "Prediction: [ True False False]\n",
            "Correct Answer: [0.0, 0.0, 0.0]\n",
            "error_text: [CLS][UNK]借主乙若[UNK]同丙が貸主甲に通知[UNK]住所を変更[UNK]。[SEP]\n",
            "Prediction: [False  True False]\n",
            "Correct Answer: [0.0, 0.0, 1.0]\n",
            "error_text: [CLS][UNK]、[UNK]期間満了前に第[UNK]条に基[UNK]専用使用権設定契約が締結[UNK]場合は、[UNK]発行日[UNK]。[SEP]\n",
            "Prediction: [False  True False]\n",
            "Correct Answer: [0.0, 0.0, 0.0]\n",
            "error_text: [CLS][UNK][UNK]棟の建物の表示[UNK][SEP]\n",
            "Prediction: [ True False False]\n",
            "Correct Answer: [0.0, 0.0, 0.0]\n",
            "error_text: [CLS]尚、本契約は、上記の契約期間の満了[UNK]当然に終了し、更新は行[UNK]。[SEP]\n",
            "Prediction: [False  True False]\n",
            "Correct Answer: [0.0, 0.0, 0.0]\n",
            "error_text: [CLS]第[UNK]条第[UNK]条の金銭消費貸借契約に基[UNK]、乙が甲に対[UNK]負担[UNK]債務を担保[UNK]、丙の所有[UNK]後記土地の上に次の根抵当権を設定[UNK]。[SEP]\n",
            "Prediction: [False  True False]\n",
            "Correct Answer: [1.0, 0.0, 0.0]\n",
            "error_text: [CLS]二公租公課の滞納処分[UNK]。[SEP]\n",
            "Prediction: [False  True False]\n",
            "Correct Answer: [0.0, 0.0, 1.0]\n",
            "error_text: [CLS][UNK]時間外勤務手当\\[SEP]\n",
            "Prediction: [ True False False]\n",
            "Correct Answer: [0.0, 0.0, 0.0]\n",
            "error_text: [CLS]第[UNK]条甲が前条[UNK]乙に土地建物を引渡[UNK]間に、甲又は乙の責[UNK]事由[UNK]、上記建物が滅失又は甚[UNK]毀損[UNK]、損失は甲の負担[UNK]、本契約は当然解除[UNK]、甲は、乙に対し第[UNK]条第[UNK]項第[UNK]号の手付金を返還[UNK]。[SEP]\n",
            "Prediction: [False  True False]\n",
            "Correct Answer: [1.0, 0.0, 0.0]\n",
            "error_text: [CLS][UNK]日当の額は金[UNK]円[UNK][UNK]報酬金の金額は[UNK]離婚が成立[UNK]場合[UNK]円[UNK][UNK]加[UNK]相手方[UNK]慰謝料[UNK]財産分与を受[UNK]場合[UNK][UNK][UNK]額[UNK][UNK]に相当[UNK]額と[UNK][UNK]対[UNK]消費税相当分[UNK]養育費を受[UNK]場合は[UNK][UNK][UNK]に相当[UNK]額[UNK]養育費が発生[UNK]限り[UNK][UNK]。[SEP]\n",
            "Prediction: [False  True False]\n",
            "Correct Answer: [0.0, 0.0, 0.0]\n",
            "error_text: [CLS](3)許可品目[UNK]、特別管理産業廃棄物は、種類[UNK]記入[UNK]。[SEP]\n",
            "Prediction: [False False  True]\n",
            "Correct Answer: [0.0, 0.0, 0.0]\n",
            "error_text: [CLS][UNK][UNK]直接経費○[UNK][UNK][UNK][UNK]円[UNK][SEP]\n",
            "Prediction: [False False False]\n",
            "Correct Answer: [0.0, 0.0, 1.0]\n",
            "error_text: [CLS][UNK][UNK]成果に関[UNK]知的財産権の帰属[UNK]帰属集約型の場合[UNK][SEP]\n",
            "Prediction: [False  True False]\n",
            "Correct Answer: [0.0, 0.0, 0.0]\n",
            "error_text: [CLS][UNK][UNK][UNK][SEP]\n",
            "Prediction: [False  True False]\n",
            "Correct Answer: [1.0, 0.0, 0.0]\n",
            "error_text: [CLS]※[UNK]場合は以下の条項を使う。[SEP]\n",
            "Prediction: [False  True False]\n",
            "Correct Answer: [0.0, 0.0, 0.0]\n",
            "error_text: [CLS]の内部手続を適法[UNK]適正に完了[UNK]。[SEP]\n",
            "Prediction: [False  True False]\n",
            "Correct Answer: [0.0, 0.0, 1.0]\n",
            "error_text: [CLS]第3条[UNK]納入条件[UNK]甲は、本物品を平成[UNK]年[UNK]月[UNK]日、乙[UNK][UNK][UNK]県[UNK]市[UNK]町[UNK]丁目[UNK]番[UNK]号[UNK]に持参[UNK]納入[UNK]。[UNK]、納入に要[UNK]費用は甲が負担[UNK]。[SEP]\n",
            "Prediction: [False  True False]\n",
            "Correct Answer: [1.0, 0.0, 0.0]\n",
            "error_text: [CLS]2.広告及び看板等に、甲の特約店[UNK]旨を明記[UNK][SEP]\n",
            "Prediction: [False  True False]\n",
            "Correct Answer: [0.0, 0.0, 1.0]\n",
            "error_text: [CLS]額を出資撤回可能上限額[UNK]。[SEP]\n",
            "Prediction: [False  True False]\n",
            "Correct Answer: [0.0, 0.0, 0.0]\n",
            "error_text: [CLS](5)委託研究費金円(消費税込み)[SEP]\n",
            "Prediction: [False False  True]\n",
            "Correct Answer: [0.0, 0.0, 0.0]\n",
            "error_text: [CLS][UNK]甲又は第三者に対[UNK]損害賠償義務[UNK][SEP]\n",
            "Prediction: [False False False]\n",
            "Correct Answer: [1.0, 0.0, 0.0]\n",
            "error_text: [CLS]第[UNK]条[SEP]\n",
            "Prediction: [ True False False]\n",
            "Correct Answer: [0.0, 1.0, 0.0]\n",
            "error_text: [CLS]二[UNK]等の理由[UNK]、一時的に広告が閲覧[UNK]状態[UNK][SEP]\n",
            "Prediction: [False  True False]\n",
            "Correct Answer: [0.0, 0.0, 1.0]\n",
            "error_text: [CLS][UNK][UNK][UNK]休憩時間[UNK]乙の正社員に準[UNK]。[SEP]\n",
            "Prediction: [False False  True]\n",
            "Correct Answer: [0.0, 0.0, 0.0]\n",
            "error_text: [CLS][UNK]乙が甲に通知[UNK]住所を変更[UNK]。\\[SEP]\n",
            "Prediction: [False  True False]\n",
            "Correct Answer: [0.0, 0.0, 1.0]\n",
            "error_text: [CLS][UNK][UNK][UNK]当該紛争が、買主の指示[UNK]設計・仕様等に起因[UNK]場合[SEP]\n",
            "Prediction: [False  True  True]\n",
            "Correct Answer: [0.0, 0.0, 1.0]\n",
            "error_text: [CLS]行為能力を有[UNK]。[SEP]\n",
            "Prediction: [False False False]\n",
            "Correct Answer: [0.0, 0.0, 1.0]\n",
            "error_text: [CLS][UNK][UNK][UNK][SEP]\n",
            "Prediction: [False  True False]\n",
            "Correct Answer: [1.0, 0.0, 0.0]\n",
            "error_text: [CLS]許可を有[UNK]別の業者に自己の費用[UNK]行[UNK]。[SEP]\n",
            "Prediction: [False  True False]\n",
            "Correct Answer: [0.0, 0.0, 0.0]\n",
            "error_text: [CLS][UNK][UNK]使用期間[SEP]\n",
            "Prediction: [ True False False]\n",
            "Correct Answer: [0.0, 0.0, 0.0]\n",
            "error_text: [CLS][UNK][SEP]\n",
            "Prediction: [False False False]\n",
            "Correct Answer: [0.0, 1.0, 0.0]\n",
            "error_text: [CLS][UNK]乙が甲に通知[UNK]住所を変更[UNK]。[SEP]\n",
            "Prediction: [False  True False]\n",
            "Correct Answer: [0.0, 0.0, 1.0]\n",
            "error_text: [CLS][UNK][UNK][UNK]展示会、博覧会、[UNK]、[UNK]他各[SEP]\n",
            "Prediction: [False False False]\n",
            "Correct Answer: [0.0, 0.0, 1.0]\n",
            "error_text: [CLS]甲の事業場[UNK][UNK]排出[UNK]産業廃棄物の処分に関[UNK]次[UNK]契約を締結[UNK]。[SEP]\n",
            "Prediction: [False  True False]\n",
            "Correct Answer: [0.0, 0.0, 0.0]\n",
            "error_text: [CLS][UNK]工業所有権等の基礎[UNK]発明、考案、意匠が甲又は乙[UNK]完成[UNK]、当該工業所有権等は、甲又は乙の単独所有[UNK]。[SEP]\n",
            "Prediction: [False  True False]\n",
            "Correct Answer: [0.0, 0.0, 1.0]\n",
            "error_text: [CLS]株式売買契約[UNK]本件株式を明示[UNK]。[SEP]\n",
            "Prediction: [False  True False]\n",
            "Correct Answer: [0.0, 0.0, 0.0]\n",
            "error_text: [CLS][UNK]土地の表示[UNK][SEP]\n",
            "Prediction: [ True False False]\n",
            "Correct Answer: [0.0, 0.0, 0.0]\n",
            "error_text: [CLS][UNK][UNK][UNK][UNK]、本件[UNK]本契約に基[UNK]新[UNK]開発[UNK]。[SEP]\n",
            "Prediction: [False  True False]\n",
            "Correct Answer: [0.0, 0.0, 1.0]\n",
            "error_text: [CLS][UNK]。[SEP]\n",
            "Prediction: [False  True False]\n",
            "Correct Answer: [0.0, 0.0, 0.0]\n"
          ],
          "name": "stdout"
        }
      ]
    },
    {
      "cell_type": "code",
      "metadata": {
        "id": "QDEUSgRdGqAL"
      },
      "source": [
        ""
      ],
      "execution_count": null,
      "outputs": []
    },
    {
      "cell_type": "code",
      "metadata": {
        "colab": {
          "base_uri": "https://localhost:8080/"
        },
        "id": "tzynoNu_Dzqw",
        "outputId": "b860c8ba-7773-4838-fb08-581f04c670d4"
      },
      "source": [
        "errors"
      ],
      "execution_count": 192,
      "outputs": [
        {
          "output_type": "execute_result",
          "data": {
            "text/plain": [
              "['[CLS][UNK]建物の表示[UNK][SEP]',\n",
              " '[CLS][UNK]乙が当該派遣労働者を休業[UNK][SEP]',\n",
              " '[CLS]二、残代金[UNK]円を平成[UNK]年[UNK]月[UNK]日[UNK]後記表示の建物の所有権移転登記申請並[UNK]敷地の所有者[UNK][UNK]以下、「丙」[UNK]。[UNK]の借地権譲渡の承諾書の交付と引換[UNK]支払う。[SEP]',\n",
              " '[CLS][UNK]秒、[UNK]秒、[UNK]秒、5分の各[UNK]制作[UNK]。[SEP]',\n",
              " '[CLS]売主[UNK]甲、買主[UNK]乙、乙の連帯保証人[UNK]丙[UNK]、該当事者間[UNK]、土地建物分譲[UNK]、次の通り契約を締結[UNK]。[SEP]',\n",
              " '[CLS][UNK]利息の支払日毎月[UNK]日[SEP]',\n",
              " '[CLS][UNK]連絡先及び連絡方法[UNK][SEP]',\n",
              " '[CLS][UNK]回収[UNK]金員を全て回収[UNK]場合。[SEP]',\n",
              " '[CLS]代替商品を無償で提供[UNK]、本製品の代金の全額を返還[UNK]。[SEP]',\n",
              " '[CLS][UNK][UNK]積替保管[UNK][SEP]',\n",
              " '[CLS]算に入[UNK]。[SEP]',\n",
              " '[CLS]甲国立大学法人広島大学[UNK][SEP]',\n",
              " '[CLS][UNK],[UNK][UNK],[UNK][SEP]',\n",
              " '[CLS]乙は、下記の場所[UNK]、甲の就業規則[UNK]他諸規程及び甲の指揮に従い、誠実に行[UNK]。[SEP]',\n",
              " '[CLS][UNK][UNK]調停段階[UNK]受任の場合の着手金の金額は金[UNK]円[UNK][UNK]訴訟に移行[UNK][SEP]',\n",
              " '[CLS][UNK][UNK]調査\\\\[SEP]',\n",
              " '[CLS][UNK]受託研究に従事[UNK]者[UNK][SEP]',\n",
              " '[CLS]を履行[UNK]、営業者に対[UNK]適用[UNK]一切の法令、定款、社内規則又は営[SEP]',\n",
              " '[CLS]但し、年月日[UNK]年月日[UNK]試用期間[UNK]、[SEP]',\n",
              " '[CLS][UNK][UNK][UNK]発注方法乙が甲に対し、甲所定の様式[UNK]注文書[UNK]以下「注文書」[UNK]。[UNK]を交付し、甲が乙に対し、甲所定の様式[UNK]注文請書を交付[UNK]方法[UNK][SEP]',\n",
              " '[CLS][UNK]。[UNK]、特別管理産業廃棄物[UNK]廃石綿等を除く。[UNK]が含[UNK]場合[UNK]、[UNK]旨を廃棄物の種類欄に記入[UNK]。[SEP]',\n",
              " '[CLS][UNK][UNK][UNK]特記事項[SEP]',\n",
              " '[CLS]契約期間中の円契約期間は第[UNK]条記載[UNK][SEP]',\n",
              " '[CLS][UNK][UNK][UNK]前項に定[UNK]事項[UNK]、甲が要求[UNK]事項[UNK]、乙は甲に対し[SEP]',\n",
              " '[CLS](4)契約単価欄は、該当[UNK]単位[UNK]印を付[UNK]。[UNK]、[UNK]回[UNK]契約単価の場合は、「[UNK]円[UNK]回[UNK][UNK][UNK]」[UNK]記入[UNK]。[SEP]',\n",
              " '[CLS]第[UNK]条乙は、甲の書面[UNK]事前の承諾を得[UNK]、本件不動産の現状を変更し、譲渡し、又は第三者[UNK]権利を設定出来[UNK]。[SEP]',\n",
              " '[CLS][UNK]別表[UNK][SEP]',\n",
              " '[CLS]講演録等[UNK]年○月○日[UNK]間[UNK][UNK][UNK]://[UNK][UNK][UNK][UNK][UNK]に掲載し、無料で配信[UNK][SEP]',\n",
              " '[CLS]匿名組合員は、支払不能又は支払停止の状態[UNK]、[UNK]、匿名組合員[UNK]、[SEP]',\n",
              " '[CLS]第[UNK]条[UNK]注[UNK]契約当事者の都合[UNK]下記[UNK]選択[UNK][UNK][SEP]',\n",
              " '[CLS][UNK]甲及び乙は、各々自社内[UNK]解決が容易[UNK]、即時に処理[UNK]苦情の他は、相互に遅滞[UNK]通知[UNK]、[UNK]結果[UNK]必ず派遣労働者に通知[UNK]。[SEP]',\n",
              " '[CLS][UNK]相手方[UNK]知得[UNK]以前に既に所有[UNK]文書[UNK]証明[UNK]。[SEP]',\n",
              " '[CLS][UNK][UNK]仕様の確定[SEP]',\n",
              " '[CLS](1)研究題目[SEP]',\n",
              " '[CLS]([UNK])[UNK]制の適用[SEP]',\n",
              " '[CLS][UNK]=\"[UNK]_[UNK]\"[SEP]',\n",
              " '[CLS][UNK]提供証明書を後日市町村の介護保険担当窓口に提出[UNK]、差額の払い戻[UNK]受[UNK]。[SEP]',\n",
              " '[CLS]4.[UNK]機能追加[UNK]他本件[UNK]改良[UNK]技術[UNK][SEP]',\n",
              " '[CLS]第[UNK]条[SEP]',\n",
              " '[CLS][UNK]車種[UNK]\\\\[SEP]',\n",
              " '[CLS]----------------------------------------------------------------[SEP]',\n",
              " '[CLS]2.業務内容[UNK][UNK][SEP]',\n",
              " '[CLS]第[UNK]条本契約は、強制執行認諾約款付公正証書[UNK]。[SEP]',\n",
              " '[CLS]約[UNK]。[SEP]',\n",
              " '[CLS][UNK][UNK][UNK]元金[SEP]',\n",
              " '[CLS][UNK][UNK][UNK][UNK]\\\\[SEP]',\n",
              " '[CLS][UNK]上司[UNK]営業秘密等管理責任者[UNK]秘密情報[UNK]指定[UNK]情報\\\\[SEP]',\n",
              " '[CLS]□適用[UNK][UNK][UNK]週/月/年[UNK]単位の変形労働時間制・交代制[UNK]、[SEP]',\n",
              " '[CLS]東京都世田谷区[UNK][UNK][UNK][UNK][UNK][SEP]',\n",
              " '[CLS]------------------------------------------------------------------------------------------------[SEP]',\n",
              " '[CLS]保守料は契約日[UNK]発生し、[UNK]年分を一括[UNK]、○月末[UNK]支払[UNK]。次年度以降も同様に、毎年○月末[UNK]年分を支払う。[SEP]',\n",
              " '[CLS][UNK][SEP]',\n",
              " '[CLS]企画・制作・運営[SEP]',\n",
              " '[CLS]第[UNK]条[SEP]',\n",
              " '[CLS]------------------------------------------------------------------[SEP]',\n",
              " '[CLS][UNK]利用者[UNK]利用料金の支払[UNK]月以上遅延し、料金を支払[UNK]催告[UNK]日以内に支払[UNK]場合[SEP]',\n",
              " '[CLS](手付)[SEP]',\n",
              " '[CLS]貸主甲[UNK]合同会社[UNK][UNK]と借主乙[UNK]弁護士法人[UNK][UNK]は、平成[UNK]年〇月〇日、下記不動産[UNK]以下「本貸借物件」[UNK][UNK]、次の条件で使用貸借契約を締結[UNK]合意[UNK]。[SEP]',\n",
              " '[CLS][UNK]年式[UNK]\\\\[SEP]',\n",
              " '[CLS][UNK]「原則使用不可型」[UNK]条項[UNK][SEP]',\n",
              " '[CLS]------------------------------------------------------------------[SEP]',\n",
              " '[CLS][UNK]旨[UNK]甲に通知し、資金[UNK]明確[UNK]。[SEP]',\n",
              " '[CLS]第[UNK]条甲は、乙に対し、後記建物及び付帯設備[UNK]、引渡の日[UNK]満[UNK]年間[UNK]品質及び機能を保証し、自然に生[UNK]故障及び破損を修繕[UNK]。但し、上記期間経過後は、甲は、一切の担保責任を負担[UNK]。[SEP]',\n",
              " '[CLS]甲及び乙は、以上の条件[UNK]個別契約を遵守[UNK]確認し、[UNK]本個別契約の成立を証[UNK]、本書[UNK]通を作成し、甲乙記名捺印[UNK]、各[UNK]通を保有[UNK]。[SEP]',\n",
              " '[CLS][UNK]甲、乙が相手方の債務不履行[UNK]、相当の期間を定[UNK]催告[UNK]是正[UNK][SEP]',\n",
              " '[CLS][UNK][UNK][UNK]諸会計帳簿、伝票等[SEP]',\n",
              " '[CLS]第[UNK]条[UNK]不保証・免責[UNK]、第[UNK]条[UNK]対価等の不返還[UNK]、第[UNK]条[UNK]損害賠償[UNK]、第[UNK]条[UNK]秘密保[SEP]',\n",
              " '[CLS](1)暴力的な要求行為[SEP]',\n",
              " '[CLS][UNK][UNK][UNK][SEP]',\n",
              " '[CLS]の分配[UNK]支払う。[SEP]',\n",
              " '[CLS]4.公序良俗に反[UNK]内容の情報、文書[UNK]図形等を他人に公開[UNK]行為。[SEP]',\n",
              " '[CLS]([UNK])締切日:毎月日[SEP]',\n",
              " '[CLS][UNK]土地の表示[UNK][SEP]',\n",
              " '[CLS]表[UNK][UNK]注[UNK]支障等[UNK]場合は「無」を選択[UNK][UNK][SEP]',\n",
              " '[CLS][UNK]依頼者が独断で示談[UNK]和解[UNK]場合。[SEP]',\n",
              " '[CLS]四公的機関[UNK]委託を受[UNK]者が法令の定[UNK]事務を遂行[UNK]対[UNK]協力[UNK]必要[UNK]場合[UNK]、本人の同意を得[UNK]、当該事務の遂行に支障を及[UNK][SEP]',\n",
              " '[CLS]二相手方[UNK]開示[UNK]、又は知り得た時点で既に自[UNK]保有[UNK]、[UNK]、[UNK]保有[UNK]立証[UNK]。[SEP]',\n",
              " '[CLS]売主[UNK]「甲」、買主[UNK]「乙」[UNK]、甲乙間に土地及び建物売買に関し、次の条項[UNK]売買契約を締結[UNK]。[SEP]',\n",
              " '[CLS]4.上記[UNK]制作[UNK]内容を、甲[UNK]指示に基[UNK]更新[UNK]。[SEP]',\n",
              " '[CLS]納入形式[UNK][UNK]格納し、[UNK]乙に持参[UNK]方法[SEP]',\n",
              " '[CLS][UNK]公租公課の滞納処分を受[UNK]。\\\\[SEP]',\n",
              " '[CLS]ハ著作権法[UNK]昭和[UNK]年法律第[UNK]号[UNK]に規定[UNK]著作物及[UNK]著作物[UNK]以下「[UNK]等」[UNK]。[UNK]に係る著作権並[UNK]外国[UNK]上記権利に相当[UNK]権利[SEP]',\n",
              " '[CLS][UNK][UNK][UNK]本契約に基[UNK]甲乙間の信頼関係を損[UNK]行為[UNK][SEP]',\n",
              " '[CLS][UNK]本給給金[UNK]円\\\\[SEP]',\n",
              " '[CLS]四法令の定[UNK]基[UNK]官公庁[UNK]開示を強制[UNK]。[SEP]',\n",
              " '[CLS]第[UNK]条乙の賃金は実働[UNK]時間[UNK]金[UNK]円[UNK]。[SEP]',\n",
              " '[CLS]年月日[UNK][SEP]',\n",
              " '[CLS][UNK][SEP]',\n",
              " '[CLS]第[UNK]条乙の就業時間は次の通[UNK]。[SEP]',\n",
              " '[CLS]匿名組合員は、投資受付期間中は、所定の手続[UNK]、以下の諸条件に従[UNK]、随時、[SEP]',\n",
              " '[CLS]【[UNK]名・会社名】[SEP]',\n",
              " '[CLS][UNK][UNK][UNK][SEP]',\n",
              " '[CLS][UNK][UNK][SEP]',\n",
              " '[CLS]1.販売地域[UNK]、自ら本製品を販売[UNK][SEP]',\n",
              " '[CLS]第3条[SEP]',\n",
              " '[CLS][UNK]地代家賃等の賃料の請求及び受領[SEP]',\n",
              " '[CLS]第[UNK]条[SEP]',\n",
              " '[CLS]乙は[UNK]共有の知的財産権を独占的に実施[UNK]。[UNK]場合[UNK]乙は当該実施契約で定[UNK]実施料を甲に支払う。出願[UNK]権利化及び権利保全の費用は乙の負担[UNK]。[SEP]',\n",
              " '[CLS][UNK]始業時刻午前[UNK]時[SEP]',\n",
              " '[CLS]------------------------------------------------------------------------------[SEP]',\n",
              " '[CLS][UNK]工業所有権等の基礎[UNK]発明、考案、意匠が甲乙双方[UNK]完成[UNK]、当該工業所有権等は、甲乙の共有[UNK]。[SEP]',\n",
              " '[CLS]第1条[SEP]',\n",
              " '[CLS]破産、民事再生、会社更生等の手続申立[UNK]受[UNK]又は自ら申立[UNK]。[SEP]',\n",
              " '[CLS][UNK]本件土地を反社会的勢力の事務所[UNK]他の活動の拠点に供[UNK][SEP]',\n",
              " '[CLS]技術革新や電力の経済性の劇的な変化[UNK]場合等は、新[UNK]設備[UNK]新規の長期契約の締結[SEP]',\n",
              " '[CLS]第[UNK]条天災事変、失火[UNK]類焼[UNK]本件[UNK]階[UNK]平方[UNK]明け渡[UNK]完了前不慮の災厄[UNK]場合[UNK]、本契約[UNK]効力を有[UNK]、乙は本契約代金を支払[UNK]。[SEP]',\n",
              " '[CLS][UNK]利用者が死亡[UNK]場合[SEP]',\n",
              " '[CLS](6)提供物品等[UNK]乙が甲に対し、研究材料及び[UNK]又は機器等の提供の有無を下記の該当箇所[UNK]点[UNK]。[UNK]提供[UNK]場合[UNK]、[UNK]名称、数量、費用、本研究終了後の返還の要否等を下表に記載[UNK]。[UNK][SEP]',\n",
              " '[CLS][UNK]譲受人[UNK][SEP]',\n",
              " '[CLS]別表[UNK][UNK]第[UNK]条関係[UNK][SEP]',\n",
              " '[CLS]第[UNK]章解除等[SEP]',\n",
              " '[CLS][UNK]代理人[UNK][SEP]',\n",
              " '[CLS]対し当該運搬の費用を請求[UNK]。[SEP]',\n",
              " '[CLS]第[UNK]条[UNK]契約終了の際の措置[UNK]本契約が終了[UNK]、乙は、直[UNK]本件店舗[UNK]退去し、甲に対し、本件店舗に関[UNK]帳簿、什器備品等一切を返還[UNK]。[SEP]',\n",
              " '[CLS]第[UNK]条借主乙若[UNK]同丙[UNK]、次の事由の一[UNK]生[UNK]場合[UNK]、貸主甲[UNK]通知催告[UNK]借主乙及び同丙は当然に期限の利益を失い、直[UNK]元利金を支払う。[SEP]',\n",
              " '[CLS]第[UNK]条[SEP]',\n",
              " '[CLS][UNK][UNK][UNK]別添の丙の貸借対照表及び損益計算書が、公正な会計原則に従[UNK]作成[UNK]、[UNK]平成[UNK]年[UNK]月[UNK]日現在の丙の財産及び損益の状況を公正[UNK]正確に表示[UNK]。[UNK]、[UNK]財務諸表に明示[UNK]簿外債務、保証[UNK]他の負担が存在[UNK]。[SEP]',\n",
              " '[CLS]・[UNK][SEP]',\n",
              " '[CLS][UNK][UNK]相手方[UNK]慰謝料[UNK]財産分与を減額[UNK]場合は[UNK][UNK]減額[UNK]額[UNK][UNK]に相当[UNK]額と[UNK][UNK]対[UNK]消費税相当分[UNK]。[SEP]',\n",
              " '[CLS]第[UNK]条[SEP]',\n",
              " '[CLS][UNK]1[UNK]「研究機関当事者」[UNK]、[UNK][UNK]及び[UNK][UNK]を総称[UNK]。[SEP]',\n",
              " '[CLS]乙は、日本法に準拠[UNK]適法に設立[UNK]、有効に存在[UNK]株式会社[UNK]。[SEP]',\n",
              " '[CLS]第[UNK]条甲は、金[UNK]万円也を、本日乙に貸し付け交付し、乙は、[UNK]借り受[UNK]受け取[UNK]。[SEP]',\n",
              " '[CLS][UNK][UNK][UNK]動作確認[SEP]',\n",
              " '[CLS][UNK]乙が国税滞納処分又[UNK]差押を受[UNK]。\\\\[SEP]',\n",
              " '[CLS]甲[UNK]解除の申入[UNK]相当の猶予期間[UNK]行[UNK]乙が解雇の予告[UNK]日分以上、当該予告[UNK]日[UNK]解雇の日[UNK]期間[UNK]日に満[UNK]当該解雇日[UNK]日前の日[UNK]当該予告の日[UNK]日数分以上の賃金に相当[UNK]額以上の額[SEP]',\n",
              " '[CLS]乙間で締結[UNK]個[UNK]契約(以下、個別契約[UNK])[UNK]適用[SEP]',\n",
              " '[CLS][UNK]事件等の表示[SEP]',\n",
              " '[CLS][UNK]等[UNK]業務[SEP]',\n",
              " '[CLS][UNK][SEP]',\n",
              " '[CLS]自ら申立[UNK][SEP]',\n",
              " '[CLS]ニ)正当な権限を有[UNK]第三者[UNK]秘密保持の義務を伴[UNK]知得[UNK]。[SEP]',\n",
              " '[CLS]第3条[UNK]利息[UNK]利息は元金に対し年[UNK]割合[UNK]。[SEP]',\n",
              " '[CLS]第[UNK]条乙は、甲に対し、前項の債務を次の通り分割[UNK]甲方に持参又は送金[UNK]支払う。[SEP]',\n",
              " '[CLS][UNK][SEP]',\n",
              " '[CLS]([UNK])休日労働の有無:□無□有[UNK]但し、[UNK]得[UNK]場合に限る[UNK][SEP]',\n",
              " '[CLS]る。[SEP]',\n",
              " '[CLS][UNK]重大な背信行為[UNK][SEP]',\n",
              " '[CLS]一相手方[UNK]開示[UNK]、又は知り得た時点で既に公知[UNK]、又[UNK]後自[UNK]責[UNK]公知[UNK]。[SEP]',\n",
              " '[CLS]第[UNK]条[SEP]',\n",
              " '[CLS]ア産業廃棄物の発生工程[SEP]',\n",
              " '[CLS]・[UNK][SEP]',\n",
              " '[CLS]------------------------------------------------------------------------------------------------[SEP]',\n",
              " '[CLS][UNK][UNK]総合[UNK][SEP]',\n",
              " '[CLS]平成[UNK]年[UNK]月[UNK]平成[UNK]年[UNK]月[UNK]毎月[UNK]日限り金[UNK]円\\\\[SEP]',\n",
              " '[CLS]第[UNK]条甲は、本件土地の公租公課を負担し、本件土地を使用[UNK]必要な諸手続費用、農地転用・地目変更の土地造成費用、[UNK]他土地開発[UNK]費用、維持管理に伴う費用は乙の負担[UNK]。[SEP]',\n",
              " '[CLS][UNK]自[UNK]役員[UNK]業務を執行[UNK]社員、取締役、執行役又[UNK]準[UNK]者[UNK][UNK]が反社会的勢力[UNK][SEP]',\n",
              " '[CLS]一広告宣伝方法の企画、提案[SEP]',\n",
              " '[CLS]乙は[UNK]共有の知的財産権を[UNK]甲乙が協議の上設定[UNK]事業分野[UNK]地域[UNK][UNK]時期[UNK]以下「設定事業分野等」[UNK]。[UNK][UNK][UNK]独占的に実施[UNK]。[UNK]場合[UNK]乙は甲に対[UNK]当該実施契約で定[UNK]実施料を支払う。[UNK][UNK]甲及び乙は第三者に当該知的財産権[UNK]通常実施権を許諾[UNK]。但し[UNK]甲[UNK]実施権許諾は[UNK]当該設定事業分野等[UNK][UNK]乙に対し[UNK]事前に文書[SEP]',\n",
              " '[CLS][UNK][SEP]',\n",
              " '[CLS](賃借人)[SEP]',\n",
              " '[CLS][UNK][UNK][UNK][SEP]',\n",
              " '[CLS]ロ乙が他の業者に委託[UNK]場合に、[UNK]業者に対[UNK]報酬を支払う資金が乙[UNK]、乙[UNK]旨を甲に通知し、資金[UNK]明確[UNK]。[SEP]',\n",
              " '[CLS][UNK][UNK]建物[UNK][SEP]',\n",
              " '[CLS]第[UNK]条甲は乙に対し、本日、金[UNK]万円を貸付け、乙[UNK]受領[UNK]。[SEP]',\n",
              " '[CLS][UNK][SEP]',\n",
              " '[CLS]第[UNK]条利息は年[UNK][UNK][UNK]、乙は、毎月[UNK]日限り当月分を甲方に持参又は送金[UNK]支払う。[SEP]',\n",
              " '[CLS][UNK]納金額[UNK]過不足は[UNK]特約[UNK]場合は事件終了後に清算[UNK]。」[SEP]',\n",
              " '[CLS]本契約事項[UNK]乙が違反し、甲が乙に対[UNK]相当の期間を定[UNK]是正措置を要求し、[UNK]指導を行[UNK]改善の余地が見[UNK]場合は、甲[UNK]解雇[UNK]。[SEP]',\n",
              " '[CLS][UNK][UNK][UNK]甲又は乙、[UNK]第三者の利益を図る目的又は第三者に損害を加[UNK]目的等[UNK]、暴力団員等を利用[UNK]。[SEP]',\n",
              " '[CLS]本契約の締結を証[UNK]甲、乙が署名[UNK]記名[UNK]押印[UNK]本契約の原本2通を作成し、各自[SEP]',\n",
              " '[CLS]甲と乙は、次[UNK]金銭消費貸借契約を締結[UNK]。[SEP]',\n",
              " '[CLS][UNK][UNK]昇給[SEP]',\n",
              " '[CLS][UNK]・発明者主義に基[UNK]発明者が所属[UNK]本当事者に帰属[UNK][UNK]第[UNK]条第1項[UNK]、再実施許諾権付き独占的実施権を活用機関に許諾[UNK][UNK]第[UNK]条第2項[UNK][UNK][SEP]',\n",
              " '[CLS][UNK]請負金額算定の基礎[UNK]個別契約に定[UNK]委託業務の規模、内容等の条件が変更[UNK]場合[SEP]',\n",
              " '[CLS]委託[UNK]廃棄物が、石綿含有産業廃棄物、水銀使用製品産業廃棄物又は水銀含有[UNK]等[UNK]場合は、[UNK]旨を該当[UNK]廃棄物の種類欄に記入[UNK]。[SEP]',\n",
              " '[CLS][UNK][UNK]土地及[UNK]土地の引き渡[UNK]終了[UNK]間に、自ら又は第三者を利用[UNK]、[UNK]契約に関[UNK]次の行為[UNK][SEP]',\n",
              " '[CLS]甲は、日本法に準拠[UNK]適法に設立[UNK]、有効に存在[UNK]【株式会社】[UNK]。[SEP]',\n",
              " '[CLS]第[UNK]条営業譲渡の対価は、算定日[UNK]甲の純資産額[UNK]。[SEP]',\n",
              " '[CLS]末日[UNK]日以内に行[UNK][SEP]',\n",
              " '[CLS][UNK][SEP]',\n",
              " '[CLS][UNK][UNK][UNK]ご利用者は、複数の指定居宅[UNK]事業者等を紹介[UNK]求[UNK]。[SEP]',\n",
              " '[CLS]下記の甲乙間[UNK]、本契約書記載の雇用条件合意に基[UNK]、雇用契約を締結[UNK]。[SEP]',\n",
              " '[CLS]第[UNK]条賃料[UNK]月金円[UNK]、乙は、甲に対し、毎月末日[UNK]翌月分を甲に持参[UNK]方法で支払う。[SEP]',\n",
              " '[CLS]第三者[UNK]出資受付が随時[UNK]、及び、本項に基[UNK]出資の撤回が可能[UNK][SEP]',\n",
              " '[CLS]七本件[UNK]内の、[UNK]分割及び統合[SEP]',\n",
              " '[CLS][UNK]利息年[UNK][UNK][SEP]',\n",
              " '[CLS][UNK]他本事業[UNK]営業者[UNK]取得[UNK]財産の一切を意味[UNK]。[UNK]、本財[SEP]',\n",
              " '[CLS]([UNK])[UNK]他、就業規則の定[UNK]。[SEP]',\n",
              " '[CLS]本契約の締結を証[UNK]、本契約書[UNK]通作成し、委託者受託者[UNK]通を保管[UNK]。[SEP]',\n",
              " '[CLS]第[UNK]条[SEP]',\n",
              " '[CLS]ハ上記[UNK]場合、甲は、当該業者に対し、差し当[UNK]、甲の費用負担[UNK]乙[UNK]未処理の事業系一般廃棄物の収集運搬を行[UNK]、乙に対[UNK]、甲が負担[UNK]費用の償還を請求[UNK]。[SEP]',\n",
              " '[CLS]関[UNK]、甲の費用[UNK]当該産業廃棄物を引き取[UNK]要求し、[UNK]乙自ら甲方に運搬[UNK]上、甲に[SEP]',\n",
              " '[CLS]&[UNK];[UNK]&[UNK];印刷物の名称[UNK]広報[UNK][UNK]以下、「本件印刷物」[UNK]。[UNK][SEP]',\n",
              " '[CLS][UNK]譲渡人[UNK][SEP]',\n",
              " '[CLS]毎月末日限り、金円[SEP]',\n",
              " '[CLS][UNK][UNK][UNK]就業機会の確保[SEP]',\n",
              " '[CLS]場合。[SEP]',\n",
              " '[CLS][UNK][SEP]',\n",
              " '[CLS][UNK]工期着手[UNK]平成[UNK]年[UNK]月[UNK]日[UNK]又は[UNK]契約の日[UNK]日以内[UNK][SEP]',\n",
              " '[CLS][UNK]型式[UNK]\\\\[SEP]',\n",
              " '[CLS]地方独立行政法人大阪産業技術研究所本部・和泉[UNK][SEP]',\n",
              " '[CLS]結[UNK]。[SEP]',\n",
              " '[CLS]第2条[UNK]弁済方法[UNK]借主は貸主に対し、前条の借入金[UNK]万円を平成[UNK]年[UNK]月[UNK]平成[UNK]年[UNK]月[UNK]毎月[UNK]日限り金[UNK]円也宛合計[UNK]回[UNK]、貸主方に持参又は送金[UNK]割賦弁済[UNK]。[UNK]、最終回の弁済金は金[UNK]円[UNK]。[SEP]',\n",
              " '[CLS][UNK]反社会的勢力に自己の名義を利用[UNK]、[UNK]契約を締結[UNK][SEP]',\n",
              " '[CLS]ハ上記[UNK]場合、甲は、当該業者に対し、差し当[UNK]、甲の費用負担[UNK]、乙[UNK]未処理の産[SEP]',\n",
              " '[CLS]以上の合意の証[UNK]、本金銭消費貸借契約書1通を作成し、甲が原本を、乙が[SEP]',\n",
              " '[CLS][UNK]自[UNK]役員[UNK]業務を執行[UNK]社員、取締役、執行役又[UNK]準[UNK]者[UNK][UNK]が反社会的勢力[UNK][SEP]',\n",
              " '[CLS]平成[UNK]年[UNK]月[UNK]日限[UNK]発生[UNK]遅延損害金[SEP]',\n",
              " '[CLS]売主[UNK]太郎と買主鈴木太郎[UNK]、別紙物件目録記載の土地[UNK]以下、「本物件」[UNK]。[UNK]の売買に関し、次の通り契約[UNK]。\\\\[SEP]',\n",
              " '[CLS]2.丙は、次の貨物自動車を新規購入し、甲の指定[UNK]塗装を施[UNK]。[UNK]、塗装に要[UNK]費用は丙の全額負担[UNK]。[SEP]',\n",
              " '[CLS]時[UNK]着手金[UNK]金[UNK]円を支払[UNK]。[SEP]',\n",
              " '[CLS]第[UNK]条乙が本契約[UNK]不履行[UNK]、後記土地建物の所有権移転登記の前[UNK]、乙は手付金と同額の損害賠償を甲に支払[UNK]、手付金の返還を求[UNK]。[SEP]',\n",
              " '[CLS][UNK][UNK]就業時間[SEP]',\n",
              " '[CLS][UNK][SEP]',\n",
              " '[CLS]第3条[SEP]',\n",
              " '[CLS]四本件[UNK]解析業務[SEP]',\n",
              " '[CLS]営業者が本契約を締結し、又は営業者[UNK]基[UNK]権利を行使し、[UNK]義務[SEP]',\n",
              " '[CLS]第[UNK]条[UNK]契約に定[UNK]、本共同開発の推進に必要な事項[UNK]、甲乙協議し[SEP]',\n",
              " '[CLS][UNK]別表[UNK][SEP]',\n",
              " '[CLS]第[UNK]条甲、又は甲の使用人は、防犯、防火等、駐車場の管理保全[UNK]必要[UNK]駐車場内に立ち入り必要な措置を講[UNK]。[SEP]',\n",
              " '[CLS][UNK][UNK]賞与[SEP]',\n",
              " '[CLS]産[UNK]出資金も含[UNK]。[SEP]',\n",
              " '[CLS][UNK][UNK]委託[UNK]産業廃棄物の種類、数量及び単価[UNK][SEP]',\n",
              " '[CLS][UNK]廃棄物の排出事業場、種類、数量、金額及[UNK]他適正処理に必要な情報の提供[UNK][SEP]',\n",
              " '[CLS][UNK][UNK][UNK]住所[UNK]本店[UNK]他の営業所の所在地、氏名、名称[UNK]商[SEP]',\n",
              " '[CLS]収集運搬業者[UNK][UNK]以下「乙」[UNK]。[UNK]は、[SEP]',\n",
              " '[CLS]以下の預金口座に振り込む方法[UNK][UNK]振込手数料は乙負担[UNK][SEP]',\n",
              " '[CLS]第[UNK]条乙は、次の場合、当然期限の利益を失い、[UNK]時[UNK]元利金を一時に支払う。[SEP]',\n",
              " '[CLS]収集運搬業者[UNK][UNK]以下「乙」[UNK]。[UNK]は、[SEP]',\n",
              " '[CLS]乙は、支払停止、支払不能又は債務超過の状態[UNK]。乙[UNK]、倒産手続、解散又は清算手続は係属[UNK]。[UNK]、[UNK]手続は申し立[UNK]、乙の知り得る限り、[UNK]開始原因又は申立原因は存在[UNK]。[SEP]',\n",
              " '[CLS]金[UNK]円[UNK]税込、契約期間[UNK]○年[UNK][SEP]',\n",
              " '[CLS][UNK]製品開発、製造及び販売[UNK]企画、技術資料、製造原価、価格決定等の情報\\\\[SEP]',\n",
              " '[CLS][UNK][UNK]土地[UNK][SEP]',\n",
              " '[CLS][UNK]借主乙若[UNK]同丙が貸主甲に通知[UNK]住所を変更[UNK]。[SEP]',\n",
              " '[CLS][UNK]、[UNK]期間満了前に第[UNK]条に基[UNK]専用使用権設定契約が締結[UNK]場合は、[UNK]発行日[UNK]。[SEP]',\n",
              " '[CLS][UNK][UNK]棟の建物の表示[UNK][SEP]',\n",
              " '[CLS]尚、本契約は、上記の契約期間の満了[UNK]当然に終了し、更新は行[UNK]。[SEP]',\n",
              " '[CLS]第[UNK]条第[UNK]条の金銭消費貸借契約に基[UNK]、乙が甲に対[UNK]負担[UNK]債務を担保[UNK]、丙の所有[UNK]後記土地の上に次の根抵当権を設定[UNK]。[SEP]',\n",
              " '[CLS]二公租公課の滞納処分[UNK]。[SEP]',\n",
              " '[CLS][UNK]時間外勤務手当\\\\[SEP]',\n",
              " '[CLS]第[UNK]条甲が前条[UNK]乙に土地建物を引渡[UNK]間に、甲又は乙の責[UNK]事由[UNK]、上記建物が滅失又は甚[UNK]毀損[UNK]、損失は甲の負担[UNK]、本契約は当然解除[UNK]、甲は、乙に対し第[UNK]条第[UNK]項第[UNK]号の手付金を返還[UNK]。[SEP]',\n",
              " '[CLS][UNK]日当の額は金[UNK]円[UNK][UNK]報酬金の金額は[UNK]離婚が成立[UNK]場合[UNK]円[UNK][UNK]加[UNK]相手方[UNK]慰謝料[UNK]財産分与を受[UNK]場合[UNK][UNK][UNK]額[UNK][UNK]に相当[UNK]額と[UNK][UNK]対[UNK]消費税相当分[UNK]養育費を受[UNK]場合は[UNK][UNK][UNK]に相当[UNK]額[UNK]養育費が発生[UNK]限り[UNK][UNK]。[SEP]',\n",
              " '[CLS](3)許可品目[UNK]、特別管理産業廃棄物は、種類[UNK]記入[UNK]。[SEP]',\n",
              " '[CLS][UNK][UNK]直接経費○[UNK][UNK][UNK][UNK]円[UNK][SEP]',\n",
              " '[CLS][UNK][UNK]成果に関[UNK]知的財産権の帰属[UNK]帰属集約型の場合[UNK][SEP]',\n",
              " '[CLS][UNK][UNK][UNK][SEP]',\n",
              " '[CLS]※[UNK]場合は以下の条項を使う。[SEP]',\n",
              " '[CLS]の内部手続を適法[UNK]適正に完了[UNK]。[SEP]',\n",
              " '[CLS]第3条[UNK]納入条件[UNK]甲は、本物品を平成[UNK]年[UNK]月[UNK]日、乙[UNK][UNK][UNK]県[UNK]市[UNK]町[UNK]丁目[UNK]番[UNK]号[UNK]に持参[UNK]納入[UNK]。[UNK]、納入に要[UNK]費用は甲が負担[UNK]。[SEP]',\n",
              " '[CLS]2.広告及び看板等に、甲の特約店[UNK]旨を明記[UNK][SEP]',\n",
              " '[CLS]額を出資撤回可能上限額[UNK]。[SEP]',\n",
              " '[CLS](5)委託研究費金円(消費税込み)[SEP]',\n",
              " '[CLS][UNK]甲又は第三者に対[UNK]損害賠償義務[UNK][SEP]',\n",
              " '[CLS]第[UNK]条[SEP]',\n",
              " '[CLS]二[UNK]等の理由[UNK]、一時的に広告が閲覧[UNK]状態[UNK][SEP]',\n",
              " '[CLS][UNK][UNK][UNK]休憩時間[UNK]乙の正社員に準[UNK]。[SEP]',\n",
              " '[CLS][UNK]乙が甲に通知[UNK]住所を変更[UNK]。\\\\[SEP]',\n",
              " '[CLS][UNK][UNK][UNK]当該紛争が、買主の指示[UNK]設計・仕様等に起因[UNK]場合[SEP]',\n",
              " '[CLS]行為能力を有[UNK]。[SEP]',\n",
              " '[CLS][UNK][UNK][UNK][SEP]',\n",
              " '[CLS]許可を有[UNK]別の業者に自己の費用[UNK]行[UNK]。[SEP]',\n",
              " '[CLS][UNK][UNK]使用期間[SEP]',\n",
              " '[CLS][UNK][SEP]',\n",
              " '[CLS][UNK]乙が甲に通知[UNK]住所を変更[UNK]。[SEP]',\n",
              " '[CLS][UNK][UNK][UNK]展示会、博覧会、[UNK]、[UNK]他各[SEP]',\n",
              " '[CLS]甲の事業場[UNK][UNK]排出[UNK]産業廃棄物の処分に関[UNK]次[UNK]契約を締結[UNK]。[SEP]',\n",
              " '[CLS][UNK]工業所有権等の基礎[UNK]発明、考案、意匠が甲又は乙[UNK]完成[UNK]、当該工業所有権等は、甲又は乙の単独所有[UNK]。[SEP]',\n",
              " '[CLS]株式売買契約[UNK]本件株式を明示[UNK]。[SEP]',\n",
              " '[CLS][UNK]土地の表示[UNK][SEP]',\n",
              " '[CLS][UNK][UNK][UNK][UNK]、本件[UNK]本契約に基[UNK]新[UNK]開発[UNK]。[SEP]',\n",
              " '[CLS][UNK]。[SEP]']"
            ]
          },
          "metadata": {
            "tags": []
          },
          "execution_count": 192
        }
      ]
    },
    {
      "cell_type": "code",
      "metadata": {
        "colab": {
          "base_uri": "https://localhost:8080/"
        },
        "id": "5otW-b3xD17s",
        "outputId": "cf3a78d2-73ec-4cfa-d76f-f20e74ede75d"
      },
      "source": [
        "len(errors)"
      ],
      "execution_count": 193,
      "outputs": [
        {
          "output_type": "execute_result",
          "data": {
            "text/plain": [
              "262"
            ]
          },
          "metadata": {
            "tags": []
          },
          "execution_count": 193
        }
      ]
    },
    {
      "cell_type": "code",
      "metadata": {
        "colab": {
          "base_uri": "https://localhost:8080/"
        },
        "id": "dDwt-i6WEjnq",
        "outputId": "78fb85e6-5222-4325-a282-b119303cad3f"
      },
      "source": [
        "unk_count = 0\n",
        "for error in errors:\n",
        "  if \"[UNK]\" not in error:\n",
        "    print(\"No unk data: {}\".format(error))\n",
        "  else:\n",
        "    unk_count += 1\n",
        "print(\"[UNK]存在数: {}\".format(unk_count))\n",
        "print(\"[UNK]率: {}\".format(unk_count/len(errors)))"
      ],
      "execution_count": 195,
      "outputs": [
        {
          "output_type": "stream",
          "text": [
            "No unk data: [CLS](1)研究題目[SEP]\n",
            "No unk data: [CLS]----------------------------------------------------------------[SEP]\n",
            "No unk data: [CLS]------------------------------------------------------------------------------------------------[SEP]\n",
            "No unk data: [CLS]企画・制作・運営[SEP]\n",
            "No unk data: [CLS]------------------------------------------------------------------[SEP]\n",
            "No unk data: [CLS](手付)[SEP]\n",
            "No unk data: [CLS]------------------------------------------------------------------[SEP]\n",
            "No unk data: [CLS](1)暴力的な要求行為[SEP]\n",
            "No unk data: [CLS]第3条[SEP]\n",
            "No unk data: [CLS]------------------------------------------------------------------------------[SEP]\n",
            "No unk data: [CLS]第1条[SEP]\n",
            "No unk data: [CLS]る。[SEP]\n",
            "No unk data: [CLS]ア産業廃棄物の発生工程[SEP]\n",
            "No unk data: [CLS]------------------------------------------------------------------------------------------------[SEP]\n",
            "No unk data: [CLS]一広告宣伝方法の企画、提案[SEP]\n",
            "No unk data: [CLS](賃借人)[SEP]\n",
            "No unk data: [CLS]毎月末日限り、金円[SEP]\n",
            "No unk data: [CLS]場合。[SEP]\n",
            "No unk data: [CLS]第3条[SEP]\n",
            "No unk data: [CLS](5)委託研究費金円(消費税込み)[SEP]\n",
            "[UNK]存在数: 242\n",
            "[UNK]率: 0.9236641221374046\n"
          ],
          "name": "stdout"
        }
      ]
    },
    {
      "cell_type": "markdown",
      "metadata": {
        "id": "SBTsslZkEWSE"
      },
      "source": [
        "### 考察\n",
        "\n",
        "- エラーの92％も[UNK]が入ったデータが占めている。そのため、やはり語彙に問題がある。やはりUNKが非常に足を引っ張っていると考えられるため、tokenizerを変えて、UNKをなくすことが有効と考えられる。\n",
        "- 誤って分類したものとして、 `----` が見られる。これはアノテーションが号となっているが、正解なのか。要確認。\n",
        "\n",
        "\n"
      ]
    },
    {
      "cell_type": "code",
      "metadata": {
        "id": "-Uo_t1dA_FKG"
      },
      "source": [
        ""
      ],
      "execution_count": null,
      "outputs": []
    },
    {
      "cell_type": "code",
      "metadata": {
        "id": "nQnO8hA5_DY9"
      },
      "source": [
        ""
      ],
      "execution_count": null,
      "outputs": []
    },
    {
      "cell_type": "code",
      "metadata": {
        "id": "B1_gCx7ziNEu"
      },
      "source": [
        ""
      ],
      "execution_count": null,
      "outputs": []
    },
    {
      "cell_type": "code",
      "metadata": {
        "id": "flhMFOuTh5hM"
      },
      "source": [
        ""
      ],
      "execution_count": null,
      "outputs": []
    },
    {
      "cell_type": "code",
      "metadata": {
        "id": "DMthWTQh2dJP"
      },
      "source": [
        ""
      ],
      "execution_count": null,
      "outputs": []
    },
    {
      "cell_type": "markdown",
      "metadata": {
        "id": "PjKHl_oD2duj"
      },
      "source": [
        "https://developers.google.com/machine-learning/glossary#bias-ethicsfairness\n",
        "https://developers.google.com/machine-learning/glossary#class-imbalanced-dataset\n",
        "https://developers.google.com/machine-learning/glossary#confusion-matrix\n",
        "https://developers.google.com/machine-learning/glossary#decision-tree\n",
        "https://developers.google.com/machine-learning/glossary#downsampling\n",
        "https://developers.google.com/machine-learning/glossary#embeddings\n",
        "https://developers.google.com/machine-learning/glossary#feature-extraction\n",
        "https://developers.google.com/machine-learning/glossary#generalization-curve\n",
        "https://developers.google.com/machine-learning/glossary#hyperparameter\n",
        "https://developers.google.com/machine-learning/glossary#inference\n",
        "https://developers.google.com/machine-learning/glossary#interpretability\n",
        "https://developers.google.com/machine-learning/glossary#linear-model\n",
        "https://developers.google.com/machine-learning/glossary#loss-curve\n",
        "https://developers.google.com/machine-learning/glossary#model-capacity\n",
        "https://developers.google.com/machine-learning/glossary#noise\n",
        "https://developers.google.com/machine-learning/glossary#normalization\n",
        "https://developers.google.com/machine-learning/glossary#performance\n",
        "https://developers.google.com/machine-learning/glossary#pre-trained-model\n",
        "https://developers.google.com/machine-learning/glossary#regularization\n",
        "https://developers.google.com/machine-learning/glossary#underfitting\n",
        "https://developers.google.com/machine-learning/glossary#unsupervised-machine-learning\n"
      ]
    }
  ]
}